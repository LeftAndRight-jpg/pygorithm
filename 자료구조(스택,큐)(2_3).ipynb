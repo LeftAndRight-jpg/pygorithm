{
  "nbformat": 4,
  "nbformat_minor": 0,
  "metadata": {
    "colab": {
      "provenance": [],
      "include_colab_link": true
    },
    "kernelspec": {
      "name": "python3",
      "display_name": "Python 3"
    },
    "language_info": {
      "name": "python"
    }
  },
  "cells": [
    {
      "cell_type": "markdown",
      "metadata": {
        "id": "view-in-github",
        "colab_type": "text"
      },
      "source": [
        "<a href=\"https://colab.research.google.com/github/LeftAndRight-jpg/pygorithm/blob/main/%EC%9E%90%EB%A3%8C%EA%B5%AC%EC%A1%B0(%EC%8A%A4%ED%83%9D%2C%ED%81%90)(2_3).ipynb\" target=\"_parent\"><img src=\"https://colab.research.google.com/assets/colab-badge.svg\" alt=\"Open In Colab\"/></a>"
      ]
    },
    {
      "cell_type": "markdown",
      "source": [
        "# 자료 구조\n",
        "* 일상 생활에서 자료를 정리하고 조직화하는 이유는?\n",
        "  * 사물을 편리하고 효율적으로 사용하기 위함\n",
        "  * 다양한 자료를 효율적인 규칙에 따라 정리\n",
        "<br><br>\n",
        "<img src='https://drive.google.com/uc?id=1rQRbmj2vkYGQFz-HZZp68IIKEUWRg7BC' width=800>\n",
        "<br><br>\n",
        "* 컴퓨터에서의 자료구조\n",
        "  * 데이터를 효율적으로 관리하기 위하여 구조화한 것\n",
        "* 종류\n",
        "  * 선형 자료 구조 : 데이터를 일대일로 구조화한 것(리스트, 스택, 큐)\n",
        "  * 비선형 자료 구조 : 데이터를 일대다, 다대다로 구조화한 것(트리, 그래프)\n",
        "<br><br>\n",
        "<img src='https://drive.google.com/uc?id=1rUk1bIMUjcpOmnyer2FuaZ63KX_QYX04' width=600>"
      ],
      "metadata": {
        "id": "IOMMnj4ZU-oO"
      }
    },
    {
      "cell_type": "markdown",
      "source": [
        "#1.큐(queue)\n",
        "* 개념<br>\n",
        "  * 선입 선출(FIFO: First In First Out) 방식의 선형 데이터 구조\n",
        "  * '먼저 입력된 것이 먼저 출력된다'라는 뜻으로 줄을 서는 것과 같다.\n",
        "* 연산\n",
        "  * 삽입(push) : 데이터를 큐의 입구에 저장하는 연산으로, 이때 새로운 데이터는 입구에 줄을 세우는 방식\n",
        "  * 삭제(pop) : 데이터를 큐로부터 제거하는 연산으로, 이때 출구(front)에 있는 데이터가 가장 먼저 제거된다.\n",
        "  * 삽입은 입구에서만 이루어지고, 삭제는 출구에서만 이루어진다.<br><br>\n",
        "  <img src='https://drive.google.com/uc?id=1DVDr56pDFJFPnCMrLPdwusURoNYLLu1R' width=600>\n"
      ],
      "metadata": {
        "id": "M3BL9t2qVBg_"
      }
    },
    {
      "cell_type": "markdown",
      "source": [
        "##큐의 동작 이해하기\n",
        "<img src='https://drive.google.com/uc?id=1EJV03ys3u_kWUAbxF4m8nLQwhbA3dEuB' width=800><br>\n",
        "<img src='https://drive.google.com/uc?id=1EKEed4eTc98PVYAxAeXccOHrog6nXA_4' width=800>"
      ],
      "metadata": {
        "id": "8migGFuQIw1F"
      }
    },
    {
      "cell_type": "code",
      "source": [
        "# 프로그래밍으로 큐 구현하기\n",
        "\n",
        "queue = []\n",
        "def push(x):\n",
        "  queue.append(x)\n",
        "def pop():\n",
        "  return queue.pop(0)\n",
        "\n",
        "for i in range(1, 6):\n",
        "  push(i)\n",
        "\n",
        "for _ in range(1, 6):\n",
        "  print(pop())\n"
      ],
      "metadata": {
        "id": "WJdhd9gtP-M5"
      },
      "execution_count": null,
      "outputs": []
    },
    {
      "cell_type": "markdown",
      "source": [
        "## 큐를 활용하여 실생활 문제 해결하기\n",
        "<img src='https://drive.google.com/uc?id=1DZphtsHYMH4xbxjxkUMoC4xrWIYhwQZQ' width=800>\n",
        "<img src='https://drive.google.com/uc?id=1DcMsJaxTqt7MBbjSAHtNNFza24-XXoCT' width=800>"
      ],
      "metadata": {
        "id": "iXKMiBvqTmF3"
      }
    },
    {
      "cell_type": "code",
      "source": [
        "# 큐를 활용하여 실생활 문제 해결하기\n",
        "\n",
        "a = [1,1,0,1,0,1,0,0,1,1,1,1,1,0,0,0,1,0,0,0] #1은 삽입, 0은 삭제를 의미함.\n",
        "queue = []\n",
        "def push(x):\n",
        "  queue.append(x)       # 맨 뒤에 삽입\n",
        "def pop():\n",
        "  return queue.pop(0)   # 가장 먼저 삽입된 값을 삭제 후 반환\n",
        "id = 1    # 고객 번호표\n",
        "st = 1    # 순서(단계)\n",
        "for i in a :\n",
        "  print(f'{st:2d} 단계 -', end=' ')\n",
        "  if i == 1 :\n",
        "    print(f'고객 {id:2d} 대기 번호 발급', end=' ')\n",
        "    push(id)\n",
        "    id += 1\n",
        "  else:\n",
        "    print(f'고객 {pop():2d} 업무 완료 귀가', end=' ')\n",
        "  print('(대기 인원 =',len(queue),')')\n",
        "  st += 1"
      ],
      "metadata": {
        "id": "hh-AnOj0SCtf"
      },
      "execution_count": null,
      "outputs": []
    },
    {
      "cell_type": "code",
      "source": [
        "# 큐 모듈을 활용하여 큐 구현하기\n",
        "\n",
        "# put(): 큐에 요소 추가\n",
        "# empty(): 큐가 비었는지 확인\n",
        "# get(): 큐에서 요소 제거 후 반환(FIFO)\n",
        "\n",
        "import queue\n",
        "q = queue.Queue()       # FIFO(First-In-First-Out) 방식의 큐 객체 생성\n",
        "for i in range(1, 6):\n",
        "  q.put(i)\n",
        "while not q.empty():\n",
        "  print(q.get())        # 큐에서 가장 먼저 들어온 항목을 꺼내서 출력\n"
      ],
      "metadata": {
        "id": "CNV13Z0hQKZw"
      },
      "execution_count": null,
      "outputs": []
    },
    {
      "cell_type": "code",
      "source": [
        "# 큐 모듈을 활용하여 실생활의 문제 프로그래밍 해결하기\n",
        "\n",
        "# qsize() : 현재 큐에 남아 있는 고객 수 (대기 인원 수)\n",
        "\n",
        "\n",
        "a = [1,1,0,1,0,1,0,0,1,1,1,1,1,0,0,0,1,0,0,0] #1은 삽입, 0은 삭제를 의미함.\n",
        "\n",
        "\n",
        "\n",
        "\n",
        "\n",
        "\n",
        "\n",
        "\n"
      ],
      "metadata": {
        "id": "beSbzunKy45G"
      },
      "execution_count": null,
      "outputs": []
    },
    {
      "cell_type": "markdown",
      "source": [
        "# 큐를 활용한 문제 해결: 8퍼즐\n",
        "* 3×3 보드에서 각 숫자를 이동하여 순서에 맞게 배열하는 퍼즐 놀이\n",
        "* 현재 상태로부터 원하는 목표 상태가 되도록 숫자판을 빈칸으로 옮기는 과정을 반복하여 문제를 해결하는 놀이\n",
        "* 큐를 활용하면 최소 횟수로 해결할 수 있다.\n",
        "<br>\n",
        "<img src='https://drive.google.com/uc?id=1DdOoKVft26QYPqbDRPVR-nzvD7FCcKSS' width=200>"
      ],
      "metadata": {
        "id": "bZpcVNCc2lHA"
      }
    },
    {
      "cell_type": "markdown",
      "source": [
        "<img src='https://drive.google.com/uc?id=1DebwHJIrW6PP0uCOs6BOG8NJjsv8pudZ' width=800>"
      ],
      "metadata": {
        "id": "udGdppwR4-RV"
      }
    },
    {
      "cell_type": "code",
      "source": [],
      "metadata": {
        "id": "F1WXinIy55Wj"
      },
      "execution_count": null,
      "outputs": []
    },
    {
      "cell_type": "markdown",
      "source": [
        "<img src='https://drive.google.com/uc?id=1DfnWkC0DdcGpPddOtaD7v9p7UaZgnKlf' width=800>"
      ],
      "metadata": {
        "id": "hwsMt-jG6vno"
      }
    },
    {
      "cell_type": "markdown",
      "source": [
        "<img src='https://drive.google.com/uc?id=1Di_DTh20jpE48M-RojDJ-zO_8_P0jH7x' width=800>\n",
        "<br>\n",
        "<img src='https://drive.google.com/uc?id=1DiGwjsyDbcCdFumPXZ1JwARN__3FV-Ia' width=800>"
      ],
      "metadata": {
        "id": "fmBbbT9umMKa"
      }
    },
    {
      "cell_type": "markdown",
      "source": [
        "# 퍼즐의 다음 상태를 표현하는 프로그램 작성하기\n",
        "* 수행 작업1(위로 이동)<br>\n",
        "<img src='https://drive.google.com/uc?id=1DsjlNqcqdCy-Ysx6kTbjV37-F7ztQ6CQ' width=800>"
      ],
      "metadata": {
        "id": "AIZhbklEn2U7"
      }
    },
    {
      "cell_type": "code",
      "source": [
        "# '0'의 위치를 위로 한 칸 이동\n",
        "\n",
        "s = [0] * 9     # [0, 0, 0, 0, 0, 0, 0, 0, 0]\n",
        "for i in range(3):\n",
        "  s[i*3], s[i*3+1], s[i*3+2] = map(int, input().split())\n",
        "  for j in range(3):\n",
        "    if s[i*3+j] == 0:       # 각 행의 3칸 중에서 0(빈칸)의 위치를 찾는다\n",
        "      pos = i*3+j           # 전체 리스트에서 0의 인덱스 저장\n",
        "print()                     # 숫자 입력 후 빈 출 추가\n",
        "\n",
        "if pos > 2:                 # 0이 맨 윗줄(인덱스 0~2)에 있지 않으면 위쪽 원소와 교환 (위로 이동)\n",
        "  s[pos], s[pos-3] = s[pos-3], s[pos]     # 0과 그 위의 숫자를 서로 교환\n",
        "\n",
        "  for i in range(3):        # 결과 출력: 3x3 형식으로 출력\n",
        "    for j in range(3):\n",
        "      print(s[i*3+j], end=' ')\n",
        "    print()                 # 행마다 줄 바꿈\n",
        "\n",
        "else:\n",
        "  print(\"Impossible\\n\")"
      ],
      "metadata": {
        "id": "v2_q4dUio0jK"
      },
      "execution_count": null,
      "outputs": []
    },
    {
      "cell_type": "markdown",
      "source": [
        "# 큐를 활용하여 퍼즐 문제를 프로그래밍으로 해결하기\n",
        "* 8퍼즐의 현재 상태가 주어질 때, 다음 목표 상태를 만들기 위하여 필요한 최소 연산 횟수를 구하는 프로그램을 작성해 보자.<br>\n",
        "<img src='https://drive.google.com/uc?id=1DyWDNj1GJS77fkmJ4749DBTXTSjPj4uq' width=800>"
      ],
      "metadata": {
        "id": "DPpQcAwRwV2z"
      }
    },
    {
      "cell_type": "markdown",
      "source": [
        "# BFS(Breadth-First Search, 너비 우선 탐색)\n",
        "* 그래프 또는 상태 공간에서 가장 가까운 것부터 차례대로 탐색하는 방식<br>\n",
        "→ 최단 거리(또는 최소 횟수)를 찾을 때 유용<br><br>\n",
        "* 퍼즐 문제에서의 BFS 적용 과정\n",
        "  * 예를 들어 \"023145786\"이라는 8퍼즐 시작 상태에서 \"123456780\"에 도달하고 싶다면:\n",
        "    * 시작 상태를 큐에 저장<br>\n",
        "      → q.put(('023145786', 0))\n",
        "    * 큐에서 상태를 하나 꺼냄<br>\n",
        "      → '023145786', 이동횟수 0\n",
        "    * 빈칸(0)의 위치에서 상하좌우로 이동 가능한 새 상태를 모두 생성<br>\n",
        "      → 각각에 대해 cnt+1을 함께 저장\n",
        "    * 방문하지 않은 상태만 큐에 추가\n",
        "    * 반복: 큐가 빌 때까지 또는 목표 상태에 도달할 때까지\n",
        "    * 목표 상태에 도달하면 그때의 cnt를 반환"
      ],
      "metadata": {
        "id": "mQ7WOwXdGWW2"
      }
    },
    {
      "cell_type": "code",
      "source": [
        "import queue\n",
        "# 퍼즐에서 0(빈칸)을 상, 하, 좌, 우로 이동시키기 위한 방향 벡터\n",
        "dx = [-1, 1, 0, 0]        # 행 방향: 위(-1), 아래(+1)\n",
        "dy = [0, 0, -1, 1]        # 열 방향: 좌(-1), 우(+1)\n",
        "target = '123456780'      # 퍼즐의 목표 상태 (0은 빈칸)\n",
        "visited = set()           # 방문한 상태들을 저장하는 집합 (중복 방지용)\n",
        "\n",
        "def print_grid(state, cnt):             # 현재 퍼즐 상태와 이동 횟수를 3×3 형태로 출력하는 함수\n",
        "    print(f'이동 횟수: {cnt}')          # 현재까지의 이동 횟수 출력\n",
        "    for i in range(0, 7, 3):\t          # 0~6까지 3칸씩 건너뛰며 줄 나누기(0,3,6)\n",
        "        print(' '.join(state[i:i+3]))   # 3개의 숫자를 공백으로 구분해 출력\n",
        "    print('-' * 10)\n",
        "\n",
        "def solve(start):\n",
        "  q = queue.Queue()       # 큐 생성\n",
        "  q.put((start, 0))       # 튜플(시작 상태, 이동 횟수 0)을 큐에 넣음\n",
        "  visited.add(start)      # 시작 상태를 방문한 상태로 기록\n",
        "\n",
        "  while not q.empty():    # 큐가 비어 있지 않는 동안 반복\n",
        "    cur, cnt = q.get()    # 튜플(현재 상태, 이동 횟수) 꺼내서 언팩킹\n",
        "    print_grid(cur, cnt)  # 함수 print_grid 호출: 현재 상태를 3x3 그리드로 출력\n",
        "\n",
        "    if cur == target:       # 목표 상태에 도달했으면 이동 횟수 반환\n",
        "      return cnt\n",
        "\n",
        "    z = cur.index('0')      # 문자열에서 '0'의 인덱스 찾기 (빈칸 위치)\n",
        "    x, y = z // 3, z % 3    # 행 번호 (x: 0 ~ 2), 열 번호 (y: 0 ~ 2)\n",
        "\n",
        "    for i in range(4):      # dx와 dy의 항목수만큼 4번 반복\n",
        "      nx, ny = x + dx[i], y + dy[i]       # 새로운 행 좌표(nx), 새로운 열 좌표(ny)\n",
        "      if 0 <= nx < 3 and 0 <= ny < 3:     # 범위 안이면 (이동 가능)\n",
        "        nz = nx *3 + ny     # 이동한 위치의 1차원 인덱스\n",
        "        new = list(cur)     # 현재 상태를 리스트로 변환 (문자열은 불변)\n",
        "        new[z], new[nz] = new[nz], new[z]         # 0과 대상 숫자를 교환\n",
        "        new_str = ''.join(new)                    # 리스트를 문자열로 변환\n",
        "\n",
        "        if new_str not in visited:      # 방문한 적 없는 상태라면\n",
        "          visited.add(new_str)          # 방문한 상태로 기록\n",
        "          q.put((new_str, cnt+1))       # 큐에 새로운 상태와 이동 횟수 +1 저장\n",
        "\n",
        "  print('목표 상태에 도달할 수 없습니다.')\n",
        "  return -1           # 큐를 모두 탐색했는데도 목표에 도달하지 못한 경우 -1 반환\n",
        "\n",
        "start = ''            # 초기 상태 문자열로 만들기\n",
        "for _ in range(3):    # 3줄 입력\n",
        "  start += input().replace(' ', '')      # 공백 제거하고 연결\n",
        "\n",
        "print('최소 이동 횟수 :',solve(start))   # 최소 이동 횟수 출력"
      ],
      "metadata": {
        "id": "Bq-PcY34yzyc"
      },
      "execution_count": null,
      "outputs": []
    },
    {
      "cell_type": "markdown",
      "source": [
        "# 2.스택(stack)\n",
        "* 개념\n",
        "  * 후입 선출(LIFO: Last In First Out)방식의 선형 데이터 구조\n",
        "  * 나중에 입력된 자료가 먼저 출련된다.\n",
        "* 연산\n",
        "  * 삽입(push): 데이터를 스택에 저장하는 연산으로, 이때 새로운 데이터는 출입구(top)에 쌓인다.\n",
        "  * 삭제(pop): 데이터를 스택으로부터 제거하는 연산으로, 이때 출입구(top)에 있는 데이터가 삭제된다.\n",
        "  * 데이터를 쌓아서 관리하기 때문에 즉시 확인할 수 있는 데이터는 출입구에 있는 데이터이다.<br><br>\n",
        "  <img src='https://drive.google.com/uc?id=1E11JUTlXs5mtuK5S7mXnVpCZoGQhJSDJ' width=600>"
      ],
      "metadata": {
        "id": "Ctu-Hcj-IjHe"
      }
    },
    {
      "cell_type": "code",
      "source": [],
      "metadata": {
        "id": "2DdHE9cJLc3I"
      },
      "execution_count": null,
      "outputs": []
    },
    {
      "cell_type": "markdown",
      "source": [
        "## 스택의 동작 이해하기\n",
        "<img src='https://drive.google.com/uc?id=1EBzNPh9TABZF4slWihWMI79qw48BlqYZ' width=800>"
      ],
      "metadata": {
        "id": "j2Gc4OduPdZv"
      }
    },
    {
      "cell_type": "markdown",
      "source": [
        "<img src='https://drive.google.com/uc?id=1EEVywGl2GSbJ3-etRaAwCUA24lkuaSMT' width=800>"
      ],
      "metadata": {
        "id": "Ys_jAMCCP4QN"
      }
    },
    {
      "cell_type": "code",
      "source": [
        "# 프로그래밍으로 스택 구현하기\n",
        "\n",
        "stack = []\n",
        "def push(x):\n",
        "  stack.append(x)\n",
        "def pop():\n",
        "  return stack.pop()\n",
        "for i in range(1,6):\n",
        "  push(i)\n",
        "for i in range(1,6):\n",
        "  print(pop())"
      ],
      "metadata": {
        "id": "a99NN3CMQDfk"
      },
      "execution_count": null,
      "outputs": []
    },
    {
      "cell_type": "markdown",
      "source": [
        "##스택을 활용하여 객차 순서 문제 해결하기\n",
        "<img src='https://drive.google.com/uc?id=1EI9hit_Jv8Uuz6mNmdQaYkRPR2xOyW_H' width=800>"
      ],
      "metadata": {
        "id": "aNnjnJzMcfTQ"
      }
    },
    {
      "cell_type": "code",
      "source": [
        "stack = []            # 스택 초기화(빈 리스트)\n",
        "goal = [2, 1, 3, 4]   # 최종 출력 순서\n",
        "def push(x):\n",
        "  stack.append(x)     # x를 스택에 삽입(리스트 끝에 추가)\n",
        "\n",
        "def pop():\n",
        "  return stack.pop()  # 스택의 top 요소를 꺼내어 반환\n",
        "\n",
        "now = 0               # goal 리스트에서 현재 비교할 인덱스\n",
        "for i in range(1, 5): # 1,2,3,4\n",
        "  push(i)             # i를 스택에 삽입\n",
        "  print('삽입', end=' ')\n",
        "  while len(stack) > 0 and stack[-1] == goal[now]:    # 스택이 비어있지 않고, top 요소가 goal[now]과 같다면\n",
        "    pop()             # 스택에서 pop 삭제\n",
        "    print('삭제', end=' ')\n",
        "    now +=1           # goal의 다음 요소로 이동\n",
        "\n",
        "while len(stack) > 0:\n",
        "  print('삭제', end=' ')\n",
        "  pop()"
      ],
      "metadata": {
        "id": "Zz-4QyytdFFx",
        "colab": {
          "base_uri": "https://localhost:8080/"
        },
        "outputId": "48af4104-f593-4edd-b9a5-f417896549e8"
      },
      "execution_count": null,
      "outputs": [
        {
          "output_type": "stream",
          "name": "stdout",
          "text": [
            "삽입 삽입 삭제 삭제 삽입 삭제 삽입 삭제 "
          ]
        }
      ]
    },
    {
      "cell_type": "code",
      "source": [
        "# 모듈을 활용하여 스택 구현하기\n",
        "\n",
        "# put(): 큐에 요소 추가\n",
        "# empty(): 큐가 비었는지 확인\n",
        "# get(): 큐에서 가장 마지막에 삽입된 요소를 제거하고 반환\n",
        "\n",
        "import queue\n",
        "s = queue.LifoQueue()\n",
        "for i in range(1, 6):\n",
        "  s.put(i)\n",
        "while not s.empty():\n",
        "  print(s.get())"
      ],
      "metadata": {
        "id": "CsD_FIGfkQwR"
      },
      "execution_count": null,
      "outputs": []
    },
    {
      "cell_type": "code",
      "source": [
        "# 스택을 활용하여 객차 순서 문제 프로그래밍으로 실행하기\n",
        "\n",
        "import queue\n",
        "goal = [2, 1, 4, 3]\n",
        "s = queue.LifoQueue()\n",
        "now = 0\n",
        "for i in range(1,5):\n",
        "  s.put(i)\n",
        "  print('삽입', end=' ')\n",
        "  while not s.empty() and s.queue[-1] == goal[now]:\n",
        "    s.get()\n",
        "    print('삭제', end=' ')\n",
        "    now += 1\n",
        "\n",
        "while not s.empty():\n",
        "  s.get()\n",
        "  print('삭제', end=' ')"
      ],
      "metadata": {
        "id": "I6aJWtJMmOTY"
      },
      "execution_count": null,
      "outputs": []
    },
    {
      "cell_type": "markdown",
      "source": [
        "#스택을 활용한 문제 해결: 복합 연산\n"
      ],
      "metadata": {
        "id": "NY1U0aUQjp9v"
      }
    },
    {
      "cell_type": "markdown",
      "source": [
        "## 중위 표현식(infix expession)\n",
        "  * 연산자(+, -, × , / 등)를 피연산자 사이에 위치시키는 표현 방식<br>\n",
        "  * +와 * 중에 어떤 걸 먼저 계산해야 하는지 알려면 연산자 우선순위나 괄호가 필요함\n",
        "  * 즉, 사람이 해석해야 하므로 기계(컴퓨터)는 바로 순서대로 처리하기 어려움\n",
        "\n",
        "<img src='https://drive.google.com/uc?id=1EMaXCAgg30CIfYe_UrMKLQpPXAaKtcQr' width=800>\n",
        "<br>\n",
        "<img src='https://drive.google.com/uc?id=1ES07BOy0cLcJJOIlZgfAYxq_t6aMjt7E' width=750>\n",
        "<br>"
      ],
      "metadata": {
        "id": "9_EMVjftpz5A"
      }
    },
    {
      "cell_type": "markdown",
      "source": [
        "## 후위 표현식(postfix expression)\n",
        "  * 연산자(+, -, × , / 등)를 두 피연산자 뒤쪽에 위치시키는 표현 방식\n",
        "  * 연산자 우선순위나 괄호가 필요 없음\n",
        "  * 왼쪽에서 오른쪽으로 읽기만 하면 순서대로 연산하면 됨\n",
        "  <br>\n",
        "  <img src='https://drive.google.com/uc?id=1EVLumSLsv6SUQp11h44IVSDUxrg_1Uqa' width=800>"
      ],
      "metadata": {
        "id": "6mUjUJzCuYXR"
      }
    },
    {
      "cell_type": "markdown",
      "source": [
        "## 중위 표현식을 후위 표현식으로 변환하기\n",
        "<img src='https://drive.google.com/uc?id=1EXGX2HGvkYy_ELYvoaXVk6-j6xES8mFI' width=800>\n",
        "<br>\n",
        "<img src='https://drive.google.com/uc?id=1EZT4yxYpeui1d7ViyWdYl7FAa6aT9Soy' width=800>"
      ],
      "metadata": {
        "id": "qj2SK55axYcl"
      }
    },
    {
      "cell_type": "markdown",
      "source": [
        "## 스택을 활용하여 중위 표현식을 후위 표현식으로 변환하기\n",
        "<img src='https://drive.google.com/uc?id=1EaNWbuqDQklcBq5-5OdYbDryBkipM27B' width=800>"
      ],
      "metadata": {
        "id": "7SJ3tjRHymoy"
      }
    },
    {
      "cell_type": "code",
      "source": [],
      "metadata": {
        "id": "gayz1NQKiRPv"
      },
      "execution_count": null,
      "outputs": []
    },
    {
      "cell_type": "code",
      "source": [
        "# 모듈을 활용하여 스택 구현하기\n",
        "# 중위 표현식을 후위 표현식으로 변환\n",
        "\n",
        "import queue\n",
        "\n",
        "op = '+-*/'             # 연산자 문자열 (우선순위는 + - ==> * / 순)\n",
        "eq = input()            # 사용자로부터 중위 표현식을 문자열로 입력받음\n",
        "s = queue.LifoQueue()   # 후위 변환 시 사용될 스택 (후입선출 구조)\n",
        "for i in eq:            # 중위 표현식을 문자 단위로 하나씩 순회\n",
        "  if i in op:           # 만약 문자가 연산자라면\n",
        "    if not s.empty():   # ★만약 스택이 비어 있지 않으면\n",
        "      top = s.get()     # 스택에서 하나 꺼냄 (peek 역할로 활용)\n",
        "      s.put(top)        # 꺼낸 값을 다시 넣음 → 결국 스택 내용은 그대로, 단 \"top 값만 확인\"한 셈\n",
        "\n",
        "      # (op.index()//2: +와 -는 0, *, /는 1이므로 우선순위를 그룹화한 셈)\n",
        "      while not s.empty() and op.index(i)//2 <= op.index(top)//2:       # 현재 연산자 i보다 스택 top 연산자의 우선순위가 높거나 같으면\n",
        "        print(top, end=' ')     # top 연산자를 출력 (후위 표현식에 포함)\n",
        "        s.get()                 # 스택에서 top 제거\n",
        "        if not s.empty():       # 스택이 비어 있지 않으면\n",
        "          top = s.get()         # 다음 top 꺼냄\n",
        "          s.put(top)            # 다시 넣음 (peek 갱신)\n",
        "    s.put(i)                    # ★현재 연산자 i를 스택에 push\n",
        "\n",
        "  else:                     # 만약 문자가 연산자가 아니면, 즉 피연산자이면\n",
        "    print(i, end=' ')       # 피연산자(변수, 숫자)는 바로 출력 (후위식에 포함)\n",
        "\n",
        "while not s.empty():        # 반복문이 끝난 후, 스택에 남은 연산자들을 모두 출력\n",
        "  print(s.get(), end=' ')"
      ],
      "metadata": {
        "id": "HQMY8fKC1wsi",
        "colab": {
          "base_uri": "https://localhost:8080/"
        },
        "outputId": "b656d52f-2e7d-41b1-ed6d-a8607dcb9612"
      },
      "execution_count": null,
      "outputs": [
        {
          "output_type": "stream",
          "name": "stdout",
          "text": [
            "a+b*c-d\n",
            "a b c * + d - "
          ]
        }
      ]
    },
    {
      "cell_type": "markdown",
      "source": [
        "## 후위 표현식으로 표현된 식을 연산하는 알고리즘\n",
        "\n",
        "<img src='https://drive.google.com/uc?id=1EdTd_2UpqXgL841whRXzoe0CpRGv5XWt' width=800>"
      ],
      "metadata": {
        "id": "50hbLqPe9cNJ"
      }
    }
  ]
}