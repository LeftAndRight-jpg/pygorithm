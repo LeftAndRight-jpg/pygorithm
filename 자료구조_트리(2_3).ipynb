{
  "nbformat": 4,
  "nbformat_minor": 0,
  "metadata": {
    "colab": {
      "provenance": [],
      "include_colab_link": true
    },
    "kernelspec": {
      "name": "python3",
      "display_name": "Python 3"
    },
    "language_info": {
      "name": "python"
    }
  },
  "cells": [
    {
      "cell_type": "markdown",
      "metadata": {
        "id": "view-in-github",
        "colab_type": "text"
      },
      "source": [
        "<a href=\"https://colab.research.google.com/github/LeftAndRight-jpg/pygorithm/blob/main/%EC%9E%90%EB%A3%8C%EA%B5%AC%EC%A1%B0_%ED%8A%B8%EB%A6%AC(2_3).ipynb\" target=\"_parent\"><img src=\"https://colab.research.google.com/assets/colab-badge.svg\" alt=\"Open In Colab\"/></a>"
      ]
    },
    {
      "cell_type": "markdown",
      "source": [
        "#4.트리(tree)\n",
        "* 개념\n",
        "  * 정점과 간선의 집합으로 이루어진 데이터 구조\n",
        "  * 사이클이 없는 특수한 형태의 그래프\n",
        "      * 사이클(cycle): 시작 노드와 종료 노드가 같은 노드로 구성된 경로\n",
        "  * 트리에서는 정점을 노드(node)라고 하는 경우가 많다.\n",
        "  * 트리는 부모와 자식이 1:n의 관계인 구조이다.\n",
        "  * 트리의 정점은 데이터를 표현할 수 있으며, 간선은 데이터 간의 관계를 표현할 수 있다.\n",
        "  * 가계도, 토너먼트 대진표, 파일과 폴더 구조 등을 효율적으로 다룰 수 있다.\n"
      ],
      "metadata": {
        "id": "lcSGKQul0sPo"
      }
    },
    {
      "cell_type": "markdown",
      "source": [
        "<img src='https://drive.google.com/uc?id=1FRgCoJanh4rzOi7K1wDnPw4fR1YLtHdH' width=800>"
      ],
      "metadata": {
        "id": "w1__piho2SR_"
      }
    },
    {
      "cell_type": "markdown",
      "source": [
        "<img src='https://drive.google.com/uc?id=1FVGvsczwmFNerPy9XcR9mtW_lS7f6zYi' width=1000>"
      ],
      "metadata": {
        "id": "qHEw3uAE239H"
      }
    },
    {
      "cell_type": "markdown",
      "source": [
        "## 미로 구조를 트리로 표현하기\n",
        "<img src='https://drive.google.com/uc?id=1Fbr89ogzfdytnuFf1PrdIGbyBMt_cEgL' width=800>"
      ],
      "metadata": {
        "id": "cqqifqnu3KSo"
      }
    },
    {
      "cell_type": "markdown",
      "source": [
        "<img src='https://drive.google.com/uc?id=1FdyslL3ZELno9aAys4UXEJ_xo0cxhiMW' width=800>"
      ],
      "metadata": {
        "id": "q6YUVAbi3t5x"
      }
    },
    {
      "cell_type": "markdown",
      "source": [
        "## 트리의 표현\n",
        "* 트리는 그래프의 특수한 형태이므로 인접행렬로 나타내는 방법과 인접리스트로 나타내는 방법은 그래프와 같다."
      ],
      "metadata": {
        "id": "R3JYCiuJ6dL5"
      }
    },
    {
      "cell_type": "markdown",
      "source": [
        "### 인접행렬 활용하기\n",
        "* 트리를 인접행렬로 표현하기 위해서는 정점 개수만큼의 **행과 열**로 이루어지는 표를 이용한다.\n",
        "* 트리는 부모로부터 자식으로의 경로만 존재하므로 부모 노드에서 자식 노드로의 연결만 '1'로 한다.\n",
        "* 3행, 5행~8행은 모든 열이 0으로 이루어짐 → 단말 노드(자식 노드를 가지지 않는 노드)\n",
        "<br>\n",
        "<img src='https://drive.google.com/uc?id=1FsRiZB4yLXggYBkQrMl13vEAy9EnWHof' width=800>"
      ],
      "metadata": {
        "id": "bzpzOdzZ6zGo"
      }
    },
    {
      "cell_type": "markdown",
      "source": [
        "### 트리 구조를 인접행렬로 표현하기\n",
        "<img src='https://drive.google.com/uc?id=1Fxexl8a2vgRA_xIlZNMq7ioeUSfXwQir' width=800>"
      ],
      "metadata": {
        "id": "JhJfwMRN_r9U"
      }
    },
    {
      "cell_type": "markdown",
      "source": [
        "(풀이)\n",
        "<br>\n",
        "<img src='https://drive.google.com/uc?id=1G-oHEJTU0uL8tPY3PIQS2lalKrpqpec4' width=800>"
      ],
      "metadata": {
        "id": "U2Q6dszbACuY"
      }
    },
    {
      "cell_type": "markdown",
      "source": [
        "### 인접리스트 활용하기\n",
        "* 트리를 인접리스트로 표현하기 위해서는 **정점 개수만큼의 행**으로 이루어진 리스트를 이용한다.\n",
        "* 인접리스트의 행은 각 정점의 번호를 나타낸다.\n",
        "<br>\n",
        "<img src='https://drive.google.com/uc?id=1G4ZlHBB621bOGZtKlXN4DvBbpvn41QQN' width=800>"
      ],
      "metadata": {
        "id": "eTaudkpGAkdF"
      }
    },
    {
      "cell_type": "markdown",
      "source": [
        "<img src='https://drive.google.com/uc?id=1G5yQnbr0y0EuHYswtRNqpgZVpLB9ayJK' width=800>"
      ],
      "metadata": {
        "id": "WLRSALkhCrD_"
      }
    },
    {
      "cell_type": "markdown",
      "source": [
        "(풀이)\n",
        "<br>\n",
        "<img src='https://drive.google.com/uc?id=1GCYVgIxx4lJE4zkQRj-lP0MlwGCmz4FN' width=800>"
      ],
      "metadata": {
        "id": "CaXeNia0C4I7"
      }
    },
    {
      "cell_type": "markdown",
      "source": [
        "### 이진트리(binary tree)\n",
        "* 트리 중에서 **자식을 최대 2개**까지만 가질 수 있는 트리\n",
        "* 리스트의 인덱스 기준 1을 루트 노드로 정하고 **왼쪽 자식은 2x, 오른쪽 자식은 2x+1**에 저장한다.\n",
        "* 이와 같이 저장된 리스트를 이용하면 임의의 노드로부터 자식으로의 경로를 탐색할 수 있으므로 전체적인 트리 구조를 쉽게 파악할 수 있다.\n",
        "<br>\n",
        "<img src='https://drive.google.com/uc?id=1G56vt3KvthDkSK3IQ_EJqHaD6jDD1N1c' width=800>"
      ],
      "metadata": {
        "id": "_fkzbeF1DKgJ"
      }
    },
    {
      "cell_type": "markdown",
      "source": [
        "<img src='https://drive.google.com/uc?id=1GW7ZONNviM_6kqu4NJ-9cqr0z6GPNhw0' width=800>"
      ],
      "metadata": {
        "id": "hXvQvtlnD9LG"
      }
    },
    {
      "cell_type": "markdown",
      "source": [
        "###(풀이)\n",
        "<br>\n",
        "<img src='https://drive.google.com/uc?id=1GX6h_7o2v_4jH11L0vsLQ1hzyi-5aCLO' width=800>"
      ],
      "metadata": {
        "id": "MbIUY1NnFXl1"
      }
    },
    {
      "cell_type": "markdown",
      "source": [
        "## 트리의 구현\n",
        "* 트리는 기본적으로 그래프 형태의 하나이므로 데이터 구조는 그래프의 학습 내용과 같다.\n",
        "* 단, 트리의 간선 개수는 정점의 수에 따라 결정되므로 따로 간선의 개수는 주어지지 않는다.\n"
      ],
      "metadata": {
        "id": "_NVphvoxFsH-"
      }
    },
    {
      "cell_type": "markdown",
      "source": [
        "### 인접행렬 활용하기\n",
        "<br>\n",
        "<img src='https://drive.google.com/uc?id=1GOUbkKcKDcTb7jsPsz1TCStnhiDp3-Sa' width=800>"
      ],
      "metadata": {
        "id": "LtJzF3MEjTcv"
      }
    },
    {
      "cell_type": "code",
      "source": [
        "# 트리 구현: 인접행렬 활용하기\n",
        "Adj = [[0]*10 for _ in range(10)]       # 10행 * 10열 인접행렬 생성\n",
        "\n",
        "V = int(input())                        # 정점의 수 입력\n",
        "\n",
        "for i in range(V-1):                    # 간선의 개수인 V-1회 반복(트리의 간선 수는 항상 정점 수 - 1)\n",
        "  u, v = map(int, input().split())      # 간선이 연결하는 두 정점 u, v의 정보를 입력받음\n",
        "  Adj[u][v] = 1                         # 인접행렬에 u에서 v로 가는 간선 추가\n",
        "\n",
        "for i in range(1, V+1):                 # 1행으로부터 V행까지 출력하기 위하여 반복(0행은 미사용)\n",
        "  for j in range(1, V+1):               # 1열부터 V열까지 출력하기 위하여 반복(0열은 미사용)\n",
        "    print(Adj[i][j], end=' ')\n",
        "  print()"
      ],
      "metadata": {
        "id": "U4spWVMRASuU"
      },
      "execution_count": null,
      "outputs": []
    },
    {
      "cell_type": "markdown",
      "source": [
        "### 인접리스트 활용하기\n",
        "<img src='https://drive.google.com/uc?id=1hI9TOVQIM0CJcqEEvh_apk0iSFdDaoBi' width=800>"
      ],
      "metadata": {
        "id": "5EZGKDt4jLcg"
      }
    },
    {
      "cell_type": "code",
      "source": [],
      "metadata": {
        "id": "_t7OYL80oAzq"
      },
      "execution_count": null,
      "outputs": []
    },
    {
      "cell_type": "code",
      "source": [
        "# 트리 구현: 인접리스트 활용하기\n",
        "Adj = [[] for _ in range(10)]         # 10행의 리스트 생성\n",
        "\n",
        "V = int(input())                      # 정점의 수 입력\n",
        "\n",
        "for i in range(V-1):                  # 간선의 개수인 V-1회 반복\n",
        "  u, v = map(int, input().split())    # 간선이 연결하는 두 정점 u, v의 정보를 입력받음\n",
        "  Adj[u].append(v)                    # 인접리스트에서 u에서 v로 가는 간선 추가\n",
        "print()\n",
        "\n",
        "for i in range(1, V+1):\n",
        "  print(i, end=':')\n",
        "  for j in Adj[i]:\n",
        "    print(j, end=' ')\n",
        "  print()"
      ],
      "metadata": {
        "id": "oQdjhtkISYFI"
      },
      "execution_count": null,
      "outputs": []
    },
    {
      "cell_type": "markdown",
      "source": [
        "### 트리를 활용한 문제 해결\n",
        "* 트리를 이용하면 가계도나 토너먼트 대진표 등을 효율적으로 나타낼 수 있다.\n",
        "* 문제 상황을 트리로 표현하고, 프로그래밍 언어로 구현하여 문제를 해결해보자"
      ],
      "metadata": {
        "id": "IQGYmw6_lR_c"
      }
    },
    {
      "cell_type": "markdown",
      "source": [
        "#### 학문 분야의 문제 상황을 트리로 표현하기\n",
        "\n",
        "<img src='https://drive.google.com/uc?id=1hN6kEyQbcI8bSx2z17DX3bIJGU9QuOag' width=800>"
      ],
      "metadata": {
        "id": "1pK6BbBfmWyK"
      }
    },
    {
      "cell_type": "markdown",
      "source": [
        "#### 트리를 활용하여 학문 분야의 문제를 프로그래밍으로 해결하기\n",
        "<br><br>\n",
        "<img src='https://drive.google.com/uc?id=1hTli17bPgwtKeosvNYhlnI_jHpI9mm2T' width=800>"
      ],
      "metadata": {
        "id": "rbw5LDwRrfj4"
      }
    },
    {
      "cell_type": "code",
      "source": [
        "# 두 개체 간의 유전거리를 구하기 위해서는 각 개체의 최소 공통 조상을 구하는 방법이 가장 효율적이다.\n",
        "# 최소 공통 조상이란? 임의의 두 노드의 공통 조상 중 가장 거리가 가까운 조상\n",
        "\n",
        "print('*** 개체간 유전거리 구하는 프로그램 ***')\n",
        "index_dict = dict()                       # 각 노드(알파벳) → 문자열 내 인덱스를 저장하는 딕셔너리\n",
        "tree_str = input('트리 구조를 입력하시오.(예시: -ABCDE----FG----): ')   # 트리 구조를 문자열로 입력 (인덱스로 트리 표현)\n",
        "                                          # 루트 노드를 인덱스 1에 저장하기 위해서 0에 \"-\"를 저장함\n",
        "node1, node2 = input('유전 거리를 계산할 두 노드(알파벳)를 입력하시오: ').split()\n",
        "\n",
        "# 문자열을 순회하며, 알파벳이면 index_dict에 '알파벳: 인덱스' 저장\n",
        "current_index = 0\n",
        "for ch in tree_str:\n",
        "    if ch != '-':                      # '-'는 공백(없는 노드)이므로 제외\n",
        "        index_dict[ch] = current_index  # 알파벳이면 → 인덱스 매핑\n",
        "    current_index += 1\n",
        "\n",
        "# 인덱스만 따로 변수로 복사하여 계산 (딕셔너리는 수정하지 않음)\n",
        "idx1 = index_dict[node1]\n",
        "idx2 = index_dict[node2]\n",
        "\n",
        "distance = 0\n",
        "# 최소 공통 조상(LCA)을 찾기 위해 두 노드를 위로 거슬러 올라가며 비교\n",
        "while idx1 != idx2:     # 두 노드가 같은 위치(같은 조상)를 가리킬 때까지\n",
        "    if idx1 > idx2:     # 더 깊은 쪽 노드를 한 칸 위(부모)로 이동시킨다\n",
        "        idx1 //= 2\n",
        "    else:\n",
        "        idx2 //= 2\n",
        "    distance += 1\n",
        "\n",
        "print(f'{node1}과 {node2} 유전거리는 {distance}입니다.')   # 유전 거리 출력 (두 노드가 만나는 지점까지의 거리)"
      ],
      "metadata": {
        "id": "qui_U18CrCb5"
      },
      "execution_count": null,
      "outputs": []
    },
    {
      "cell_type": "code",
      "source": [
        "# 위 프로그램에서 사용한 반복 구조를 재귀 함수로 구현\n",
        "\n",
        "print('*** 개체간 유전거리 구하는 프로그램 ***')\n",
        "\n",
        "index_dict = dict()  # 각 노드(알파벳) → 문자열 내 인덱스를 저장하는 딕셔너리\n",
        "\n",
        "tree_str = input('트리 구조를 입력하시오.(예시: -ABCDE----FG----): ')\n",
        "node1, node2 = input('유전 거리를 계산할 두 노드(알파벳)를 입력하시오: ').split()\n",
        "\n",
        "# 문자열을 순회하며, 알파벳이면 index_dict에 '알파벳: 인덱스' 저장\n",
        "current_index = 0\n",
        "for ch in tree_str:\n",
        "    if ch != '-':\n",
        "        index_dict[ch] = current_index\n",
        "    current_index += 1\n",
        "\n",
        "# 재귀 함수 정의\n",
        "def compute_distance(idx1, idx2):\n",
        "    if idx1 == idx2:\n",
        "        return 0\n",
        "    if idx1 > idx2:\n",
        "        return 1 + compute_distance(idx1 // 2, idx2)\n",
        "    else:\n",
        "        return 1 + compute_distance(idx1, idx2 // 2)\n",
        "\n",
        "# 인덱스로 변환 후 재귀 함수 호출\n",
        "idx1 = index_dict[node1]\n",
        "idx2 = index_dict[node2]\n",
        "distance = compute_distance(idx1, idx2)\n",
        "\n",
        "#print(f'{node1}과 {node2} 유전거리는 {distance}입니다.')"
      ],
      "metadata": {
        "id": "LtHIyLhZyvZd"
      },
      "execution_count": null,
      "outputs": []
    },
    {
      "cell_type": "markdown",
      "source": [
        "### 그래프 문제에 자주 나오는 용어\n",
        "\n",
        "<img src='https://drive.google.com/uc?id=1s5dBYLF1LhSgW9Nuq5OV8Y9-5yF6JMA8' width=800>"
      ],
      "metadata": {
        "id": "vhnRgxnq0VQW"
      }
    },
    {
      "cell_type": "markdown",
      "source": [
        "### 그래프(graph)\n",
        "* 정점과 간선으로 추상화된 구조로 지하철 노선도, 소셜 네트워크 서비스(SNS)의 친구 관계 등을 나타내는 데 활용한다.\n",
        "* 인접행렬이나 인접리스트로 표현할 수 있다.\n",
        "* 그래프를 활용하여 최단 경로 구하기 등 다양한 문제를 해결할 수 있다.\n",
        "\n",
        "### 트리(tree)\n",
        "* 사이클이 없는 그래프의 특수한 형태이다.\n",
        "* 토너먼트 대진표, 가계도, 파일과 폴더의 구조 등을 효율적으로 표현할 수 있다.\n",
        "* 인접행렬이나 인접리스트로 표현할 수 있다.\n",
        "* 이진 트리의 경우에 1차원 배열을 표현할 수 있다."
      ],
      "metadata": {
        "id": "6_aR4Z1U4oy7"
      }
    }
  ]
}