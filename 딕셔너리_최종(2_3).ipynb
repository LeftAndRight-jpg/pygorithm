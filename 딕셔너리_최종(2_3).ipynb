{
  "nbformat": 4,
  "nbformat_minor": 0,
  "metadata": {
    "colab": {
      "provenance": [],
      "toc_visible": true,
      "include_colab_link": true
    },
    "kernelspec": {
      "name": "python3",
      "display_name": "Python 3"
    },
    "language_info": {
      "name": "python"
    }
  },
  "cells": [
    {
      "cell_type": "markdown",
      "metadata": {
        "id": "view-in-github",
        "colab_type": "text"
      },
      "source": [
        "<a href=\"https://colab.research.google.com/github/LeftAndRight-jpg/pygorithm/blob/main/%EB%94%95%EC%85%94%EB%84%88%EB%A6%AC_%EC%B5%9C%EC%A2%85(2_3).ipynb\" target=\"_parent\"><img src=\"https://colab.research.google.com/assets/colab-badge.svg\" alt=\"Open In Colab\"/></a>"
      ]
    },
    {
      "cell_type": "markdown",
      "source": [
        "#딕셔너리\n",
        "* 키(key)와 값(value)을 쌍으로 데이터를 저장하는 자료형\n",
        "* 마치 단어(키)와 뜻(값)을 저장하는 사전(dictionary)처럼 동작함\n",
        "* 하나의 키에는 하나의 값만 저장됨\n",
        "* 예를 들어, 사람들의 이름을 키(key)로 하고, 전화번호를 값(value)으로 저장할 수 있음\n",
        "* 딕셔너리에서는 키를 이용해 빠르게 값을 찾을 수 있음<br><br>\n",
        "<img src='https://drive.google.com/uc?id=1CsmKaMI1wUy5lwCBG2MLMMU2xvIcWr6b' width=800>"
      ],
      "metadata": {
        "id": "ZM82HfHiwoli"
      }
    },
    {
      "cell_type": "markdown",
      "source": [
        "# 딕셔너리 생성 방법\n",
        "* 방법 1 : 중괄호 { }\n",
        "  * ***phone_book = {'홍길동': '010-1234-5678'}***\n",
        "  * 가장 일반적인 딕셔너리 생성 방법\n",
        "  * 키(key)와 값(value) 모두 문자열이면 ' 또는 \"로 감싸야 함\n",
        "  * 키는 불변자료형이면 사용 가능 : 문자열, 숫자, 튜플 등\n",
        "  * 리스트, 딕셔너리, 집합처럼 변경 가능한 자료형은 키로 사용할 수 없음\n",
        "\n",
        "* 방법 2 : dict() 함수\n",
        "  * ***phone_book = dict(홍길동='010-1234-5678')***\n",
        "  * dict() 함수는 키를 변수처럼 써야 하므로 따옴표 없이 사용\n",
        "  * 키는 변수 이름처럼 식별자 규칙을 따라야 하므로, 공백을 포함하거나 숫자로 시작하거나 특수문자가 포함된 키는 사용할 수 없음"
      ],
      "metadata": {
        "id": "VYTltya0Ai_l"
      }
    },
    {
      "cell_type": "code",
      "source": [
        "# 공백 딕셔너리 생성(전화번호부)\n",
        "phone_book = {}       # 대부분의 경우 사용\n",
        "print(phone_book)\n",
        "phone_book = dict()   # 다른 컨테이너 함수와 일관되게 쓸 때 유용 (예: set(), list())\n",
        "print(phone_book)"
      ],
      "metadata": {
        "id": "PXHz3m7jy3Dg"
      },
      "execution_count": null,
      "outputs": []
    },
    {
      "cell_type": "code",
      "source": [
        "# 딕셔너리 생성 방법\n",
        "# 방법 1: 중괄호 { }\n",
        "phone_book = {'홍길동':'010-1234-5678'}\n",
        "print(phone_book)\n",
        "\n",
        "# 방법 2: dict() 함수\n",
        "phone_book = dict(홍길동 = '010-1234-5678')\n",
        "print(phone_book)"
      ],
      "metadata": {
        "id": "Ey5_SLpv0Dv1"
      },
      "execution_count": null,
      "outputs": []
    },
    {
      "cell_type": "markdown",
      "source": [
        "# 딕셔너리 주요 기능\n",
        "\n",
        "* 값 조회 : 딕셔너리에서는 ***키***가 있어야 값을 찾을 수 있음(리스트의 ***인덱스*** 역할)\n",
        "  * dict[key] : 해당 키의 값을 직접 조회 (키가 없으면 오류(KeyError) 발생)\n",
        "    * phone_book[\"홍길동\"] → \"010-1234-5678\"\n",
        "  * get(key) : 키가 없어도 안전하게 조회(None 반환 또는 기본값 설정 가능)\n",
        "    * phone_book.get(\"임꺽정\", \"없음\") → \"없음\"\n",
        "* 값 추가 : 키가 없으면 새로 추가됨\n",
        "  * dict[new_key] = value\n",
        "    * phone_book[\"강감찬\"] = \"010-1234-5679\"\n",
        "* 값 수정 : 기존 키의 값을 변경\n",
        "  * dict[key] = new_value\n",
        "    * phone_book[\"홍길동\"] = \"010-1234-7777\"\n",
        "* 값 삭제\n",
        "  * del dict[key] : 해당 키-값을 삭제\n",
        "    * del phone_book[\"홍길동\"]\n",
        "  * dict.pop(key) : 삭제 후 값 반환\n",
        "  * dict.pop(key, 기본값) : 키 없으면 기본값 반환\n",
        "  * dict.popitem() : 딕셔너리의 마지막 (key, value) 쌍을 삭제하고 튜플로 반환\n",
        "* update() 메서드\n",
        "  * 딕셔너리에 다른 딕셔너리(또는 키-값 쌍들)를 추가하거나, 이미 있는 키는 값을 수정<br>\n",
        "  → 새 키가 들어오면 추가<br>\n",
        "  → 이미 있는 키가 들어오면 수정\n",
        "  (중복은 자동으로 제거됨)\n",
        "  ```python\n",
        "  d = {'a': 1}\n",
        "  d.update({'b': 2})    # 딕셔너리 형태로 추가\n",
        "  d.update({'b': 3, 'd': 4})  # 여러 개 추가 또는 수정\n",
        "  d.update(c=3)         # 키워드 인자처럼 추가\n",
        "  print(d)\n",
        "  ```"
      ],
      "metadata": {
        "id": "M0i4B4qeAb1W"
      }
    },
    {
      "cell_type": "code",
      "source": [
        "# 값 조회 dict[key]\n",
        "phone_book['홍길동']"
      ],
      "metadata": {
        "id": "SCsiztOyDHA-"
      },
      "execution_count": null,
      "outputs": []
    },
    {
      "cell_type": "code",
      "source": [
        "# 값 조회 get(key)\n",
        "phone_book['임꺽정']\n",
        "# phone_book.get(\"임꺽정\")\n",
        "# phone_book.get(\"임꺽정\",\"없음\")"
      ],
      "metadata": {
        "id": "vePsKobM16Q3"
      },
      "execution_count": null,
      "outputs": []
    },
    {
      "cell_type": "code",
      "source": [
        "# 값 추가\n",
        "phone_book['강감찬'] = '010-1234-5679'\n",
        "print(phone_book)"
      ],
      "metadata": {
        "id": "hyWikWR1zChM"
      },
      "execution_count": null,
      "outputs": []
    },
    {
      "cell_type": "code",
      "source": [
        "# 전화번호 추가 : 이순신 010-1234-5680\n"
      ],
      "metadata": {
        "id": "mtfDmoG15so9"
      },
      "execution_count": null,
      "outputs": []
    },
    {
      "cell_type": "code",
      "source": [
        "# 값 수정 : 이순신 전화번호 010-1234-7777\n",
        "phone_book['이순신'] = '010-1234-7777'\n",
        "print(phone_book)"
      ],
      "metadata": {
        "id": "AEOvnxzKEboB"
      },
      "execution_count": null,
      "outputs": []
    },
    {
      "cell_type": "code",
      "source": [
        "# 값 삭제 _ del 사용\n",
        "del phone_book['이순신']\n",
        "print(phone_book)"
      ],
      "metadata": {
        "id": "y1D3HopDErNs"
      },
      "execution_count": null,
      "outputs": []
    },
    {
      "cell_type": "code",
      "source": [
        "phone_book={'홍길동': '010-1234-5678', '강감찬': '010-1234-5679', '이순신': '010-1234-5680'}"
      ],
      "metadata": {
        "id": "CvK_IvM35b1o"
      },
      "execution_count": null,
      "outputs": []
    },
    {
      "cell_type": "code",
      "source": [
        "# 값 삭제 _ pop() 사용\n",
        "print(phone_book.pop('이순신'))\n",
        "# print(phone_book.pop('이순신', None))    # 키 없어도 오류 없음(기본값 반환)\n",
        "# print(phone_book.pop('이순신',\"없음\"))\n",
        "print(phone_book)"
      ],
      "metadata": {
        "id": "X5uCk2afPORJ"
      },
      "execution_count": null,
      "outputs": []
    },
    {
      "cell_type": "code",
      "source": [
        "# 마지막 값 삭제하는 방법\n",
        "phone_book={'홍길동': '010-1234-5678', '강감찬': '010-1234-5679', '이순신': '010-1234-5680'}\n",
        "phone_book.popitem()"
      ],
      "metadata": {
        "id": "glQrhCfLPk5M"
      },
      "execution_count": null,
      "outputs": []
    },
    {
      "cell_type": "code",
      "source": [
        "# update() 메서드\n",
        "d = {'a': 1}\n",
        "d.update({'b': 2, 'c': 3, 'd': 4})    # 딕셔너리 형태로 추가\n",
        "d.update(e=5, f=6, g=7)               # 키워드 인자처럼 추가\n",
        "print(d)\n",
        "\n",
        "d.update({'a': 100, 'x': 3})          # 'a'는 100으로 덮어쓰기 되고, 'x'는 새로 추가 됨\n",
        "print(d)\n",
        "d.update(x=999, z=30)                 # 'x'는 999로 덮어쓰기 되고, 'z'는 새로 추가 됨\n",
        "print(d)"
      ],
      "metadata": {
        "id": "O-xkyBt2CPpw"
      },
      "execution_count": null,
      "outputs": []
    },
    {
      "cell_type": "markdown",
      "source": [
        "# 딕셔너리와 리스트의 비교(교재 220 페이지)\n",
        "<img src='https://drive.google.com/uc?id=1Cu0QcA5aOO0DMDWM7jef8HGPL2saEwOw' width=800>\n",
        "<br>\n",
        "<br>\n",
        "<img src='https://drive.google.com/uc?id=1CxBL0O7SwHF1TNjH8mqnOuccQIWUJe2T' width=800><br>\n",
        "\n",
        "## 딕셔너리에서 사용된 0, 1, 2, 3, 4는 인덱스처럼 보이지만 사실은 키이다.\n",
        "\n",
        "* 리스트는 pop(0) 하면 앞의 값이 빠지고, 인덱스가 밀린다\n",
        "  * **순서**가 중요할 때\n",
        "  * 데이터를 순차적으로 반복 처리하거나 정렬할 때\n",
        "* 딕셔너리는 pop(0) 하면 키가 제거되지만, 나머지 구조에는 영향 없음\n",
        "  * 각 값에 **의미 있는 이름(키)**을 붙이고 싶을 때\n",
        "  * 빠르게 특정 항목에 접근하고 싶을 때\n",
        "  * 키-값 쌍으로 데이터 간의 관계를 저장할 때\n",
        "<br>\n",
        "* 항목의 수를 확인하기\n",
        "  * len(lst)\n",
        "  * len(dic)\n",
        "* 특정 항목 삭제\n",
        "  * del lst[0] 또는 del (lst[0])\n",
        "  * del dic[0] 또는 del (dic[0])\n",
        "* 전부 삭제\n",
        "  * lst.clear()\n",
        "  * dic.clear()\n"
      ],
      "metadata": {
        "id": "UnImYmeVSTsc"
      }
    },
    {
      "cell_type": "code",
      "source": [
        "lst = [11, 22, 33, 44, 55]\n",
        "print(lst.pop(0))    # 리스트 항목의 첫 항목이 반환되고 삭제됨\n",
        "print('lst=', lst)"
      ],
      "metadata": {
        "id": "jEFKCmW_TYcR"
      },
      "execution_count": null,
      "outputs": []
    },
    {
      "cell_type": "code",
      "source": [
        "dic = {0:11, 1:22, 2:33, 3:44, 4:55}\n",
        "print(dic.pop(0))    # 딕셔너리 항목중에서 키가 0인 항목 11이 반환되고 삭제됨\n",
        "print('dic=', dic)"
      ],
      "metadata": {
        "id": "Enrb4hYAt2Q4"
      },
      "execution_count": null,
      "outputs": []
    },
    {
      "cell_type": "code",
      "source": [
        "print('lst[0]=', lst[0])\n",
        "print('dic[0]=', dic[0])"
      ],
      "metadata": {
        "id": "2VyxUQRWaHhe"
      },
      "execution_count": null,
      "outputs": []
    },
    {
      "cell_type": "code",
      "source": [
        "lst = [11, 22, 33, 44, 55]\n",
        "dic = {0:11, 1:22, 2:33, 3:44, 4:55}\n",
        "print(len(lst))\n",
        "print(len(dic))\n",
        "# del lst[0]\n",
        "# del dic[0]\n",
        "# lst.clear()\n",
        "# dic.clear()\n",
        "# print(lst, dic)"
      ],
      "metadata": {
        "id": "p74XokiZbW-X"
      },
      "execution_count": null,
      "outputs": []
    },
    {
      "cell_type": "markdown",
      "source": [
        "# 딕셔너리의 다양한 메서드\n",
        "* keys() : 딕셔너리 내의 모든 키를 반환한다.\n",
        "* values() : 딕셔너리 내의 모든 값을 반환한다.\n",
        "* items() : 딕셔너리 내의 모든 항목을 [키]:[값] 쌍으로 반환한다.\n",
        "* get(key) : 키에 대한 값을 반환한다. 키가 없으면 None을 반환한다.\n",
        "* pop(key) : 키에 대한 값을 반환하고, 그 항목을 삭제한다. 키가 없으면 KeyError 예외를 발생시킨다.\n",
        "* popitem() : 제일 마지막에 입력된 항목을 반환하고 그 항목을 삭제한다.\n",
        "* clear() : 딕셔너리 내의 모든 항목을 삭제한다."
      ],
      "metadata": {
        "id": "O8PuF5jzbxhq"
      }
    },
    {
      "cell_type": "code",
      "source": [
        "# 딕셔너리에서 사용되는 모든 키 출력\n",
        "# keys() 메서드 : 키 항목 반환\n",
        "phone_book = {'홍길동':'010-1234-5678', '강감찬':'010-1234-5679', '이순신':'010-1234-5680'}\n",
        "phone_book.keys()"
      ],
      "metadata": {
        "id": "GHFgCmW7yJXf"
      },
      "execution_count": null,
      "outputs": []
    },
    {
      "cell_type": "code",
      "source": [
        "for key in phone_book.keys():\n",
        "  print(key, ':', phone_book[key])"
      ],
      "metadata": {
        "id": "nXJuC07udea_"
      },
      "execution_count": null,
      "outputs": []
    },
    {
      "cell_type": "code",
      "source": [
        "# 딕셔너리에서 사용되는 모든 값 출력\n",
        "# values() 메서드 : 값 반환\n",
        "phone_book.values()"
      ],
      "metadata": {
        "id": "6Hdz0aQSy4Bh"
      },
      "execution_count": null,
      "outputs": []
    },
    {
      "cell_type": "code",
      "source": [
        "for value in phone_book.values():\n",
        "  print('value :', value)"
      ],
      "metadata": {
        "id": "PoAkaatSeiYl"
      },
      "execution_count": null,
      "outputs": []
    },
    {
      "cell_type": "code",
      "source": [
        "# 딕셔너리 내부의 모든 값 출력\n",
        "# items() 메서드 : [키]:[값] 쌍으로 반환\n",
        "phone_book.items()"
      ],
      "metadata": {
        "id": "gR_053_hzElB"
      },
      "execution_count": null,
      "outputs": []
    },
    {
      "cell_type": "code",
      "source": [
        "for name, phone_num in phone_book.items():\n",
        "  print(name, ':', phone_num)"
      ],
      "metadata": {
        "id": "it2kYWRwe7p8"
      },
      "execution_count": null,
      "outputs": []
    },
    {
      "cell_type": "markdown",
      "source": [
        "# 도전문제 8.1(교재 219 페이지)\n",
        "<img src='https://drive.google.com/uc?id=1D0Go6oaa7jo6UCiKA01SgD30wz7ghQKv' width=800>"
      ],
      "metadata": {
        "id": "1e8BZ3F7ivV2"
      }
    },
    {
      "cell_type": "code",
      "source": [
        "# 도전문제 8.1\n",
        "contact = {'성':'홍', '이름':'길동', '직장':'네이버'}\n",
        "for key, value in contact.items():\n",
        "  print(key,':',value)\n"
      ],
      "metadata": {
        "id": "1QlQJkOPkBVP"
      },
      "execution_count": null,
      "outputs": []
    },
    {
      "cell_type": "markdown",
      "source": [
        "# 람다 함수 = 이름이 없는 함수_교재 224 페이지\n",
        "* 함수를 한 줄로 간단하게 정의할 수 있는 방식\n",
        "* 함수의 이름 없이 매개 변수와 몸체만으로 이루어진 간단한 구조\n",
        "* 함수를 만들지 않고 함수화된 기능만을 불러 사용하고자 할 경우 사용\n",
        "* 재사용 가능 : 이름이 필요할 경우 표현식에 할당문을 사용\n",
        "* 주의 : 표현식에 새로운 변수 선언 불가\n",
        "* 람다 함수는 변수 없이 식 한 줄로 표현할 수 있어야 하기 때문에, 복잡한 기능의 함수는 def 키워드로 함수 정의해야 함\n",
        "* 람다 함수는 식(expression)만 허용함\n",
        "* if, for, while 같은 문(statement)은 사용할 수 없음\n",
        "<br><br>\n",
        "<img src='https://drive.google.com/uc?id=1D5ZI2tXoji3bkntJJ07cZb0YI8St24IM' width=800>\n",
        "<br><br><br>\n",
        "<img src='https://drive.google.com/uc?id=1DA-lgui_kN6iriaHykUUFYNXIO1CqFkZ' width=800>"
      ],
      "metadata": {
        "id": "3VP-5aU6lkpm"
      }
    },
    {
      "cell_type": "code",
      "source": [
        "# 두 수를 입력받아 그 합을 반환\n",
        "print('100과 200의 합 :', (lambda x, y : x + y)(100, 200))"
      ],
      "metadata": {
        "id": "pvgUN-f-yiH5"
      },
      "execution_count": null,
      "outputs": []
    },
    {
      "cell_type": "code",
      "source": [
        "# t를 인자로 받아서 첫 번째, 두 번째, 세 번째 항목 반환\n",
        "# lambda x : x[0] 표현식 : 임의의 항목을 가진 객체에 대하여 그 첫 번째 항목을 반환함\n",
        "t = (100, 200, 300)\n",
        "print((lambda x : x[0])(t))\n",
        "print((lambda x : x[1])(t))\n",
        "print((lambda x : x[2])(t))"
      ],
      "metadata": {
        "id": "3balowA10IoC"
      },
      "execution_count": null,
      "outputs": []
    },
    {
      "cell_type": "markdown",
      "source": [
        "# 람다 함수 : sorted()함수의 key로 사용(교재 225 페이지)\n",
        "<img src='https://drive.google.com/uc?id=1DIh9DFNlBRtXpwWg60c9WhP4vqW4dsNa' width=800>"
      ],
      "metadata": {
        "id": "GV1E47nOqhgE"
      }
    },
    {
      "cell_type": "code",
      "source": [
        "# 딕셔너리 정렬 : sorted()와 lambda 함수 사용\n",
        "phone_book = {'홍길동':'010-1234-6666', '강감찬':'010-1234-5555', '이순신':'010-1234-7777'}\n",
        "\n",
        "print(sorted(phone_book))           # 딕셔너리를 키를 기준으로 정렬하여 리스트 반환(키만 정렬됨)\n",
        "print(sorted(phone_book.keys()))    # 딕셔너리의 keys()만 따로 꺼내어 정렬\n",
        "print(sorted(phone_book.values()))  # 딕셔너리의 values()만 따로 꺼내어 정렬\n",
        "print(sorted(phone_book.items()))   # 딕셔너리의 (키, 값) 쌍을 튜플로 구성된 리스트로 반환하고, 키를 기준으로 정렬\n",
        "\n",
        "# key = 각 항목을 받아서 정렬 기준을 반환하는 함수\n",
        "sorted_key = (sorted(phone_book.items(), key = lambda x : x[0]))    # lambda : x를 인자로 받아 x의 첫 항목인 x[0]을 반환\n",
        "sorted_value = (sorted(phone_book.items(), key = lambda x : x[1]))  # lambda : x를 인자로 받아 x의 첫 항목인 x[1]을 반환\n",
        "print(sorted_key)\n",
        "print(sorted_value)"
      ],
      "metadata": {
        "id": "d1GRYdUN1r6l"
      },
      "execution_count": null,
      "outputs": []
    },
    {
      "cell_type": "markdown",
      "source": [
        "# 도전문제 8.2(교재 225 페이지)\n",
        "<img src='https://drive.google.com/uc?id=1DJ-wRcWI0V5V8m_dtLd0KzpWRnn1xdAu' width=800>"
      ],
      "metadata": {
        "id": "_ycTSCl4o3xl"
      }
    },
    {
      "cell_type": "code",
      "source": [
        "stores = {'커피음료':7, '펜':3, '종이컵':2, '우유':8, '콜라':4, '책':5}\n",
        "sorted_stores = sorted(stores.items(), key = lambda x : x[0])\n",
        "print(sorted_stores)"
      ],
      "metadata": {
        "id": "QS5ZKgAirpje"
      },
      "execution_count": null,
      "outputs": []
    },
    {
      "cell_type": "markdown",
      "source": [
        "2학년3반"
      ],
      "metadata": {
        "id": "ll4jKSuZlmo5"
      }
    },
    {
      "cell_type": "markdown",
      "source": [
        "# 교재 226 페이지 : 편의점 재고 관리 프로그램\n",
        "<img src='https://drive.google.com/uc?id=1DL1CQFHVJMf3lgWWJ-OXSIFasREBnFmd' width=800>"
      ],
      "metadata": {
        "id": "YZ4LlHA_sxcl"
      }
    },
    {
      "cell_type": "code",
      "source": [
        "stores = {'커피음료':7, '펜':3, '종이컵':2, '우유':8, '콜라':4, '책':5}\n",
        "name = input('물건의 이름을 입력하시오: ')\n",
        "print(f'{name}의 재고는 {stores[name]}개입니다.')"
      ],
      "metadata": {
        "id": "ba07gzdDs-jj"
      },
      "execution_count": null,
      "outputs": []
    },
    {
      "cell_type": "markdown",
      "source": [
        "# 도전문제 8.3\n",
        "<img src='https://drive.google.com/uc?id=1DRd5fDKp2LunH-rhvhqC7vpldQpuiKWT' width=800>"
      ],
      "metadata": {
        "id": "D6JBrcy6tkPP"
      }
    },
    {
      "cell_type": "code",
      "source": [
        "stores = {'커피음료':7, '펜':3, '종이컵':2, '우유':8, '콜라':4, '책':5}\n",
        "while True:\n",
        "  option = input('메뉴를 선택하시오 1)재고조회 2)입고 3)출고 4)종료 : ')\n",
        "  if option == '1':\n",
        "    name = input('[재고조회] 물건의 이름을 입력하시오: ')\n",
        "    print(f'{name}의 재고 : {stores[name]}')\n",
        "  elif option == '2':\n",
        "    # 물건의 이름과 수량 입력 받기\n",
        "    # 재고 +하기\n",
        "    # 재고 출력\n",
        "  elif option == '3':\n",
        "\n",
        "  elif option == '4':\n",
        "\n",
        "  else:\n",
        "\n"
      ],
      "metadata": {
        "id": "2cffnHDJapRT"
      },
      "execution_count": null,
      "outputs": []
    },
    {
      "cell_type": "markdown",
      "source": [
        "# 교재 227 페이지 : 영한 사전을 만들어 보자\n",
        "<img src='https://drive.google.com/uc?id=1DTex6nwCcE5yAuXoa1UEFbWCLl-JEAcq' width=800>"
      ],
      "metadata": {
        "id": "jatyOR-ub5ML"
      }
    },
    {
      "cell_type": "code",
      "source": [
        "# 딕셔너리 구조를 활용하여 영어 단어를 주면 우리말 단어를 출력하는 사전 제작\n",
        "# 초기에 dictionary = {} 선언\n",
        "# 실행된 결과는 명령 프롬프트($)가 나타나며 : input('$ ')\n",
        "# 입력 명령은 '<', 검색 명령은 '>'\n",
        "# 입력은 '< 영어 단어:우리말 단어' 형태 입력\n",
        "# 검색은 '> 영어 단어' 형태 입력\n",
        "# 프로그램의 종료는 'q'키 입력(while True)\n",
        "# 문자열 슬라이싱과 문자열.split(':')를 사용하여 키(영어단어):값(우리말단어) 구분\n",
        "# 문자열.strip()을 사용하여 문자열의 앞 위에 있는 공백 제거"
      ],
      "metadata": {
        "id": "kojYMpzlcQ5k"
      },
      "execution_count": null,
      "outputs": []
    },
    {
      "cell_type": "markdown",
      "source": [
        "# 집합 : 순서가 중요하지 않은 대상들의 모음(교재 228 페이지)\n",
        "* **수학에서 집합이란?** 명확한 기준 혹은 주어진 성질을 만족시키는 대상들의 모임이며, 각각의 항목의 순서는 중요하지 않음<br><br>\n",
        "* **파이썬에서 집합**\n",
        "  * 수학의 집합과 유사한 자료형\n",
        "  * 순서 없음: 리스트나 튜플처럼 인덱스/슬라이싱를 사용할 수 없음\n",
        "  * 중복 허용 안 됨: 동일한 값을 두 번 넣어도 한 번만 저장됨\n",
        "  * 가변 자료형으로 원소의 추가/삭제가 가능\n",
        "    * .add(), .remove(), .discard(), .pop(), .clear(), .update()\n",
        "  * 다양한 집합 연산 지원: 교집합(&), 합집합(|), 차집합(-), 대칭차집합(^)"
      ],
      "metadata": {
        "id": "WtRzLVh7pgQj"
      }
    },
    {
      "cell_type": "code",
      "source": [
        "# 집합 생성\n",
        "numbers = {2, 1, 3}\n",
        "numbers"
      ],
      "metadata": {
        "id": "jp9GmBI43CnR"
      },
      "execution_count": null,
      "outputs": []
    },
    {
      "cell_type": "code",
      "source": [
        "# 비어 있는 집합 생성\n",
        "numbers= set()\n",
        "numbers"
      ],
      "metadata": {
        "id": "x6R7Kmrb58Ip"
      },
      "execution_count": null,
      "outputs": []
    },
    {
      "cell_type": "code",
      "source": [
        "# 리스트로부터 집합 생성\n",
        "# 요소가 중복되면 자동으로 중복된 요소를 제거\n",
        "numbers = set([1, 2, 3, 1, 2])\n",
        "numbers"
      ],
      "metadata": {
        "id": "THj9A5Zm3sda"
      },
      "execution_count": null,
      "outputs": []
    },
    {
      "cell_type": "code",
      "source": [
        "# 문자열로부터 집합 생성\n",
        "# set(\"문자열\")은 문자열을 하나씩 쪼개서 중복 없이 저장하는 집합을 만듦\n",
        "\n",
        "str = set('abcdefa')    # 집합은 중복을 허용하지 않으므로 'a'가 한 번만 포함됨\n",
        "str"
      ],
      "metadata": {
        "id": "XBcvKtBE4WLS"
      },
      "execution_count": null,
      "outputs": []
    },
    {
      "cell_type": "code",
      "source": [
        "# + 연산 불가\n",
        "n_list = [1,2] + [1, 2, 3]\n",
        "print('n_list =', n_list)\n",
        "n_set = {1,2} + {1, 2, 3}\n",
        "print('n_set =', n_set)"
      ],
      "metadata": {
        "id": "g41bmFni66JP"
      },
      "execution_count": null,
      "outputs": []
    },
    {
      "cell_type": "code",
      "source": [
        "# in 연산자 : 어떤 항목이 집합 안에 있는지 검사\n",
        "numbers = {2, 1, 3}\n",
        "if 1 in numbers:\n",
        "  print('집합 안에 1이 있습니다.')\n",
        "else:\n",
        "  print('집합 안에 1이 없습니다.')"
      ],
      "metadata": {
        "id": "V87Lx1NT8vc-"
      },
      "execution_count": null,
      "outputs": []
    },
    {
      "cell_type": "code",
      "source": [
        "# for 반복문을 이용하여 각 항목들에 접근\n",
        "# 순서가 없기 때문에 인덱스를 가지고 접근할 수는 없지만, 순환가능한 객체이므로 for 반복문 사용 가능\n",
        "# 항목들이 출력되는 순서는 입력된 순서와 다를 수 있음\n",
        "\n",
        "numbers= {2, 1, 3}\n",
        "for x in numbers:\n",
        "  print(x, end=' ')"
      ],
      "metadata": {
        "id": "y-bjyzsR9YuE"
      },
      "execution_count": null,
      "outputs": []
    },
    {
      "cell_type": "code",
      "source": [
        "# for 반복문을 이용하여 정렬된 항목 출력하기\n",
        "\n",
        "numbers = {2, 1, 3}\n",
        "for x in sorted(numbers):\n",
        "  print(x, end=' ')"
      ],
      "metadata": {
        "id": "m0MyzuQH_ghz"
      },
      "execution_count": null,
      "outputs": []
    },
    {
      "cell_type": "code",
      "source": [
        "# 집합에 요소 추가\n",
        "numbers = {2, 1, 3}\n",
        "numbers.add(4)\n",
        "numbers"
      ],
      "metadata": {
        "id": "-qFQIXXMAEAJ"
      },
      "execution_count": null,
      "outputs": []
    },
    {
      "cell_type": "code",
      "source": [
        "# 집합의 요소 삭제\n",
        "numbers = {2, 1, 3}\n",
        "numbers.remove(1)\n",
        "numbers.discard(1)\n",
        "print(numbers)"
      ],
      "metadata": {
        "id": "loXVFnBBTPAa"
      },
      "execution_count": null,
      "outputs": []
    },
    {
      "cell_type": "code",
      "source": [],
      "metadata": {
        "id": "KDzkqjiossAQ"
      },
      "execution_count": null,
      "outputs": []
    },
    {
      "cell_type": "markdown",
      "source": [
        "# 집합 연산자(교재 230 페이지)\n",
        "* 집합 비교 연산\n",
        "  * 2개의 집합이 서로 같은지 검사\n",
        "  * ==, !=, <, <=,> ,>=\n",
        "* 집합 항목에 대한 정보 처리 함수\n",
        "  * len()\n",
        "  * max()\n",
        "  * min()\n",
        "  * sorted()\n",
        "  * sum()\n",
        "* 집합에 적용할 수 있는 논리 연산\n",
        "  * all()\n",
        "  * any()\n",
        "* 집합 간의 집합 연산\n",
        "  * 합집합(union) : A 또는 B에 있는 모든 원소를 모음(중복은 자동 제거)\n",
        "  * 교집합(intersection) : A와 B 둘 다에 있는 공통 원소만 모음\n",
        "  * 차집합(difference) : A에만 있고, B에는 없는 원소를 모음\n",
        "  * 대칭차집합(symmetric_difference) : A 또는 B에만 있는 원소를 모음(공통으로 있는 것은 제외)<br>\n",
        "*\n",
        "<img src='https://drive.google.com/uc?id=1fVFDs87kDWXXOLbyn81qc1cVIjec8vhT' width=200>\n",
        "<img src='https://drive.google.com/uc?id=1fX5ir9go96vIdk1Rb8V1GD1ptLRVPKsZ' width=200>\n",
        "<img src='https://drive.google.com/uc?id=1fY1DegJg3IrcozcGQTwyyLgG04lp24yb' width=200>\n",
        "<img src='https://drive.google.com/uc?id=1f_YZj6e2EA02allf0BLgCpQss8T_Whn-' width=200>"
      ],
      "metadata": {
        "id": "PRTyCLhdsR19"
      }
    },
    {
      "cell_type": "code",
      "source": [
        "# 집합 비교 연산\n",
        "a = {1, 2, 3}\n",
        "b = {1, 2, 3}\n",
        "print(a == b)   # 두 집합이 같은지 검사 (모든 원소가 같아야 함)\n",
        "print(a != b)   # 두 집합이 다른지 검사\n",
        "print(a < b)    # 왼쪽 집합이 오른쪽 집합의 진부분집합인지 검사\n",
        "print(a <= b)   # 왼쪽 집합이 오른쪽 집합의 부분집합인지 검사\n",
        "print(a > b)    # 왼쪽 집합이 오른쪽 집합의 진상위집합인지 검사\n",
        "print(a >= b)   # 왼쪽 집합이 오른쪽 집합의 상위집합인지 검사"
      ],
      "metadata": {
        "id": "gJKo_TrIxWiv"
      },
      "execution_count": null,
      "outputs": []
    },
    {
      "cell_type": "code",
      "source": [
        "# 집합 간의 집합 연산\n",
        "A = {1, 2, 3}\n",
        "B = {3, 4, 5}\n",
        "\n",
        "# 합집합(모든 원소)\n",
        "print(A | B)           # {1, 2, 3, 4, 5}\n",
        "print(A.union(B))      # {1, 2, 3, 4, 5}\n",
        "# print(A.update(B))\n",
        "\n",
        "# 교집합(공통 원소)\n",
        "print(A & B)              # {3}\n",
        "print(A.intersection(B))  # {3}\n",
        "\n",
        "# 차집합(A에만 있는 원소)\n",
        "print(A - B)            # {1, 2}\n",
        "print(A.difference(B))  # {1, 2}\n",
        "\n",
        "# 대칭차집합(둘 중 하나에만 있는 원소)\n",
        "print(A ^ B)                        # {1, 2, 4, 5}\n",
        "print(A.symmetric_difference(B))    # {1, 2, 4, 5}"
      ],
      "metadata": {
        "id": "gQCxPallzjU0"
      },
      "execution_count": null,
      "outputs": []
    },
    {
      "cell_type": "markdown",
      "source": [
        "# 파이썬의 중요한 자료구조들(교재 232 페이지)\n",
        "# 리스트, 튜플, 집합, 딕셔너리 비교\n",
        "<img src='https://drive.google.com/uc?id=1fjRne8MxloydG7_rHXJNMzq1PIt1u4fU' width=800><br><br>\n",
        "* 리스트 원소들 중에서 중복된 원소들을 빠르게 제거하는 방법<br>\n",
        "→ 리스트 자료형을 집합 자료형으로 변경한 후 다시 리스트형으로 변경\n",
        "* 집합과 딕셔너리의 생성방법은 { }로 동일함<br>\n",
        "→ 항목값이 없을 경우 디폴트로 원소가 없는 딕셔너리 형이 됨"
      ],
      "metadata": {
        "id": "bzHaci0u8A0l"
      }
    },
    {
      "cell_type": "markdown",
      "source": [
        "# 교재 233 페이지\n",
        "# 파티에 동시에 참석한 사람 알아내기\n",
        "<img src='https://drive.google.com/uc?id=1fmxYgTCRowF1cqAWV26zoDveOMC4ZL8i' width=800>"
      ],
      "metadata": {
        "id": "pL-gkHGY_XS3"
      }
    },
    {
      "cell_type": "code",
      "source": [
        "partyA = set(['Park', 'Kim', 'Lee'])\n",
        "partyB = set(['Park', 'Choi'])\n",
        "print('2개의 파티에 모두 참석한 사람은 다음과 같습니다.')\n",
        "print()\n",
        "print(partyA & partyB)"
      ],
      "metadata": {
        "id": "0W4EXnBvBGDN"
      },
      "execution_count": null,
      "outputs": []
    },
    {
      "cell_type": "markdown",
      "source": [
        "<img src='https://drive.google.com/uc?id=1fqyK5hr-vK2c-75fWdxNk-WG90C9WszL' width=800>"
      ],
      "metadata": {
        "id": "cKDaAkyJAr5x"
      }
    },
    {
      "cell_type": "code",
      "source": [
        "# (1)\n",
        "partyA = set([\"Park\", \"Kim\", \"Lee\"])\n",
        "partyB = set([\"Park\", \"Choi\"])\n",
        "\n",
        "\n",
        "\n",
        "# (2)\n",
        "\n",
        "\n",
        "\n",
        "# (3)\n",
        "\n"
      ],
      "metadata": {
        "id": "GaNVLedVCCU5"
      },
      "execution_count": null,
      "outputs": []
    },
    {
      "cell_type": "markdown",
      "source": [
        "# 파일로부터 자료를 읽고 저장해보자(교재 234 페이지)\n",
        "* 컴퓨터 **파일**이란? 컴퓨터의 저장 장치 내에 데이터를 저장하기 위해 사용하는 논리적인 단위를 말함\n",
        "* 본 장에서는 .txt라는 확장자를 가지는 텍스트 파일을 읽어서 작업을 수행하는 방법에 대해 알아보자."
      ],
      "metadata": {
        "id": "7abivIldDDRT"
      }
    },
    {
      "cell_type": "markdown",
      "source": [
        "### 파일 열기 모드(읽기, 쓰기, 추가)\n",
        "* 'w'는 쓰기(Write) : 파일이 없으면 생성, 있으면 덮어쓰기\n",
        "* 'a'는 추가(Append)： 기존 파일 뒤에 새로운 내용을 이어서 추가\n",
        "* 'r'는 읽기(Read) : 파일을 읽기만 함, 수정 불가"
      ],
      "metadata": {
        "id": "4eRoUI-_ob1B"
      }
    },
    {
      "cell_type": "markdown",
      "source": [
        "### (w)드라이브를 마운트하지 않고 파일을 읽고 쓰기\n",
        "* 현재 코랩의 임시 저장소 (/content/) 에 파일을 저장\n",
        "* 드라이브 연결 없이, 코랩 내에서만 작업"
      ],
      "metadata": {
        "id": "jog2nmZIeB0Y"
      }
    },
    {
      "cell_type": "code",
      "source": [
        "# 파일을 열고 쓰기 (수동으로 닫기)\n",
        "f = open('hello.txt', 'w')             # 파일을 쓰기 모드로 열기\n",
        "f.write('마운트X, 수동으로 닫기')      # 파일에 문자열 쓰기\n",
        "f.close()                              # 파일 닫기\n",
        "\n",
        "# 저장 경로 : /content/hello.txt"
      ],
      "metadata": {
        "id": "3sZzHl_nZNRc"
      },
      "execution_count": null,
      "outputs": []
    },
    {
      "cell_type": "code",
      "source": [
        "# 파일을 열고 쓰기 (자동으로 닫기)\n",
        "with open('hello.txt', 'w') as f:   # 블록이 끝나면 자동으로 파일이 닫힘(더 안전하고 추천하는 방법)\n",
        "  f.write('마운트X, 자동으로 닫기')\n",
        "\n",
        "# 저장 경로 : /content/hello.txt"
      ],
      "metadata": {
        "id": "BiHwlhbobDyJ"
      },
      "execution_count": null,
      "outputs": []
    },
    {
      "cell_type": "markdown",
      "source": [
        "### (w)구글 드라이브를 마운트하고 파일을 읽고 쓰기\n",
        "* 코랩에서 Google Drive를 마운트하여, 영구 저장할 수 있는 방법\n",
        "* 내 구글 드라이브를 /content/drive/ 에 연결\n",
        "* 인증 과정(로그인)이 필요함"
      ],
      "metadata": {
        "id": "GYJGNEDHePzJ"
      }
    },
    {
      "cell_type": "code",
      "source": [
        "# Google Drive를 구글 코랩에 연결(마운트)\n",
        "from google.colab import drive\n",
        "drive.mount('/content/drive')"
      ],
      "metadata": {
        "id": "k2TQ2JKTyNpN"
      },
      "execution_count": null,
      "outputs": []
    },
    {
      "cell_type": "code",
      "source": [
        "# 드라이브 내 파일 저장 (수동으로 닫기)\n",
        "\n",
        "f = open('/content/drive/MyDrive/hello.txt', 'w')\n",
        "f.write('마운트하고 수동으로 닫기')\n",
        "f.close()\n",
        "\n",
        "# 저장 경로 : /content/drive/MyDrive/ 폴더 안에 hello.txt 파일 생성"
      ],
      "metadata": {
        "id": "mgrhCMCNvKn8"
      },
      "execution_count": null,
      "outputs": []
    },
    {
      "cell_type": "code",
      "source": [
        "# 드라이브 내 파일 저장 (자동으로 닫기)\n",
        "\n",
        "with open('/content/drive/MyDrive/hello.txt', 'w') as f:\n",
        "    f.write('마운트하고 자동으로 닫기')"
      ],
      "metadata": {
        "id": "0sa4YS530zOO"
      },
      "execution_count": null,
      "outputs": []
    },
    {
      "cell_type": "markdown",
      "source": [
        "### (r) 파일 읽어들이기"
      ],
      "metadata": {
        "id": "mIuCCaksmSWR"
      }
    },
    {
      "cell_type": "code",
      "source": [
        "f = open('hello.txt', 'r')  # 파일을 연다.(파일 객체 생성)\n",
        "s = f.read()                # hello.txt 파일을 읽는다.(파일 내용을 메모리로 읽어오기)\n",
        "print(s)                    # 파일의 내용을 출력한다.(읽어온 문자열 출력)\n",
        "f.close()                   # 파일을 닫는다."
      ],
      "metadata": {
        "id": "HXBz-Q1HpRQN"
      },
      "execution_count": null,
      "outputs": []
    },
    {
      "cell_type": "markdown",
      "source": [
        "### (a) 파일 끝에 내용 추가하기"
      ],
      "metadata": {
        "id": "qE9WvFnWp67x"
      }
    },
    {
      "cell_type": "code",
      "source": [
        "with open('hello.txt', 'a') as f:\n",
        "  f.write('\\n추가된 내용입니다.')"
      ],
      "metadata": {
        "id": "Vgt94CCKp6cQ"
      },
      "execution_count": null,
      "outputs": []
    },
    {
      "cell_type": "code",
      "source": [],
      "metadata": {
        "id": "92F0b7tlGQkN"
      },
      "execution_count": null,
      "outputs": []
    },
    {
      "cell_type": "markdown",
      "source": [
        "# 파일에서 사용된 단어 구하기(교재 235 페이지)\n",
        "<img src='https://drive.google.com/uc?id=1fyefmRJlE_gkovYhqpwVzCFIRpB7Z_Lq' width=800>"
      ],
      "metadata": {
        "id": "lexML67Z0KCD"
      }
    },
    {
      "cell_type": "code",
      "source": [
        "# 읽어올 파일 이름 : proverb.txt\n",
        "\n",
        "def process(w):          # 주어진 단어 w에서 알파벳 문자만 남기고 모두 제거한 뒤, 소문자로 변환하여 반환한다.\n",
        "  output = ''           # 빈 문자열 생성\n",
        "  for ch in w:          # 단어의 문자 하나씩 순회\n",
        "    if ch.isalpha():      # ch 문자가 알파벳이면...(숫자, 기호 제거)\n",
        "      output += ch       # ch 문자를 output 문자열에 추가\n",
        "  return output.lower()   # output 문자열을 소문자로 변환해서 반환\n",
        "\n",
        "words = set()             # 빈 집합 생성(단어들을 중복 없이 저장하기 위해)\n",
        "fname = input('입력 파일 이름 : ')  # 사용자에게 읽어올 파일 이름을 입력받는다.\n",
        "file = open(fname, 'r')   # 파일을 읽기 모드('r')로 연다.\n",
        "\n",
        "for line in file:         # 파일을 한 줄(line)씩 읽는다.(file 객체는 \"파일 전체\"이고, for문을 돌리면 \"한 줄(line)씩\" 읽음)\n",
        "  lineWords = line.split()  # 읽은 한 줄을 공백(스페이스, 탭 등)을 기준으로 나누어 단어들의 리스트로 만든다.\n",
        "  for word in lineWords:    # lineWords는 단어들의 리스트가 된다.\n",
        "    words.add(process(word))  # 각 단어를 처리한 결과를 집합 words에 추가한다. (process()를 이용해 기호 제거 및 소문자 변환)\n",
        "file.close()\n",
        "\n",
        "print('사용된 단어의 개수 =', len(words))  # 사용된 단어의 개수를 출력한다. (집합이므로 중복 단어는 자동 제거)\n",
        "print(words)"
      ],
      "metadata": {
        "id": "8cWT8TL722Bd",
        "colab": {
          "base_uri": "https://localhost:8080/"
        },
        "outputId": "5095abff-f476-4fd0-ac0f-013a20dbc735"
      },
      "execution_count": null,
      "outputs": [
        {
          "output_type": "stream",
          "name": "stdout",
          "text": [
            "입력 파일 이름 : proverb.txt\n",
            "사용된 단어의 개수 = 18\n",
            "{'bad', 'begun', 'feather', 'flock', 'that', 'news', 'done', 'a', 'of', 'travels', 'fast', 'alls', 'is', 'birds', 'together', 'half', 'ends', 'well'}\n"
          ]
        }
      ]
    },
    {
      "cell_type": "code",
      "source": [],
      "metadata": {
        "id": "UVQUU_dzCJeC"
      },
      "execution_count": null,
      "outputs": []
    },
    {
      "cell_type": "markdown",
      "source": [
        "# 두 수의 약수와 최대공약수 구하기\n"
      ],
      "metadata": {
        "id": "doPShFagCwHA"
      }
    },
    {
      "cell_type": "code",
      "source": [
        "def get_divisors(num):      # num의 약수를 집합형으로 반환함\n",
        "  divisors = set()\n",
        "  for i in range(2, num):\n",
        "    if num % i == 0:        # num을 2부터 num-1까지의 수로 나누어 떨어지는 약수\n",
        "      divisors.add(i)\n",
        "  return divisors\n",
        "\n",
        "n1, n2 = map(int, input('최대공약수를 구할 정수 2개를 입력하시오: ').split())\n",
        "n1_d = get_divisors(n1)\n",
        "n2_d = get_divisors(n2)\n",
        "print(f'{n1}의 진약수 : {n1_d}')\n",
        "print(f'{n2}의 진약수 : {n2_d}')\n",
        "print(f'{n1}과 {n2}의 공약수 : {n1_d.intersection(n2_d)}')\n",
        "print(f'{n1}과 {n2}의 최대공약수 : {max(n1_d.intersection(n2_d))}')"
      ],
      "metadata": {
        "id": "erhi8jxgC7LZ"
      },
      "execution_count": null,
      "outputs": []
    },
    {
      "cell_type": "markdown",
      "source": [
        "# 심화문제(239 페이지)\n"
      ],
      "metadata": {
        "id": "cpv72oVKDOsB"
      }
    },
    {
      "cell_type": "markdown",
      "source": [
        "## 8.1\n",
        "철수네 과일가게는 '사과', '배', '수박', '귤', '포도'를 판매하는 중이다. 매일 매일 입고되는 가격에 따라서 가격이 결정되므로 아침마다 각 과일의 가격을 입력하는 기능을 만들어서 입력하면 이를 출력하여 다음과 같이 표시하고자 한다. 이와 같은 기능을 수행하는 파이썬 프로그램을 작성하여라. 이 때 {'사과':3000}과 같이 입력된 값을 키-값의 쌍으로 된 fruits_price 딕서녀리에 추가한 후 for문과 keys()메서드를 사용하여 출력하여라.\n",
        "<br><br>\n",
        "<img src='https://drive.google.com/uc?id=1g0Cqzfvu63qATgefg76Ixvp9Ycb8ixiw' width=800>"
      ],
      "metadata": {
        "id": "zu5-XfPWDUrs"
      }
    },
    {
      "cell_type": "code",
      "source": [
        "# fruits_dic = {'사과':0, '배':0, '수박':0, '귤':0, '포도':0}\n",
        "fruits_dic = {}\n",
        "\n",
        "# 문장이 너무 길기 때문에 \\를 이용해 여러 줄로 나눠 읽기 쉽게 해준다.\n",
        "fruits_dic[\"사과\"], fruits_dic[\"배\"], \\\n",
        "fruits_dic[\"수박\"], fruits_dic[\"귤\"], \\\n",
        "fruits_dic[\"포도\"] = map(int, input('사과, 배, 수박, 귤, 포도 가격을 공백으로 구분하여 입력: ').split())\n",
        "\n",
        "print('------------- 오늘의 과일 가격 ----------------')\n",
        "for name, price in fruits_dic.items():\n",
        "    print('{0:3s}:{1:6d}원'.format(name, price))"
      ],
      "metadata": {
        "id": "BCU08fC8EXlG",
        "colab": {
          "base_uri": "https://localhost:8080/"
        },
        "outputId": "22c46155-46da-4293-c07f-af27c270a3a8"
      },
      "execution_count": null,
      "outputs": [
        {
          "output_type": "stream",
          "name": "stdout",
          "text": [
            "사과, 배, 수박, 귤, 포도 가격을 공백으로 구분하여 입력: 3000 4500 6000 2400 3400\n",
            "------------- 오늘의 과일 가격 ----------------\n",
            "사과 :  3000원\n",
            "배  :  4500원\n",
            "수박 :  6000원\n",
            "귤  :  2400원\n",
            "포도 :  3400원\n"
          ]
        }
      ]
    },
    {
      "cell_type": "markdown",
      "source": [
        "## 8.2\n",
        "8.1번 문제에서 입력받은fruits_price 딕셔너리의 가격정보를 사용하여 고객이 과일의 이름을 알려주는 다음과 같은 프로그램을 작성하여라.\n",
        "<br><br>\n",
        "<img src='https://drive.google.com/uc?id=1g6q7qNm9q20khw3QjWJBmU0X2EwRhAfd' width=400>"
      ],
      "metadata": {
        "id": "Qexjft8ZGX__"
      }
    },
    {
      "cell_type": "code",
      "source": [
        "name = input('구매를 원하는 과일의 이름을 입력하시오: ')\n",
        "print('오늘의 {0} 가격은 {1} 원 입니다'.format(name, fruits_dic[name]))"
      ],
      "metadata": {
        "id": "feaN8nhAHfY-"
      },
      "execution_count": null,
      "outputs": []
    },
    {
      "cell_type": "markdown",
      "source": [
        "## 8.3\n",
        "학번, 이름, 전화번호의 3쌍의 요소를 가지는 student_tup 라는 튜플이 다음과 같이 존재한다.<br>\n",
        "```python\n",
        "student_tup = (('241101', '박동윤', '010-1234-4500'), ('241102', '김은지', '010-2230-6540'), ('241103', '이지은', '010-3232-7788'))\n",
        "```\n"
      ],
      "metadata": {
        "id": "9-TW3JvuIR-j"
      }
    },
    {
      "cell_type": "markdown",
      "source": [
        "1) 이 튜플을 수정하여 {학번 : [이름, 전화번호]}의 쌍으로 이루어진 딕셔너리를 만들어서 출력하여라.\n",
        "<br><br>\n",
        "<img src='https://drive.google.com/uc?id=1gCBDNot65MHg4uHC2rd2KeoAa-M7ND7K' width=400>"
      ],
      "metadata": {
        "id": "67LTmA7lJP47"
      }
    },
    {
      "cell_type": "code",
      "source": [
        "student_tup = (\n",
        "    ('241101', '박동윤', '010-1234-4500'),\n",
        " ('241102', '김은지', '010-2230-6540'),\n",
        "  ('241103', '이지은', '010-3232-7788')\n",
        "  )\n",
        "student_dic={}\n",
        "for student in student_tup:\n",
        "  number, name, phone = student\n",
        "  student_dic[number] = [name, phone]\n",
        "\n",
        "print('학생의 정보 목록')\n",
        "for key, value in student_dic.items():\n",
        "  print(f\"{{'{key}' : {value}}}\")"
      ],
      "metadata": {
        "id": "C-9HZ5v4JslX"
      },
      "execution_count": null,
      "outputs": []
    },
    {
      "cell_type": "markdown",
      "source": [
        "2) 이 정보를 이용하여 학생의 학번을 입력으로 받아서 이름과 전화번호를 출력하는 학사 정보 프로그램을 작성하여라.\n",
        "<br><br>\n",
        "<img src='https://drive.google.com/uc?id=1gIR4ZS3f59G9x0mSop0-4XDKnn8wD4X9' width=300>"
      ],
      "metadata": {
        "id": "uyh2yVvtRSWf"
      }
    },
    {
      "cell_type": "code",
      "source": [
        "number = input('학번을 입력하시오: ')\n",
        "print(f'이름 : {student_dic[number][0]}')\n",
        "print(f'연락처 : {student_dic[number][1]}')\n"
      ],
      "metadata": {
        "id": "O7rsBttCSAr4"
      },
      "execution_count": null,
      "outputs": []
    },
    {
      "cell_type": "markdown",
      "source": [
        "3) student_tup의 마지막 항목으로 직전학기의 학점을 추가하여라. 3 학생의 학점은 각각 4.3, 3.9, 4.25 이다. 이 정보를 바탕으로 다음과 같은 딕셔너리를 만들어서 학생 정보를 출력하여라.\n",
        "<br>\n",
        "<br>\n",
        "<img src='https://drive.google.com/uc?id=1gOVKV9LS9SJpOtD9oa4yg3Qd-esF32RH' width=450>"
      ],
      "metadata": {
        "id": "GJKoFIeBT9P6"
      }
    },
    {
      "cell_type": "code",
      "source": [
        "student_tup = (\n",
        "    ('241101', '박동윤', '010-1234-4500'),\n",
        " ('241102', '김은지', '010-2230-6540'),\n",
        "  ('241103', '이지은', '010-3232-7788')\n",
        "  )\n",
        "\n",
        "student_dic = {}\n",
        "for student in student_tup:\n",
        "    number, name, phone = student\n",
        "    student_dic[number] = [name, phone]\n",
        "\n",
        "student_dic['241101'].append(4.3)\n",
        "student_dic['241102'].append(3.9)\n",
        "student_dic['241103'].append(4.25)\n",
        "\n",
        "print(\"학생의 정보 목록\")\n",
        "for key, value in student_dic.items():\n",
        "    print(\"{'\" + key + \"' :\",value, \"}\")"
      ],
      "metadata": {
        "id": "IzUpUO2UV3m8"
      },
      "execution_count": null,
      "outputs": []
    },
    {
      "cell_type": "markdown",
      "source": [
        "4) 문제 3)의 정보를 이용하여 for 반복문과 인덱싱을 통해서 3학생의 학점의 평균값을 다음과 같이 출력하여라.\n",
        "<br><br>\n",
        "<img src='https://drive.google.com/uc?id=1gQuvB_rkwTUY7dvEjIV99T9hJTjPedZx' width=300>"
      ],
      "metadata": {
        "id": "_q_deeXZWz_c"
      }
    },
    {
      "cell_type": "code",
      "source": [
        "result = 0\n",
        "for key, value in student_dic.items():\n",
        "  result += value[2]\n",
        "print(f'전체 학생의 학점 평균: {result/len(student_dic):0.2f}')"
      ],
      "metadata": {
        "id": "d000XReeX2HE"
      },
      "execution_count": null,
      "outputs": []
    },
    {
      "cell_type": "markdown",
      "source": [
        "## 8.4\n",
        "다음과 같은 리스트 데이터가 있다. 이 데이터에서 중복되는 원소는 10, 20, 30 이며 각각 2회, 3회, 4회 나타난다.\n",
        "```python\n",
        "lst = [10, 30, 40, 50, 30, 30, 20, 20, 20, 10, 30]\n",
        "```\n"
      ],
      "metadata": {
        "id": "ZWlCpKDvY6oA"
      }
    },
    {
      "cell_type": "markdown",
      "source": [
        "1) 이와 같은 자료에 대하여 다음과 같이 중복이 없는 원소를 출력하는 프로그램을 작성하여라.\n",
        "<br><br>\n",
        "<img src='https://drive.google.com/uc?id=1gYeJJSLr584dxto04N4h9_VVZdSLqBqB' width=300>"
      ],
      "metadata": {
        "id": "YID__w4GZWjm"
      }
    },
    {
      "cell_type": "code",
      "source": [
        "lst = [10, 30, 40, 50, 30, 30, 20, 20, 20, 10, 30]\n",
        "\n",
        "lst_dic = {}\n",
        "for value in lst:\n",
        "    if lst_dic.get(value):\n",
        "        lst_dic[value] += 1\n",
        "    else:\n",
        "        lst_dic[value] = 1\n",
        "\n",
        "sorted_lst = sorted(lst_dic.items(), key=lambda x: x[0])\n",
        "\n",
        "lst = []\n",
        "for value in sorted_lst:\n",
        "    if value[1] == 1:\n",
        "        lst.append(value[0])\n",
        "\n",
        "print('중복이 없는 원소 :',lst)"
      ],
      "metadata": {
        "id": "UXloXfA6aYMb",
        "colab": {
          "base_uri": "https://localhost:8080/"
        },
        "outputId": "051b1bf0-a5bb-4ac6-8008-a6891dd6dfa6"
      },
      "execution_count": null,
      "outputs": [
        {
          "output_type": "stream",
          "name": "stdout",
          "text": [
            "[(10, 2), (30, 4), (40, 1), (50, 1), (20, 3)]\n",
            "중복이 없는 원소 : [40, 50]\n"
          ]
        }
      ]
    },
    {
      "cell_type": "markdown",
      "source": [
        "2) 중복되는 원소를 한 번씩만 출력하도록 프로그램을 작성하여라.\n",
        "<br><br>\n",
        "<img src='https://drive.google.com/uc?id=1g_FjFiy4h2OduLQq9B8aLxg_stG8II71' width =350>"
      ],
      "metadata": {
        "id": "VyhOI7bWZhNU"
      }
    },
    {
      "cell_type": "code",
      "source": [
        "lst = [10, 30, 40, 50, 30, 30, 20, 20, 20, 10, 30]\n",
        "\n",
        "lst_dic = {}\n",
        "for value in lst:\n",
        "    if lst_dic.get(value):\n",
        "        lst_dic[value] += 1\n",
        "    else:\n",
        "        lst_dic[value] = 1\n",
        "\n",
        "sorted_lst = sorted(lst_dic.items(), key=lambda x: x[0])\n",
        "\n",
        "lst = []\n",
        "for value in sorted_lst:\n",
        "  lst.append(value[0])\n",
        "\n",
        "print('전체 원소 :',lst)"
      ],
      "metadata": {
        "id": "p64gRSEKaY2o"
      },
      "execution_count": null,
      "outputs": []
    },
    {
      "cell_type": "markdown",
      "source": [
        "3) 다음과 같이 중복출현 빈도를 출력하여라.(중복이 없는 원소 제외한 값)\n",
        "<br><br>\n",
        "<img src='https://drive.google.com/uc?id=1gahDsgQZn4DOVEID9kRlWRce1DpTbcqh' width=100>"
      ],
      "metadata": {
        "id": "s66eRQU5ZqT8"
      }
    },
    {
      "cell_type": "code",
      "source": [
        "lst = [10, 30, 40, 50, 30, 30, 20, 20, 20, 10, 30]\n",
        "\n",
        "lst_dic = {}\n",
        "for value in lst:\n",
        "    if lst_dic.get(value):\n",
        "        lst_dic[value] += 1\n",
        "    else:\n",
        "        lst_dic[value] = 1\n",
        "\n",
        "sorted_lst = sorted(lst_dic.items(), key=lambda x: x[0])\n",
        "\n",
        "lst = []\n",
        "for value in sorted_lst:\n",
        "    if value[1] != 1:\n",
        "        print(value[0], ':', value[1], '회')"
      ],
      "metadata": {
        "id": "FXbVTyXZaZZq"
      },
      "execution_count": null,
      "outputs": []
    },
    {
      "cell_type": "markdown",
      "source": [
        "## 8.5\n",
        "LAB 8-2번 문제를 확장하여라. 확장할 명령은 v로 이를 입력할 경우 다음과 같이 사전에 등록된 단어와 그 뜻을 출력한다.\n",
        "<br><br>\n",
        "<img src='https://drive.google.com/uc?id=1gggloA4dir4Yi7rzlvhEBFNiy-bmOtWJ' width=500>"
      ],
      "metadata": {
        "id": "vP-GL79UaVX7"
      }
    },
    {
      "cell_type": "code",
      "source": [
        "print(\"사전 프로그램 시작... 종료는 q를 입력\")\n",
        "dictionary = {}\n",
        "\n",
        "while True:\n",
        "    st = input('$ ')\n",
        "    command = st[0]       # 첫 입력 문자를 추출한다\n",
        "    if command == '<':\n",
        "        st = st[1:]\n",
        "        inputStr = st.split(':')\n",
        "        if len(inputStr) < 2 :\n",
        "            print('입력 오류가 발생했습니다.')\n",
        "        else:\n",
        "            dictionary[inputStr[0].strip()] = inputStr[1].strip()\n",
        "    elif command == '>':\n",
        "        st = st[1:]\n",
        "        inputStr = st.strip()\n",
        "        if inputStr in dictionary:\n",
        "            print(dictionary[inputStr])\n",
        "        else :\n",
        "            print('{}가 사전에 없습니다.'.format(inputStr))\n",
        "    elif command == 'q':\n",
        "        break\n",
        "    elif command == 'v':\n",
        "        print('영어 사전에 있는 단어와 뜻을 출력합니다.')\n",
        "        for key, value in dictionary.items():\n",
        "            print(key, ':', value)\n",
        "    else :\n",
        "        print('입력 오류가 발생했습니다.')\n",
        "print(\"사전 프로그램을 종료합니다.\")"
      ],
      "metadata": {
        "id": "cOOw4xizf3Zc"
      },
      "execution_count": null,
      "outputs": []
    },
    {
      "cell_type": "markdown",
      "source": [
        "## 8.6\n",
        "튜플을 요소로 가지는 student_tuple 리스트가 다음과 같이 있다. 이 튜플의 요소가 되는 튜플은 다음과 같이 (학번, 이름, 전화번호)로 이루어져 있다.\n",
        "<br><br>\n",
        "```python\n",
        "student_tuple = [('241101', '강이안', '010-123-1111'), ('241102, '박동민', '010-123-2222'), ('241103', '김수정', '010-123-3333')]\n",
        "```\n",
        "\n",
        "\n"
      ],
      "metadata": {
        "id": "sjUNl2bdg9E6"
      }
    },
    {
      "cell_type": "markdown",
      "source": [
        "1) 이 튜플을 이용하여 (학번:이름)의 딕셔너리를 만들어 다음과 같이 출력하여라.\n",
        "<br><br>\n",
        "<img src='https://drive.google.com/uc?id=1gguwgix46OFW04LQAaxyNbqhUsqsn0zp' width=150>"
      ],
      "metadata": {
        "id": "KqvvMHB9jw54"
      }
    },
    {
      "cell_type": "code",
      "source": [
        "student_tuple = [('241101', '강이안', '010-123-1111'), ('241102', '박동민', '010-123-2222'),('241103', '김수정', '010-123-3333')]\n"
      ],
      "metadata": {
        "id": "KeyBmGBPkSNq"
      },
      "execution_count": null,
      "outputs": []
    },
    {
      "cell_type": "markdown",
      "source": [
        "2) 이 튜플을 이용하여 학번으로 학생의 정보를 조회할 경우 다음과 같이 학번, 이름과 전화번호가 출력되도록 하여라.\n",
        "<br><br>\n",
        "<img src='https://drive.google.com/uc?id=1gk5C_aCT8a2UMxTrzyNtb1mh6nb_9_qy' width=500>"
      ],
      "metadata": {
        "id": "-izwLx5ajegf"
      }
    },
    {
      "cell_type": "code",
      "source": [],
      "metadata": {
        "id": "mWB57CwPkx7X"
      },
      "execution_count": null,
      "outputs": []
    },
    {
      "cell_type": "markdown",
      "source": [
        "## 8.7\n",
        "다음과 같이 튜플 (m, n)을 요소로 가지는 리스트 mylist가 있다. 사용자로부터 a, b의 두 값을 입력으로 받아서 (a, b)값을 가지는 튜플이 있을 경우 'x번째에 (a, b)요소가 있습니다.'를 출력하여라. 만일 (a, b)요소는 없으나 (b, a)요소가 있을 경우, '(a, b)요소는 없으나 y번째에 (b, a)요소가 있습니다.'를 출력하여라. 만일 (a, b) 요소나 (b, a) 요소가 없을 경우에는 '이 요소는 없습니다.'를 출력하여라.\n",
        "```python\n",
        "mylist = [(1, 2), (4, 5), (4, 2), (3, 1), (9, 4)]\n",
        "```\n",
        "<br>\n",
        "<img src='https://drive.google.com/uc?id=1grRHXmWNkuw_MQDG9gXhfSAi1pdH-F1F' width=500>"
      ],
      "metadata": {
        "id": "8cQmWzhEjbg4"
      }
    },
    {
      "cell_type": "code",
      "source": [
        "mylist = [(1, 2), (4, 5), (4, 2), (3, 1), (9, 4), (8, 8), (4, 0)]\n",
        "print('mylist =', mylist)\n",
        "\n",
        "a, b = input('두 정수를 입력하시오:').split()\n",
        "a, b = int(a), int(b)\n",
        "if (a, b) in mylist:\n",
        "  idx = mylist.index((a, b))\n",
        "  print('{}번째에 {} 원소가 있습니다.'.format(idx+1, (a, b)))\n",
        "elif (b, a) in mylist:\n",
        "  idx = mylist.index((b, a))\n",
        "  print('{} 원소는 없으나 {}번째에 {} 원소가 있습니다.'.format((a, b), idx+1, (b,a)))\n",
        "else:\n",
        "  print('{} 원소나 {} 원소는 없습니다'.format((a, b), (b, a)))"
      ],
      "metadata": {
        "id": "flOfWERfmknW"
      },
      "execution_count": null,
      "outputs": []
    }
  ]
}