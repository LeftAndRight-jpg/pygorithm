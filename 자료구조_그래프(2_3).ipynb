{
  "nbformat": 4,
  "nbformat_minor": 0,
  "metadata": {
    "colab": {
      "provenance": [],
      "include_colab_link": true
    },
    "kernelspec": {
      "name": "python3",
      "display_name": "Python 3"
    },
    "language_info": {
      "name": "python"
    }
  },
  "cells": [
    {
      "cell_type": "markdown",
      "metadata": {
        "id": "view-in-github",
        "colab_type": "text"
      },
      "source": [
        "<a href=\"https://colab.research.google.com/github/LeftAndRight-jpg/pygorithm/blob/main/%EC%9E%90%EB%A3%8C%EA%B5%AC%EC%A1%B0_%EA%B7%B8%EB%9E%98%ED%94%84(2_3).ipynb\" target=\"_parent\"><img src=\"https://colab.research.google.com/assets/colab-badge.svg\" alt=\"Open In Colab\"/></a>"
      ]
    },
    {
      "cell_type": "markdown",
      "source": [
        "#3.그래프(graph)\n",
        "* 개념\n",
        "  * 대표적인 비선형 데이터 구조\n",
        "  * 개체 간의 관계를 정점(vertex)과 간선(edge)으로 추상화하여 나타냄\n",
        "  * 정점과 정점이 n : m 의 관계인 구조\n",
        "  * 정점은 데이터를 표현할 수 있고, 간선은 데이터 간의 관계를 표현할 수 있음\n",
        "  * 지하철 노선도와 같은 물리적 요소를 추상화\n",
        "  * 소셜 네트워크 서비스(SNS)의 친구 관계와 같은 요소도 나타낼 수 있음\n",
        "  <br> <br>\n",
        "  * 쾨니히스베르크의 지형을 그래프로 나타냄\n",
        "  <br>\n",
        "  <img src='https://drive.google.com/uc?id=1EfP3GTL995FQLmRsRUYXo_KIgHe1BShj' width=800>"
      ],
      "metadata": {
        "id": "FmTiPcqCGj2D"
      }
    },
    {
      "cell_type": "markdown",
      "source": [
        "## 그래프의 표현\n",
        "* 그래프를 프로그래밍의 데이터로 활용하기 위해서는 그래프를 저장할 수 있는 형태로 표현해야 한다.\n",
        "* 그래프를 표현하는 방법에는 인접행렬과 인접리스트가 있다.\n"
      ],
      "metadata": {
        "id": "72rAxg3SI7wf"
      }
    },
    {
      "cell_type": "markdown",
      "source": [
        "## 인접 행렬로 표현하기\n",
        "* 정점 개수만큼의 행과 열로 이루어진 2차원 리스트\n",
        "\n",
        "<img src='https://drive.google.com/uc?id=1EkIKYy4OmxtdJJX2Wy9db0vnzcqUOh1y' width=800>\n",
        "<br>\n",
        "<img src='https://drive.google.com/uc?id=1hGUTPcCcINPf3zhM92pg6LtSbE2zFABR' width=800>"
      ],
      "metadata": {
        "id": "WBI3WNszMl2Q"
      }
    },
    {
      "cell_type": "markdown",
      "source": [
        "(풀이)\n",
        "<br>\n",
        "<img src='https://drive.google.com/uc?id=1ElIWlJBnqSAR9vERtecil38nu78r81Ro' width=800>"
      ],
      "metadata": {
        "id": "YS8vVm9j9PtN"
      }
    },
    {
      "cell_type": "markdown",
      "source": [
        "## 인접리스트로 표현하기\n",
        "* 정점 개수만큼의 행으로 이루어진 리스트\n",
        "<img src='https://drive.google.com/uc?id=1Elaoosu8PWcudDHWDiZPeXyAQ7iquZ7B' width=800>\n",
        "<br>\n",
        "<img src='https://drive.google.com/uc?id=1hGi-KqdDvefUisl7A3aD9_FZgEskxuS6' width=800>"
      ],
      "metadata": {
        "id": "BOSOHTK9Nexi"
      }
    },
    {
      "cell_type": "markdown",
      "source": [
        "(풀이)\n",
        "<br>\n",
        "<img src='https://drive.google.com/uc?id=1EnIMS6JapIlkFDqbXgVHAXy6bb4jVqdo' width=800>"
      ],
      "metadata": {
        "id": "cGpIF47f9HGc"
      }
    },
    {
      "cell_type": "markdown",
      "source": [
        "## 그래프의 구현\n",
        "* 인접행렬과 인접리스트로 표현된 그래프 데이터를 입력받아 인접행렬과 인접리스트의 저장 코드로 구현\n",
        "* 그래프 입력의 경우 일반적으로 첫 번째 줄에 정점의 개수와 간선의 개수가 주어지며, 두 번째 줄부터는 각 간선의 정보가 한 줄에 하나씩 주어지는 경우가 많다."
      ],
      "metadata": {
        "id": "4Ia0qW8vSmVK"
      }
    },
    {
      "cell_type": "markdown",
      "source": [
        "## 인접행렬로 구현하기\n",
        "* 2차원 리스트를 활용\n",
        "<br>\n",
        "<img src='https://drive.google.com/uc?id=1Enl1QIGZZDoYUTMXiuUiGESeLArJLlpE' width=800>"
      ],
      "metadata": {
        "id": "m3gZRKkUTvr5"
      }
    },
    {
      "cell_type": "code",
      "source": [
        "Adj = [[0]*7 for _ in range(7)]     # 1행부터 6행까지 출력하기 위하여 반복\n",
        "\n",
        "V,E = map(int, input().split())     # 정점의 수 V, 간선의 수 E를 공백으로 구분하여 입력받음\n",
        "for i in range(E):                  # 간선들을 입력받기 위해 E회 반복\n",
        "  u, v = map(int, input().split())  # 정점 u와 점점 v를 연결하는 간선 정보를 입력받음\n",
        "  Adj[u][v] = Adj[v][u] = 1         # 인접행렬에 양방향으로 저장\n",
        "\n",
        "for i in range(1, 7):               # 0행0열을 제외하고 1행1열부터 출력\n",
        "  for j in range(1,7):\n",
        "    print(Adj[i][j], end=' ')\n",
        "  print()"
      ],
      "metadata": {
        "id": "xldm7pnkT29J"
      },
      "execution_count": null,
      "outputs": []
    },
    {
      "cell_type": "markdown",
      "source": [
        "## 인접리스트로 구현하기\n",
        "* 2차원 리스트 활용"
      ],
      "metadata": {
        "id": "B1PXZ_DjblvM"
      }
    },
    {
      "cell_type": "code",
      "source": [
        "# 인접리스트로 사용할 리스트 생성하기\n",
        "\n",
        "Adj = [[] for _ in range(7)]        # 1행부터 6행까지 출력하기 위하여 반복\n",
        "\n",
        "V,E = map(int, input().split())     # 정점의 수 V, 간선의 수 E를 공백으로 구분하여 입력받음\n",
        "for i in range(E):                  # 간선들을 입력받기 위해 E회 반복\n",
        "  u, v = map(int, input().split())  # 정점 u와 점점 v를 연결하는 간선 정보를 입력받음\n",
        "  Adj[u].append(v)                  # u로부터 v까지의 간선을 인접리스트에 추가\n",
        "  Adj[v].append(u)                  # v로부터 u까지의 간선을 인접리스트에 추가\n",
        "\n",
        "for i in range(1, 7):\n",
        "  print(i, end=':')\n",
        "  for j in Adj[i]:\n",
        "    print(j, end=' ')\n",
        "  print()"
      ],
      "metadata": {
        "id": "QvtujJJqb0bH"
      },
      "execution_count": null,
      "outputs": []
    },
    {
      "cell_type": "markdown",
      "source": [
        "## 미술관의 평면도를 그래프로 표현하기"
      ],
      "metadata": {
        "id": "u6HOPauFetfC"
      }
    },
    {
      "cell_type": "markdown",
      "source": [
        "<img src='https://drive.google.com/uc?id=1Eyek4-K8N_05j_4KDcNj9RLEaMxtnQtP' width=800>"
      ],
      "metadata": {
        "id": "ilNgznXGgH8W"
      }
    },
    {
      "cell_type": "markdown",
      "source": [
        "<img src='https://drive.google.com/uc?id=1EzkbPI8rf2C1wSDJARHdVafHeb0iYdle' width=800>"
      ],
      "metadata": {
        "id": "LT7K09kagrxE"
      }
    },
    {
      "cell_type": "markdown",
      "source": [
        "## (풀이)\n",
        "\n",
        "<img src='https://drive.google.com/uc?id=1F--TedjTVg-oyfBCAP0F9P_gydfXOoYI' width=800>"
      ],
      "metadata": {
        "id": "8ZOsPBqMgwkb"
      }
    },
    {
      "cell_type": "markdown",
      "source": [
        "##(풀이)\n",
        "<br>\n",
        "<img src='https://drive.google.com/uc?id=1F-a_psIcPQJnGAbYeBTeAj9D5496tfTz' width=800>"
      ],
      "metadata": {
        "id": "ldreSTOhg1lU"
      }
    },
    {
      "cell_type": "code",
      "source": [
        "2학년3반 여기까지"
      ],
      "metadata": {
        "id": "WuurOAiDMFHf"
      },
      "execution_count": null,
      "outputs": []
    },
    {
      "cell_type": "markdown",
      "source": [
        "## 그래프를 활용하여 일상생활의 문제를 프로그래밍으로 해결하기\n",
        "\n",
        "<img src='https://drive.google.com/uc?id=1F7Mh8UXEOun1sD9SdJ_bQVltok31hiD-' width=800>"
      ],
      "metadata": {
        "id": "OGsoKQo4g4eP"
      }
    },
    {
      "cell_type": "markdown",
      "source": [
        "<img src='https://drive.google.com/uc?id=1FE9ny9ciIdf2yeuyoM2ONUtxNSbnZh3d' width=800>"
      ],
      "metadata": {
        "id": "2lTUUfG9g62c"
      }
    },
    {
      "cell_type": "code",
      "source": [
        "# 인접리스트로 구현\n",
        "adj = [[] for _ in range(11)]       # adj를 인접리스트로 지정\n",
        "visited_rooms = [0]*11              # 한 번 관람한 전시실을 체크해 두기 위한 역할(11*11로 정한 까닭은 정점의 수가 최대 10개이기 때문임)\n",
        "\n",
        "route_found = False                 # route_found는 목표 상태(모든 전시실 관람 성공)에 도달하였으면 더 이상 탐색을 멈추기 위한 체크 역할\n",
        "\n",
        "room_count, door_count = map(int, input().split())    # 전시실의 수(room_count), 전시실 간 연결하는 문의 개수(door_count)를 입력받는 역할을 함\n",
        "for i in range(door_count):                           # 간선의 개수만큼 입력받기 위한 반복문\n",
        "  room_a, room_b = map(int, input().split())          # 문으로 연결된 두 전시실 room_a, room_b를 각각 입력받음\n",
        "  adj[room_a].append(room_b)                          # 인접리스트 adj[room_a]에 room_b 추가\n",
        "  adj[room_b].append(room_a)                          # 인접리스트 adj[room_b]에 room_a를 추가하여 양방향 통행이 가능한 그래프로 저장\n",
        "\n",
        "print('---- 미술관의 인접전시관 ----')\n",
        "for i in range(1, 11):\n",
        "  print(i, end=':')\n",
        "  for j in adj[i]:\n",
        "    print(j, end=' ')\n",
        "  print()"
      ],
      "metadata": {
        "id": "O5raNuDvj0hn"
      },
      "execution_count": null,
      "outputs": []
    },
    {
      "cell_type": "markdown",
      "source": [
        "<img src='https://drive.google.com/uc?id=1FEaEiCvNy3GI2oVB1b3I19M62D7gSCHr' width=800>"
      ],
      "metadata": {
        "id": "SouMzCJcg9xy"
      }
    },
    {
      "cell_type": "code",
      "source": [
        "# 입력 및 초기화 부분\n",
        "adj = [[] for _ in range(11)]       # adj를 인접리스트로 지정\n",
        "visited_rooms = [0]*11              # 한 번 관람한 전시실을 체크해 두기 위한 역할(11*11로 정한 까닭은 정점의 수가 최대 10개이기 때문임)\n",
        "route_found = False                 # route_found는 목표 상태(모든 전시실 관람 성공)에 도달하였으면 더 이상 탐색을 멈추기 위한 체크 역할\n",
        "\n",
        "room_count, door_count = map(int, input().split())    # 전시실의 수(room_count), 전시실 간 연결하는 문의 개수(door_count)를 입력받는 역할을 함\n",
        "for i in range(door_count):                           # 간선의 개수만큼 입력받기 위한 반복문\n",
        "  room_a, room_b = map(int, input().split())          # 문으로 연결된 두 전시실 room_a, room_b를 각각 입력받음\n",
        "  adj[room_a].append(room_b)                          # 인접리스트 adj[room_a]에 room_b 추가\n",
        "  adj[room_b].append(room_a)                          # 인접리스트 adj[room_b]에 room_a를 추가하여 양방향 통행이 가능한 그래프로 저장\n",
        "\n",
        "# 모든 전시실을 방문했는가?\n",
        "def explore(current_room, visited_count, path):       # current_room은 현재 방문 중인 관람실, visited_count는 현재까지 방문한 관람실의 수, path는 현재까지의 경로(문자열)\n",
        "  global room_count, visited_rooms, route_found       # 글로벌 변수로 room_count는 관람실의 개수, visited_rooms는 방문 여부를 저장한 리스트, route_found는 전체 경로의 탐색 여부를 기록하는 불변수\n",
        "  if route_found: return                              # 이미 답을 구하였으면 함수 종료\n",
        "  if visited_count == room_count:                     # 방문한 관람실의 개수가 전체 관람실의 수와 같다면, 모두 관람하였는지 판단\n",
        "    route_found = True                                # route_found 변수를 True로 설정하여 더 이상 탐색하지 않도록 설정\n",
        "    print('전시실 관람경로 : ', end='')\n",
        "    for room in path:                                 # 경로 path의 각 관람실에 대해서 리스트 탐색\n",
        "      print(room, end=' ')                            # 각 리스트를 순서대로 출력(해답 출력)\n",
        "    return                                             # 백트랙킹\n",
        "    # 백트랙 : 더 이상 방문할 전시실이 없는 상황이 되면, 이전 상태로 복귀하여 다시 다른 경로를 탐색해야 하는데, 이전 경로로 돌아가는 과정을 백트랙이라고 함\n",
        "\n",
        "  visited_rooms[current_room] = True                  # 현재 전시실을 방문하였다고 visited_rooms에 체크\n",
        "  for next_room in adj[current_room]:                 # 현재 전시실 current_room에서 방문 가능한 다음 전시실 next_room들에 대해서 탐색 준비\n",
        "    if visited_rooms[next_room] == False:             # 만약 next_room을 방문하지 않았으면\n",
        "      path.append(next_room)                          # 경로에 next_room을 저장한 후\n",
        "      explore(next_room, visited_count + 1, path)     # 다음 전시실 next_room을 방문, 방문한 관람실 수 visited_count+1, 현재까지 경로 path\n",
        "      path.pop()                                      # 더 이상 진행할 수 없으면 돌아오기 (백트래킹) → 경로에서 next_room 삭제(이는 백트랙으로 돌아왔기 때문임.)\n",
        "  visited_rooms[current_room] = False                 # 백트랙하기 위해서 현재 방문 체크한 current_room 해제\n",
        "  return                                              # 탐색이 실패하면\t다른 분기점을 시도해야 하므로 백트래킹\n",
        "\n",
        "for start_room in range(0, room_count + 1):           # 0번 전시실에서 차례로 탐색하기 위하여 반복\n",
        "  explore(start_room, 1, [start_room])                # 현재 상태로부터 탐색 시작(현재 방문 중인 관람실, 현재까지 방문한 관람실의 수, 현재까지의 경로(문자열))\n",
        "  if route_found: break                               # 만약 route_found가 True면 경로를 찾았으므로 반복 종료\n",
        "\n",
        "if route_found != True: print('Impossible')           # 모든 조사 종료 후 route_found가 False라면 경로가 존재하지 않으므로 'Impossible' 출력\n"
      ],
      "metadata": {
        "id": "d7m4ngcFHC7T"
      },
      "execution_count": null,
      "outputs": []
    },
    {
      "cell_type": "markdown",
      "source": [
        "<img src='https://drive.google.com/uc?id=1FOIoyolSq1cN_mbk-Cpq3gY4ZBmcez40' width=800>"
      ],
      "metadata": {
        "id": "6tUYDEREhBEi"
      }
    },
    {
      "cell_type": "code",
      "source": [
        "adj = [[] for _ in range(11)]       # adj를 인접리스트로 지정\n",
        "path_count = 0\n",
        "visited_rooms = [0]*11              # 한 번 관람한 전시실을 체크해 두기 위한 역할(11*11로 정한 까닭은 정점의 수가 최대 10개이기 때문임)\n",
        "route_found = False                 # route_found는 목표 상태(모든 전시실 관람 성공)에 도달하였으면 더 이상 탐색을 멈추기 위한 체크 역할\n",
        "\n",
        "room_count, door_count = map(int, input().split())    # 전시실의 수(room_count), 전시실 간 연결하는 문의 개수(door_count)를 입력받는 역할을 함\n",
        "for i in range(door_count):                           # 간선의 개수만큼 입력받기 위한 반복문\n",
        "  room_a, room_b = map(int, input().split())          # 문으로 연결된 두 전시실 room_a, room_b를 각각 입력받음\n",
        "  adj[room_a].append(room_b)                          # 인접리스트 adj[room_a]에 room_b 추가\n",
        "  adj[room_b].append(room_a)                          # 인접리스트 adj[room_b]에 room_a를 추가하여 양방향 통행이 가능한 그래프로 저장\n",
        "\n",
        "def explore(current_room, visited_count, path):       # current_room은 현재 방문 중인 관람실, visited_count는 현재까지 방문한 관람실의 수, path는 현재까지의 경로(문자열)\n",
        "  global room_count, visited_rooms, route_found, path_count  # 글로벌 변수로 room_count는 관람실의 개수, visited_rooms는 방문 여부를 저장한 리스트, route_found는 전체 경로의 탐색 여부를 기록하는 불변수\n",
        "  if route_found: return                              # 이미 답을 구하였으면 함수 종료\n",
        "  if visited_count == room_count:                     # 방문한 관람실의 개수가 전체 관람실의 수와 같다면, 모두 관람하였는지 판단\n",
        "    path_count += 1\n",
        "    print(f'전시실 관람경로 {path_count:02} : ', end='')\n",
        "    for room in path:                                 # 경로 path의 각 관람실에 대해서 리스트 탐색\n",
        "      print(room, end=' ')                            # 각 리스트를 순서대로 출력(해답 출력)\n",
        "    print()\n",
        "    return                                             # 백트랙킹\n",
        "    # 백트랙 : 더 이상 방문할 전시실이 없는 상황이 되면, 이전 상태로 복귀하여 다시 다른 경로를 탐색해야 하는데, 이전 경로로 돌아가는 과정을 백트랙이라고 함\n",
        "\n",
        "  visited_rooms[current_room] = True                  # 현재 전시실을 방문하였다고 visited_rooms에 체크\n",
        "  for next_room in adj[current_room]:                 # 현재 전시실 current_room에서 방문 가능한 다음 전시실 next_room들에 대해서 탐색 준비\n",
        "    if visited_rooms[next_room] == False:             # 만약 next_room을 방문하지 않았으면\n",
        "      path.append(next_room)                          # 경로에 next_room을 저장한 후\n",
        "      explore(next_room, visited_count + 1, path)     # 다음 전시실 next_room을 방문, 방문한 관람실 수 visited_count+1, 현재까지 경로 path\n",
        "      path.pop()                                      # 더 이상 진행할 수 없으면 돌아오기 (백트래킹) → 경로에서 next_room 삭제(이는 백트랙으로 돌아왔기 때문임.)\n",
        "  visited_rooms[current_room] = False                 # 백트랙하기 위해서 현재 방문 체크한 current_room 해제\n",
        "  return                                              # 탐색이 실패하면\t다른 분기점을 시도해야 하므로 백트래킹\n",
        "\n",
        "for start_room in range(0, room_count + 1):           # 0번 전시실에서 차례로 탐색하기 위하여 반복\n",
        "  explore(start_room, 1, [start_room])                # 현재 상태로부터 탐색 시작\n",
        "\n",
        "print('전체 경로의 수: ', path_count)                 # 모든 가능한 경로의 개수를 출력\n"
      ],
      "metadata": {
        "id": "XqnYSMyCIkIq"
      },
      "execution_count": null,
      "outputs": []
    }
  ]
}