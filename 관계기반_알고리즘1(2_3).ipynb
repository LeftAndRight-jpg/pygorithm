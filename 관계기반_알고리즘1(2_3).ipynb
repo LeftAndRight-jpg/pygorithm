{
  "nbformat": 4,
  "nbformat_minor": 0,
  "metadata": {
    "colab": {
      "provenance": [],
      "toc_visible": true,
      "include_colab_link": true
    },
    "kernelspec": {
      "name": "python3",
      "display_name": "Python 3"
    },
    "language_info": {
      "name": "python"
    }
  },
  "cells": [
    {
      "cell_type": "markdown",
      "metadata": {
        "id": "view-in-github",
        "colab_type": "text"
      },
      "source": [
        "<a href=\"https://colab.research.google.com/github/LeftAndRight-jpg/pygorithm/blob/main/%EA%B4%80%EA%B3%84%EA%B8%B0%EB%B0%98_%EC%95%8C%EA%B3%A0%EB%A6%AC%EC%A6%981(2_3).ipynb\" target=\"_parent\"><img src=\"https://colab.research.google.com/assets/colab-badge.svg\" alt=\"Open In Colab\"/></a>"
      ]
    },
    {
      "cell_type": "markdown",
      "source": [
        "# 관계기반 알고리즘"
      ],
      "metadata": {
        "id": "axft9kPD1hqV"
      }
    },
    {
      "cell_type": "markdown",
      "source": [
        "### (1) 관계기반 알고리즘의 개념\n",
        "* '이전 값과의 관계'를 이용해서 문제를 푸는 방법\n",
        "* 예를 들어\n",
        "  * f(n) = f(n-1)+f(n-2) 처럼\n",
        "  * 현재 값이 이전 값들과 수학적으로 연결되어 있는 구조\n",
        "* 관계기반 알고리즘 설계 조건\n",
        "  * 상태를 함수로 정의할 수 있어야 함 → 문제의 상태를 수식처럼 나타냄: f(n)\n",
        "  * 함수 간 관계를 점화식 등으로 표현 → f(n) = f(n-1)+f(n-2) 등\n",
        "* 수학적 귀납법처럼 단계적으로 문제를 푸는 방식과 유사\n",
        "* 수학적 귀납법 절차\n",
        "  * 첫 번째 단계가 맞는지 확인(초기 조건)\n",
        "    * 예:f(1)이 잘 정의되어 있는가?\n",
        "  * f(k)가 맞다고 가정하고, f(k+1)을 증명\n",
        "    * 점화식을 써서 f(k+1)을 f(k)로부터 구할 수 있는가?\n",
        "\n",
        "* 예시: 피보나치 수열\n",
        "  * 초기조건 : f(1)=1, f(2)=1\n",
        "  * 점화식 : f(n) = f(n-1) + f(n-2)\n",
        "```python\n",
        "def f(n):\n",
        "  if n == 1 or n ==2:\n",
        "    return 1\n",
        "  return f(n-1) + f(n-2)\n",
        "```\n",
        "\n"
      ],
      "metadata": {
        "id": "Hb3kI2S0YWvj"
      }
    },
    {
      "cell_type": "markdown",
      "source": [
        "### 관계기반 프로그램 작성하기\n",
        "* 다음 문제를 관계기반 알고리즘으로 해결하는 프로그램을 작성해보자.\n",
        "  * 미주가 계단을 오르려고 한다. 계단은 모두 n칸으로 구성되어 있다.\n",
        "  * 미주는 한 번에 1칸 또는 2칸을 오를 수 있다.\n",
        "  * 미주가 0번째 칸에서 출발하여 n번째 칸으로 올라가는 서로 다른 방법의 수를 구해 보자."
      ],
      "metadata": {
        "id": "3IvCGCartgCa"
      }
    },
    {
      "cell_type": "code",
      "source": [
        "n = int(input())                      # 계단의 수 n을 입력받음 (예: 5)\n",
        "\n",
        "f = [0] * (n+1)                       # f[1]부터 f[n]까지 저장할 리스트 만들기 (총 n+1개)\n",
        "\n",
        "f[1] = 1                              # 1칸 오르는 방법은 1가지 ([1])\n",
        "f[2] = 2                              # 2칸 오르는 방법은 2가지 ([1+1], [2])\n",
        "\n",
        "for i in range(3, n + 1):            # 3부터 n까지 반복하면서\n",
        "    f[i] = f[i - 1] + f[i - 2]        # f(i) = f(i-1) + f(i-2) : 함수 호출 대신 배열 인덱스로 접근함\n",
        "\n",
        "print(f'{f[n]}가지')                           # n칸을 오르는 방법의 수 출력"
      ],
      "metadata": {
        "id": "W6z7WztybIAu"
      },
      "execution_count": null,
      "outputs": []
    },
    {
      "cell_type": "markdown",
      "source": [
        "* 위 코드가 관계기반 알고리즘인 이유\n",
        "1.   문제를 함수로 정의함\n",
        "  * n칸을 오르는 방법의 수 = f(n)\n",
        "2.   함수 간의 관계(점화식)로 문제를 해결\n",
        "  * f[i] = f[i - 1] + f[i - 2]\n",
        "  * i칸을 오르는 방법의 수 = (i-1)칸에서 1칸 오르는 경우 + (i-2)칸에서 2칸 오르는 경우\n",
        "  * 현재 상태를 과거 상태들의 결과를 이용하여 계산\n",
        "3.  초기 조건이 존재\n",
        "  * 관계기반 알고리즘은 반드시 초기값이 필요\n",
        "  * f[1] = 1, f[2] = 2\n"
      ],
      "metadata": {
        "id": "76ObRnnDYoZu"
      }
    },
    {
      "cell_type": "markdown",
      "source": [
        "#### 부분 문제로 나누어 프로그램 작성하기\n",
        "피보나치 수열은 0과 1로 시작하며, 이후의 수는 바로 앞 두 수의 합으로 이루어진다. n번째 피보나치수열의 값을 구해 보자."
      ],
      "metadata": {
        "id": "Dad-JnN80uYx"
      }
    },
    {
      "cell_type": "code",
      "source": [
        "n = int(input('피보나치 수열을 구할 순번을 입력하세요: '))\n",
        "\n",
        "def f(k):\n",
        "  if k==1:\n",
        "    return 0\n",
        "  if k==2:\n",
        "    return 1\n",
        "  return f(k-1) + f(k-2)      # 0, 1, 1, 2, 3, 5, 8,.......\n",
        "\n",
        "print(f(n))"
      ],
      "metadata": {
        "id": "XSQxFruF4O0s"
      },
      "execution_count": null,
      "outputs": []
    },
    {
      "cell_type": "markdown",
      "source": [
        "### (2) 분할 정복법의 개념과 문제 해결\n",
        "* 분할 정복법의 개념\n",
        "  * 복잡한 문제를 해결하기 위해, 문제를 더 단순하고 해결 가능한 하위 문제로 나눈 후, 이들을 각각 해결하고 다시 합쳐 문제의 해답을 구하는 알고리즘 설계 기법\n",
        "  * 하위 문제는 원래 문제와 유사한 구조를 가지며, 이를 재귀적으로 해결한 뒤 결과를 합쳐 최종 해를 도출함\n",
        "\n",
        "* 주요 단계(나눈다 → 푼다 → 합친다)\n",
        "1.  분할\n",
        "  * 문제를 더 작은 하위 문제로 분할함\n",
        "  * 각 하위 문제는 원래 문제와 동일한 구조를 가짐\n",
        "2.  정복\n",
        "  * 분할된 하위 문제들을 재귀적으로 해결\n",
        "  * 하위 문제가 충분히 작아지면 직접 해결\n",
        "3.  결합\n",
        "  * 하위 문제의 결과를 이용해 전체 문제의 해를 구성\n",
        "\n",
        "* 핵심 요소 4가지\n",
        "  * 재귀적인 구조\n",
        "    * 문제를 계속 쪼개고, 마지막에 다시 모으는 방식\n",
        "  * 부분 문제의 정의\n",
        "    * 전체 문제를 어떤 기준으로 나눌 것인지 명확히 해야 함\n",
        "    * 나눈 부분 문제는 전체 문제와 같은 구조를 가져야 함\n",
        "  * 부분 문제 간의 관계 설정\n",
        "    * 각 하위 문제의 결과를 어떻게 결합할지 정의\n",
        "  * 기저 조건 설정(재귀 함수가 멈출 수 있도록 해주는 조건)\n",
        "    * 더 이상 쪼갤 수 없는 작은 문제(기본 단위)까지 나누는 것이 중요\n",
        "    * 기저 조건이 없으면 무한 재귀에 빠지게 됨\n",
        "\n",
        "* 대표 예시\n",
        "  * 합병 정렬\n",
        "  * 퀵 정렬\n",
        "  * 이진 탐색\n",
        "  * 피보나치 수열\n",
        "\n",
        "\n",
        "\n"
      ],
      "metadata": {
        "id": "hrArS_ZG4o7W"
      }
    },
    {
      "cell_type": "code",
      "source": [],
      "metadata": {
        "id": "kj81VtZdE45a"
      },
      "execution_count": null,
      "outputs": []
    },
    {
      "cell_type": "markdown",
      "source": [
        "#### 합병 정렬\n",
        "* 8개의 수 8, 4, 1, 5, 7, 3, 2, 6 을 오름차순으로 정렬하기\n",
        "\n",
        "1.   리스트의 길이가 1이하이면 이미 정렬된 것으로 본다.\n",
        "2.   분할 : 정렬되지 않은 리스트를 절반으로 잘라 비슷한 크기의 두 부분 리스트로 나눈다.\n",
        "3.   정복 : 각 부분 리스트를 합병 정렬을 이용해 정렬한다.\n",
        "4.   결합 : 두 부분 리스트를 다시 하나의 정렬된 리스트로 합병한다.\n",
        "<br><br>\n",
        "<img src='https://drive.google.com/uc?id=1Yw5kgrpZGxyuIad-wMKpPXbDpIwvnicZ' width=400>\n",
        "<img src='https://drive.google.com/uc?id=1aQAwCkTa097efYc0oPBIvuO6XMXjFOxY' width=400>\n",
        "\n"
      ],
      "metadata": {
        "id": "Ns6TL67aE1MW"
      }
    },
    {
      "cell_type": "code",
      "source": [
        "# 합병 정렬(Merge Sort): 분할 정복 기반 정렬 알고리즘\n",
        "\n",
        "def merge_sort(start, end):       # (시작인덱스, 끝인덱스)\n",
        "    # [기저 조건] 구간에 원소가 1개 이하이면 더 이상 나눌 수 없음\n",
        "    if start >= end:\n",
        "        return\n",
        "\n",
        "    # [1] 리스트를 반으로 나눔\n",
        "    mid = (start + end) // 2      # 중앙인덱스 계산\n",
        "    merge_sort(start, mid)        # 왼쪽 절반 정렬\n",
        "    merge_sort(mid + 1, end)      # 오른쪽 절반 정렬\n",
        "\n",
        "    # [2] 두 정렬된 리스트를 병합(merge)\n",
        "    left_idx = start              # 왼쪽 리스트의 시작 인덱스\n",
        "    right_idx = mid + 1           # 오른쪽 리스트의 시작 인덱스\n",
        "    temp_idx = start              # 병합시 임시저장 공간 temp의 시작 인덱스\n",
        "\n",
        "    while left_idx <= mid and right_idx <= end:     # 왼쪽도 남아 있고 and 오른쪽도 남아 있는 경우\n",
        "        if data[left_idx] <= data[right_idx]:       # 왼쪽 값 <= 오른쪽 값 비교\n",
        "            temp[temp_idx] = data[left_idx]         # 왼쪽값(작은 값)을 temp에 저장\n",
        "            left_idx += 1                           # 왼쪽 인덱스 1 증가(다음 인덱스로 이동)\n",
        "\n",
        "        else:                                       # 왼쪽 값 > 오른쪽 값 비교\n",
        "            temp[temp_idx] = data[right_idx]        # 오른쪽값(작은 값)을 temp에 저장\n",
        "            right_idx += 1                          # 오른쪽 인덱스 1 증가(다음 인덱스로 이동)\n",
        "        temp_idx += 1\n",
        "\n",
        "    # 왼쪽이 아직 남은 경우\n",
        "    while left_idx <= mid:\n",
        "        temp[temp_idx] = data[left_idx]\n",
        "        left_idx += 1\n",
        "        temp_idx += 1\n",
        "\n",
        "    # 오른쪽이 아직 남은 경우\n",
        "    while right_idx <= end:\n",
        "        temp[temp_idx] = data[right_idx]\n",
        "        right_idx += 1\n",
        "        temp_idx += 1\n",
        "\n",
        "    # [3] 병합 결과를 원래 리스트에 반영\n",
        "    for i in range(start, end + 1):\n",
        "        data[i] = temp[i]\n",
        "\n",
        "n = int(input('정렬할 데이터 개수: '))\n",
        "data = list(map(int, input(f'{n}개의 정수를 입력하세요: ').split()))\n",
        "temp = [0] * n          # 병합 시 임시 저장 공간\n",
        "merge_sort(0, n - 1)    # (시작인덱스, 끝인덱스)\n",
        "print('정렬된 결과:', data)"
      ],
      "metadata": {
        "id": "90l4WrB7G0-V"
      },
      "execution_count": null,
      "outputs": []
    },
    {
      "cell_type": "markdown",
      "source": [
        "<img src='https://drive.google.com/uc?id=1dULVybYUhV2Wsup9PXglMZyFW1F5w9IY' width=400>\n",
        "<br>\n",
        "* 각 병합은 해당 재귀 함수가 끝나기 직전에 수행됨\n",
        "\n",
        "```python\n",
        "merge_sort(0, 7)\n",
        "├─ merge_sort(0, 3)\n",
        "│  ├─ merge_sort(0, 1)\n",
        "│  │  ├─ merge_sort(0, 0)   ← 종료\n",
        "│  │  ├─ merge_sort(1, 1)   ← 종료\n",
        "│  │  └─ 병합: [8], [4] → [4, 8]\n",
        "│  ├─ merge_sort(2, 3)\n",
        "│  │  ├─ merge_sort(2, 2)   ← 종료\n",
        "│  │  ├─ merge_sort(3, 3)   ← 종료\n",
        "│  │  └─ 병합: [1], [5] → [1, 5]\n",
        "│  └─ 병합: [4, 8], [1, 5] → [1, 4, 5, 8]\n",
        "├─ merge_sort(4, 7)\n",
        "│  ├─ merge_sort(4, 5)\n",
        "│  │  ├─ merge_sort(4, 4)   ← 종료\n",
        "│  │  ├─ merge_sort(5, 5)   ← 종료\n",
        "│  │  └─ 병합: [7], [3] → [3, 7]\n",
        "│  ├─ merge_sort(6, 7)\n",
        "│  │  ├─ merge_sort(6, 6)   ← 종료\n",
        "│  │  ├─ merge_sort(7, 7)   ← 종료\n",
        "│  │  └─ 병합: [2], [6] → [2, 6]\n",
        "│  └─ 병합: [3, 7], [2, 6] → [2, 3, 6, 7]\n",
        "└─ 병합: [1, 4, 5, 8], [2, 3, 6, 7] → [1, 2, 3, 4, 5, 6, 7, 8]\n",
        "```"
      ],
      "metadata": {
        "id": "_81KFDdP40LE"
      }
    },
    {
      "cell_type": "markdown",
      "source": [
        "#### 2×n 격자판 채우기\n",
        "#### 분할 정복법을 활용한 문제 해결\n",
        "\n",
        "* 너비가 2이고, 길이가 n인 직사각형 격자판이 있다. 이 격자판을 1×2, 2×1의 도미노를 이용하여 채울 수 있는 서로 다른 경우의 수를 구해 보자.\n",
        "  * 2×n의 격자판을 1×2, 2×1의 도미노를 이용하여 채울 수 있는 서로 다른 경우의 수를 구하는 문제를 2개의 부분으로 분할해 보자.\n",
        "  * 1×2와 2×1 도미노를 이용하여 2×n을 채울 때 마지막 부분을 살펴보면 다음과 같다.\n",
        "<img src='https://drive.google.com/uc?id=13h6Cupr1JNygwnCaR9tQLeR_ND6yD2qy' width=400>\n",
        "<br>\n",
        "  * f(n)을 2×n의 격자판을 1×2, 2×1의 도미노를 이용하여 채울 수 있는 서로 다른 경우의 수로 정의하면,\n",
        "  <img src='https://drive.google.com/uc?id=1HLzNe9sulBGJn6jbEgcYAzGPEi50NqKX' width=300>\n",
        "\n",
        "  * 2×1의 격자판을 1×2, 2×1의 도미노를 이용하여 채울 수 있는 서로 다른 경우의 수는 한 가지이고,\n",
        "  * 2×2의 격자판을 1×2, 2×1의 도미노를 이용하여 채울 수 있는 서로 다른 경우의 수는 두 가지이다.\n",
        "<br>\n",
        "<img src='https://drive.google.com/uc?id=1BqZAb66pbgM7Mt4qGgvSxl5jttHMTEIz' width=300>\n",
        "<img src='https://drive.google.com/uc?id=1fXd8CSzXQdzxRvsUcSk6pAd7bZkV_cCA' width=300>\n"
      ],
      "metadata": {
        "id": "gdGuxn5o7qQW"
      }
    },
    {
      "cell_type": "markdown",
      "source": [
        "\"2×n을 채우는 방법은,\n",
        "<br>\n",
        "마지막 한 조각을 어떻게 놓을 수 있느냐에 따라 경우를 나누는 것이다.\"\n",
        "f(n) = f(n-1) + f(n-2)"
      ],
      "metadata": {
        "id": "9QSpwCJfQknU"
      }
    },
    {
      "cell_type": "code",
      "source": [
        "# 분할 정복법을 이용하여 f(n)을 f(n-1), f(n-2)의 부분 문제로 나누어 해결\n",
        "\n",
        "def f(k):\n",
        "  if k==1:\n",
        "    return 1\n",
        "  if k==2:\n",
        "    return 2\n",
        "\n",
        "  ans = f(k-1) + f(k-2)\n",
        "  return ans\n",
        "\n",
        "n = int(input('2×n 격자판의 길이 n을 입력하세요: '))\n",
        "print(f'2×{n} 격자판을 채울 수 있는 경우의 수는 {f(n)}가지입니다.')"
      ],
      "metadata": {
        "id": "ZGalX6-dIZu6"
      },
      "execution_count": null,
      "outputs": []
    },
    {
      "cell_type": "markdown",
      "source": [
        "#### 별 그리기\n",
        "* 한 정수 n을 입력받아서 다음과 같은 패턴으로 출력하는 프로그램을 작성해 보자.\n",
        "* 다음은 n이 1, 2, 3일 때의 예이다.\n",
        "<br>\n",
        "<img src='https://drive.google.com/uc?id=158JhYqsTVVYi_oi9EDs6vyH4sZmBgPd_' width=600>\n",
        "<br><br>\n",
        "* 별이 그려진 규칙을 통하여 다음과 같이 부분 문제를 정의할 수 있다.\n",
        "<br>\n",
        "<img src='https://drive.google.com/uc?id=1CN5oH5fUSN_8GaLDUxVKnQpolLOP9-4m' width=600>\n",
        "<br><br>\n",
        "* f(n)을 n에 대하여 별을 찍는 함수로 정의할 때 f(n)을 부분 문제로 나누면 다음과 같다.\n",
        "<img src='https://drive.google.com/uc?id=1MoTYKBWDrUpdCID1zGAYQp9ZmtCyQSU5' width=500>\n"
      ],
      "metadata": {
        "id": "p_wFB0xjSL6A"
      }
    },
    {
      "cell_type": "code",
      "source": [
        "# 별그리기\n",
        "\n",
        "def f(n):\n",
        "  if n==1:\n",
        "    print('🍉')\n",
        "    return\n",
        "\n",
        "  f(n-1)\n",
        "\n",
        "  for i in range(n):\n",
        "    print('🍉', end= '')\n",
        "  print()\n",
        "\n",
        "  f(n-1)\n",
        "\n",
        "  return\n",
        "\n",
        "n=int(input())\n",
        "f(n)"
      ],
      "metadata": {
        "id": "dOWT6KjhTB9F"
      },
      "execution_count": null,
      "outputs": []
    },
    {
      "cell_type": "code",
      "source": [],
      "metadata": {
        "id": "bGwm346ODIsW"
      },
      "execution_count": null,
      "outputs": []
    },
    {
      "cell_type": "markdown",
      "source": [
        "### (3) 동적 계획법의 개념과 문제 해결(Dynamic Programming)\n",
        "* 개념\n",
        "  * 복잡한 문제를 여러 개의 부분 문제로 분해하여 해결하는 알고리즘 설계 전략\n",
        "  * 각 부분 문제의 결과를 메모리(배열 등)에 저장하여, 같은 문제를 다시 계산하지 않고 재사용함으로써 중복 계산을 방지하고 효율을 높임\n",
        "* 핵심 특징\n",
        "  * 부 문제의 반복 발생: 동일한 연산이 여러 번 반복됨\n",
        "  * 중복 계산 제거를 위한 저장(기록)\n",
        "  * 최적 부분 구조를 갖는 문제에 적합: 작은 문제들을 최적으로 해결하면,\n",
        "그 결과를 이용해 큰 문제도 최적으로 해결할 수 있는 구조\n",
        "* 구현 방식 분류\n",
        "  * 재귀 함수를 활용한 동적 계획법(=메모이제이션(Memoization))\n",
        "    * Top-down 방식: 큰 문제에서 출발하여 재귀 함수로 하위 문제를 호출하며 해결.\n",
        "    * 재귀 함수 호출 도중, 이미 계산된 값은 저장해서 다시 계산하지 않음\n",
        "    * 예: f(n) = f(n-1) + f(n-2) 계산 시, 이전 결과를 리스트에 저장\n",
        "  * 반복문을 활용한 동적 계획법(=DP Table: Dynamic Programming Table)\n",
        "    * Bottom-up 방식: 가장 작은 문제부터 차례대로 계산하여\n",
        "점점 더 큰 문제를 해결해 나감.\n",
        "    * 작은 문제부터 차례로 계산하여 테이블을 채우는 방식\n",
        "    * 시간 효율성과 공간 효율성 측면에서 안정적\n",
        "* 용어 정리: 동적 테이블(Dynamic Table)\n",
        "  * 동적 계획법에서 사용하는 리스트나 배열 형태의 메모리 공간\n",
        "  * 부분 문제의 해답을 저장하는 구조\n",
        "  * 계산 과정에서 값이 계속 갱신되므로 '동적'이라는 표현을 사용\n",
        "\n",
        "\n"
      ],
      "metadata": {
        "id": "Y0csNoCDXYrZ"
      }
    },
    {
      "cell_type": "code",
      "source": [
        "# 피보나치 수 구하기\n",
        "# 동적 계획법 미사용 (단순 재귀)\n",
        "# 시간 복잡도: O(2^n) — 호출 트리가 이진트리처럼 확장됨\n",
        "\n",
        "def f(k):\n",
        "  if k <= 2:\n",
        "    return 1\n",
        "  return f(k-1) + f(k-2)\n",
        "\n",
        "n = int(input())\n",
        "print(f(n))"
      ],
      "metadata": {
        "id": "_6z1X1D3cN1v"
      },
      "execution_count": null,
      "outputs": []
    },
    {
      "cell_type": "code",
      "source": [
        "# 피보나치 수 구하기\n",
        "# 재귀 함수를 활용한 동적 계획법 (★메모이제이션 기법)\n",
        "# 시간 복잡도: 각 피보나치 수를 한 번만 계산하므로 O(2^n)에서 O(n)으로 줄일 수 있다.\n",
        "\n",
        "data = [-1] * 20              # 결과를 저장해 둘 배열 (메모이제이션용)\n",
        "def f(k):\n",
        "  if data[k] > 0:               # 이미 계산된 값이 있다면 재사용 (가지치기)\n",
        "    return data[k]\n",
        "\n",
        "  if k <= 2:\n",
        "    return 1\n",
        "\n",
        "  data[k] = f(k-1) + f(k-2)\n",
        "  return data[k]\n",
        "\n",
        "n = int(input())\n",
        "print(f(n))\n",
        "print(data)"
      ],
      "metadata": {
        "id": "zeEWWEGvcrls"
      },
      "execution_count": null,
      "outputs": []
    },
    {
      "cell_type": "markdown",
      "source": [
        "* 재귀함수를 활용한 동적 계획법\n",
        "* data[k] 배열의 역할\n",
        "  * 이미 계산된 피보나치 수는 data[k]에 저장: data[k]>0 인 경우\n",
        "  * 동일한 계산을 다시 하지 않기 위해 저장해 두는 것 → 메모이제이션\n",
        "  * 예를 들어 f(50)을 구할 때 f(49), f(48)...수없이 반복 재귀가 일어날 수 있는데, 그걸 한 번만 계산하고 저장해서 성능을 획기적으로 개선"
      ],
      "metadata": {
        "id": "1aIRRTJ8gJ53"
      }
    },
    {
      "cell_type": "code",
      "source": [
        "# ★반복문을 활용한 동적 계획법\n",
        "# 피보나치 수열\n",
        "# 시간복잡도 : i번째 피보나치 수를 2회 이상 계산하지 않으므로 시간복잡도를 O(n^2)에서 O(n)으로 줄일 수 있다.\n",
        "\n",
        "data = [0]*10\n",
        "n = int(input())\n",
        "\n",
        "data[1] = 1\n",
        "data[2] = 1\n",
        "\n",
        "for i in range(3, n+1):\n",
        "  data[i] = data[i-1] + data[i-2]\n",
        "\n",
        "print(data[n])"
      ],
      "metadata": {
        "id": "O155ZsJ4jfuR"
      },
      "execution_count": null,
      "outputs": []
    },
    {
      "cell_type": "markdown",
      "source": [
        "<img src='https://drive.google.com/uc?id=10zMDRnxJ0RXwCLvmuWsxKaNAE8Kp4fd0' width=500>"
      ],
      "metadata": {
        "id": "PMUeFkNnDxhD"
      }
    },
    {
      "cell_type": "markdown",
      "source": [
        "#### 동적 계획법을 활용한 문제 해결\n",
        "\n",
        "*** 스스로 해결하기 ***\n",
        "* 2×n 격자판 채우기\n",
        "  * 재귀 함수를 활용한 동적 계획법\n",
        "  * 반복문을 활용한 동적 계획법\n",
        "* 별 그리기\n",
        "  * 재귀 함수를 활용한 동적 계획법\n",
        "  * 반복문을 활용한 동적 계획법"
      ],
      "metadata": {
        "id": "yabbNogslOZK"
      }
    },
    {
      "cell_type": "code",
      "source": [
        "# 2×n 격자판 채우기_분할 정복법\n",
        "\n",
        "def f(k):\n",
        "  if k==1:\n",
        "    return 1\n",
        "  if k==2:\n",
        "    return 2\n",
        "\n",
        "  ans = f(k-1) + f(k-2)\n",
        "  return ans\n",
        "\n",
        "n = int(input('2×n 격자판의 길이 n을 입력하세요: '))\n",
        "print(f'2×{n} 격자판을 채울 수 있는 경우의 수는 {f(n)}가지입니다.')"
      ],
      "metadata": {
        "id": "XxZzN_Sp_s9E"
      },
      "execution_count": null,
      "outputs": []
    },
    {
      "cell_type": "code",
      "source": [
        "# 2×n 격자판 채우기\n",
        "# 재귀 함수를\n",
        "\n",
        " 활용한 동적 계획법\n",
        "\n"
      ],
      "metadata": {
        "id": "rKQkNFaG-71-"
      },
      "execution_count": null,
      "outputs": []
    },
    {
      "cell_type": "code",
      "source": [
        "# 2×n 격자판 채우기\n",
        "# 반복문을 활용한 동적 계획법\n",
        "\n"
      ],
      "metadata": {
        "id": "V8hKmln0_AM4"
      },
      "execution_count": null,
      "outputs": []
    },
    {
      "cell_type": "code",
      "source": [
        "# 전체 그려지는 별의 개수 구하기\n",
        "# 분할 정복법\n",
        "\n",
        "def f(n):\n",
        "  if n==1:\n",
        "    return 1\n",
        "\n",
        "  ans = f(n-1) + n + f(n-1)\n",
        "  return ans\n",
        "\n",
        "n=int(input())\n",
        "print(f(n))"
      ],
      "metadata": {
        "id": "VcE5fmuPKHsn"
      },
      "execution_count": null,
      "outputs": []
    },
    {
      "cell_type": "code",
      "source": [
        "# 전체 그려지는 별의 개수 구하기\n",
        "# 재귀 함수를 활용한 동적 계획법\n",
        "\n"
      ],
      "metadata": {
        "id": "ituUBVEW_DNT"
      },
      "execution_count": null,
      "outputs": []
    },
    {
      "cell_type": "code",
      "source": [
        "# 전체 그려지는 별의 개수 구하기\n",
        "# 반복문을 활용한 동적 계획법\n"
      ],
      "metadata": {
        "id": "3hwRBSnc_Gww"
      },
      "execution_count": null,
      "outputs": []
    }
  ]
}