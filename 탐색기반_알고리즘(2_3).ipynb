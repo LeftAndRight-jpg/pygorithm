{
  "nbformat": 4,
  "nbformat_minor": 0,
  "metadata": {
    "colab": {
      "provenance": [],
      "include_colab_link": true
    },
    "kernelspec": {
      "name": "python3",
      "display_name": "Python 3"
    },
    "language_info": {
      "name": "python"
    }
  },
  "cells": [
    {
      "cell_type": "markdown",
      "metadata": {
        "id": "view-in-github",
        "colab_type": "text"
      },
      "source": [
        "<a href=\"https://colab.research.google.com/github/LeftAndRight-jpg/pygorithm/blob/main/%ED%83%90%EC%83%89%EA%B8%B0%EB%B0%98_%EC%95%8C%EA%B3%A0%EB%A6%AC%EC%A6%98(2_3).ipynb\" target=\"_parent\"><img src=\"https://colab.research.google.com/assets/colab-badge.svg\" alt=\"Open In Colab\"/></a>"
      ]
    },
    {
      "cell_type": "markdown",
      "source": [
        "# 알고리즘의 성능\n",
        "* 알고리즘이란? 문제를 해결하기 위하여 수행해야 하는 작업을 나열한 것"
      ],
      "metadata": {
        "id": "UxlUxqbWoYLz"
      }
    },
    {
      "cell_type": "markdown",
      "source": [
        "지리산 천왕봉을 오르는 등산 코스는 여러 갈래가 있다.<br>\n",
        "출발 장소에서 천왕봉까지 오르는 코스에 따라 이동 거리, 이동 시간, 난이도 등은 제각각 다르다.<br>\n",
        "천왕봉을 오르는 다양한 등산 코스 중 어떤 등산 코스가 가장 효율적일까?\n",
        "<br><br>\n",
        "<img src='https://drive.google.com/uc?id=1sCWeJRNDYm0vmqVSHsdrlSnhsaagrY49' width=700>"
      ],
      "metadata": {
        "id": "CI5VI91Dt6Uz"
      }
    },
    {
      "cell_type": "markdown",
      "source": [
        "## 알고리즘 복잡도\n",
        "* 알고리즘의 성능을 평가하는 방법\n",
        "* \"알고리즘이 복잡하다.”라는 말은 수행 시간이 오래 걸리거나 더 많은 비용(cost)이 필요함을 뜻한다.(비용: 연산의 수와 메모리의 양)\n",
        "* 알고리즘의 복잡도에는 시간 복잡도와 공간 복잡도가 있다.\n",
        "  * 시간 복잡도 : 알고리즘을 수행하는 데 필요한 연산 횟수\n",
        "  * 공간 복잡도 : 알고리즘을 수행하는 데 필요한 저장 공간과 같은 자원의 양\n",
        "  * **알고리즘의 수행 시간을 분석**할 때는 시간 복잡도를 사용한다. 수행 시간은 알고리즘을 실행하는 컴퓨터에 따라 다르게 측정될 수 있으므로 **기본 연산의 실행 횟수**로 수행 시간을 평가한다."
      ],
      "metadata": {
        "id": "72BNsK1qv1O9"
      }
    },
    {
      "cell_type": "markdown",
      "source": [
        "## 시간 복잡도\n",
        "* 시간 복잡도는 알고리즘 실행에 필요한 연산 횟수를 나타내는 개념으로, 시간 복잡도를 이용하여 여러 알고리즘의 효율성을 비교할 수 있다.\n",
        "<br><br>\n",
        "<img src='https://drive.google.com/uc?id=1sJBTqQPIc_4bj1IvBNsTEbObvhiOitjW' width=800>"
      ],
      "metadata": {
        "id": "RvJuwvFJv2I_"
      }
    },
    {
      "cell_type": "markdown",
      "source": [
        "일반적으로 알고리즘은 입력(n)에 따라 연산 횟수가 달라진다.\n",
        "<br><br>\n",
        "<img src='https://drive.google.com/uc?id=1sKxQRx3jUx56d1fpMrqnamEECr8ycdvf' width=800>"
      ],
      "metadata": {
        "id": "RQ4tQ7-fyPTe"
      }
    },
    {
      "cell_type": "markdown",
      "source": [
        "## 피보나치수열 알고리즘을 T(n)으로 표현하기\n",
        "\n",
        "<img src='https://drive.google.com/uc?id=1-WdnQfxGgpqZWeWG4lEs98nWlXtuGd6V' width=800>\n"
      ],
      "metadata": {
        "id": "WEQB55WIMrfV"
      }
    },
    {
      "cell_type": "markdown",
      "source": [
        "<img src='https://drive.google.com/uc?id=1oEapxWYOPtwmlXv6wfd7aSMKH8ic2r7U' width=800>"
      ],
      "metadata": {
        "id": "p6pXt8mjNL4v"
      }
    },
    {
      "cell_type": "markdown",
      "source": [
        "# 알고리즘의 분석"
      ],
      "metadata": {
        "id": "E0frvlkSUPda"
      }
    },
    {
      "cell_type": "markdown",
      "source": [
        "## 빅오 표기법\n",
        "* 점근 표기법 중 주로 사용하는 방법으로 **O(f(n))**형태로 표현\n",
        "  * 점근 표기법 : 알고리즘의 시간 복잡도를 간단하게 비교하고 분석하여 입력값의 변화에 따른 수행 시간 변화를 빠르게 파악할 수 있도록 사용하는 표현 방법\n",
        "* 빅오 표기법을 사용하면 알고리즘의 대략적인 연산 실행 횟수를 추정할 수 있으며, 이를 통하여 알고리즘의 효율성을 비교·분석할 수 있다.\n",
        "<br><br>\n",
        "<img src='https://drive.google.com/uc?id=1vuHkAQcyOYsf43YF38Kygh_BEINS9KQB' width=600>\n",
        "<br>\n",
        "<img src='https://drive.google.com/uc?id=1VQonNKBw3jSAJoT8V2Q7ncM48acdtpsQ' width=450>"
      ],
      "metadata": {
        "id": "pehHWyIqNyQv"
      }
    },
    {
      "cell_type": "markdown",
      "source": [
        "## 빅오 표기법으로 표현하기\n",
        "<img src='https://drive.google.com/uc?id=17nLs-N6UHL_h9TBzmTYNkYeQrN3v-Mc9' width=500>"
      ],
      "metadata": {
        "id": "GIgCgXxAQc_O"
      }
    },
    {
      "cell_type": "markdown",
      "source": [
        "## 알고리즘 수행시간\n",
        "* 연산 1,000만 개을 1초에 수행할 수 있는 컴퓨터에서 시간 복잡도가 O(n), O(n log n), O(n^2), O(n^3), O(2^n)인 알고리즘을 수행하였을 때 실제로 수행되는 시간을 다음과 같이 추정할 수 있다.\n",
        "<br>\n",
        "<img src='https://drive.google.com/uc?id=1rkGegUQBt86e5H-ZQUk7IYYjphn-PnNQ' width=600>"
      ],
      "metadata": {
        "id": "qWKD4uqgUapo"
      }
    },
    {
      "cell_type": "markdown",
      "source": [
        "## 삽입 정렬\n",
        "* 현재 위치에 있는 원소를 적절한 위치에 삽입하는 정렬 알고리즘\n",
        "1.   두 번째 원소부터 시작하여, 왼쪽에 있는 정렬된 부분과 비교합니다.\n",
        "2.   자신보다 큰 값이 있으면 그 값을 오른쪽으로 이동시키고,\n",
        "3.   적절한 위치에 자신을 삽입합니다.\n",
        "4.   이 과정을 끝까지 반복하면 전체가 정렬됩니다.\n",
        "\n",
        "<img src='https://drive.google.com/uc?id=1l-9S5e0GkIXaUGOqAEdkzeQQS2BoYAmK' width=450>"
      ],
      "metadata": {
        "id": "hQb33WKaWfca"
      }
    },
    {
      "cell_type": "code",
      "source": [
        "# 삽입 정렬 : 시간 복잡도는 O(n2)\n",
        "data = list(map(int, input().split()))\n",
        "\n",
        "for i in range(1,len(data)):            # 두 번째 원소부터 시작(인덱스번호=1)\n",
        "  for j in range(i, 0, -1):             # j는 i부터 시작하여 왼쪽으로 한 칸씩 이동하며 1까지 비교\n",
        "    if data[j] < data[j-1]:             # 만약 왼쪽에 있는 원소가 현재 원소보다 크다면 (정렬 기준에 어긋나면)\n",
        "        data[j], data[j-1] = data[j-1], data[j]    # 두 원소의 위치를 교환 (작은 값을 왼쪽으로 이동)\n",
        "\n",
        "print(data)"
      ],
      "metadata": {
        "id": "mbORgKOTZAms"
      },
      "execution_count": null,
      "outputs": []
    },
    {
      "cell_type": "markdown",
      "source": [
        "## 퀵 정렬\n",
        "* 주어진 리스트를 2개의 하위 리스트로 분할한 다음에 하위 리스트를 정렬하는 방식으로 전체를 정렬한다.\n",
        "* 피벗보다 작은 원소는 왼쪽에 자리 잡고, 피벗(Pivot)보다 큰 원소는 피벗의 오른쪽에 자리 잡는다.\n",
        "\n",
        "1.   기준값(Pivot)을 하나 정한다.\n",
        "2.   이 기준 값보다 작은 값은 왼쪽, 큰 값은 오른쪽에 분류한다.\n",
        "3.   이렇게 나뉜 두 부분을 다시 퀵 정렬로 정렬한다.\n",
        "4.   모든 부분이 정렬되면 전체 배열도 정렬된다.\n",
        "<br>\n",
        "<img src='https://drive.google.com/uc?id=1R9vQcpbFP3EmOQjYwvF2_jso5CkJaoeX' width=550>\n",
        "\n"
      ],
      "metadata": {
        "id": "tsJFCY_oZrDA"
      }
    },
    {
      "cell_type": "code",
      "source": [
        "# 퀵 정렬 : 시간 복잡도는 O(n log n)\n",
        "def f(start, end):        # start부터 end까지의 부분 배열을 정렬하는 재귀 함수\n",
        "  if start >= end:        # 더 이상 정렬이 필요 없는 경우 확인(재귀 종료 조건)\n",
        "    return\n",
        "\n",
        "  pivot = start           # 기준값(피벗)을 맨 앞 원소로 설정\n",
        "  left = start+1          # 왼쪽 포인터는 피벗 다음부터 시작\n",
        "  right = end             # 오른쪽 포인터는 맨 끝부터 시작\n",
        "  # left, right: 서로 만나기 전까지 왼쪽과 오른쪽에서 값들을 비교하며 스왑할 위치를 찾음\n",
        "\n",
        "  while left <= right:\n",
        "    while left <= end and data[left] <= data[pivot]:    # left 포인터를 오른쪽으로 이동시키며, pivot보다 큰 값을 만날 때까지 진행\n",
        "      left = left + 1\n",
        "    while right > start and data[right] >= data[pivot]: # right 포인터를 왼쪽으로 이동하면서, pivot보다 작은 값을 만날 때까지 진행\n",
        "      right = right - 1\n",
        "\n",
        "    if left > right:      # 엇갈렸다면, pivot과 right를 교환\n",
        "      data[right], data[pivot] = data[pivot], data[right]\n",
        "    else:                 # 아직 엇갈리지 않은 경우: 두 값을 서로 교환\n",
        "      data[left], data[right] = data[right], data[left]\n",
        "\n",
        "  f(start, right-1)       # 재귀호출(왼쪽 부분 정렬)\n",
        "  f(right+1, end)         # 재귀호출(오른쪽 부분 정렬)\n",
        "\n",
        "data = list(map(int, input().split()))\n",
        "f(0, len(data)-1)\n",
        "print(data)"
      ],
      "metadata": {
        "id": "Y0Gk9p7igqE-"
      },
      "execution_count": null,
      "outputs": []
    },
    {
      "cell_type": "markdown",
      "source": [
        "## 정렬 알고리즘의 시간 복잡도\n",
        "* 버블정렬 : O(n^2)\n",
        "  * 인접한 두 수를 비교해 자리를 바꾸는 작업을 반복하여 정렬\n",
        "* 삽입정렬 : O(n^2)\n",
        "  * 앞에서부터 차례대로 정렬된 부분에 알맞은 위치에 삽입\n",
        "* 선택정렬 : O(n^2)\n",
        "  * 전체에서 가장 작은 값을 선택해 맨 앞과 교환\n",
        "* 힙 정렬 : O(n log n)\n",
        "  * 최대 힙/최소 힙을 구성해 루트를 꺼내 정렬\n",
        "* 합병 정렬 : O(n log n)\n",
        "  * 리스트를 반씩 나누고 정렬하여 병합\n",
        "* 퀵 정렬 : O(n log n)\n",
        "  * 기준(pivot)을 정해 작은 값/큰 값으로 나눈 뒤 재귀적으로 정렬"
      ],
      "metadata": {
        "id": "kOQef6Ulnvig"
      }
    },
    {
      "cell_type": "markdown",
      "source": [
        "## 알고리즘 시간 복잡도 분석을 통한 문제 해결\n",
        "* 문제를 해결하는 두 가지 알고리즘의 시간 복잡도를 빅오 표기법으로 나타내고, 더 효율적인 알고리즘이 무엇인지 분석해 보자.\n",
        "<br><br>\n",
        "<img src='https://drive.google.com/uc?id=1nLjYGKK0EtNA4eNgFtN9GkWlIZV4Tn0m' width=800>"
      ],
      "metadata": {
        "id": "38PTby-I_Y-o"
      }
    },
    {
      "cell_type": "code",
      "source": [
        "# 해결 방법 1\n",
        "ans = 0\n",
        "n = int(input('화단 둘레의 길이를 입력하시오: '))\n",
        "for i in range(1, n+1):               # (i <= j <= k) : 중복되는 삼각형(예: (2,3,4)와 (3,2,4))을 제거하고 한 번만 카운트\n",
        "  for j in range(i, n+1):\n",
        "    for k in range(j, n+1):\n",
        "      if i+j+k == n and k<(i+j):      # 삼각형이 되기 위한 조건 : 가장 긴 변 < 나머지 두 변의 합\n",
        "        ans += 1\n",
        "        print(i, j, k)\n",
        "print(f'화단의 수 : {ans}가지')"
      ],
      "metadata": {
        "id": "Nv9F3k1QAWfA"
      },
      "execution_count": null,
      "outputs": []
    },
    {
      "cell_type": "code",
      "source": [
        "# 해결 방법 2\n",
        "ans = 0\n",
        "n = int(input())\n",
        "for i in range(1, n+1):\n",
        "  for j in range(i, n+1):\n",
        "    k = n-i-j\n",
        "    if k<(i+j) and k>=j:            # 삼각형 조건 and (i <= j <= k) 확인\n",
        "      ans += 1\n",
        "      print(i, j , k)\n",
        "print(ans)"
      ],
      "metadata": {
        "id": "ubSCjtKIBhKy"
      },
      "execution_count": null,
      "outputs": []
    },
    {
      "cell_type": "markdown",
      "source": [
        "해결방법1의 시간 복잡도는 (     )이고, 해결방법2의 시간 복잡도는 (     )이므로, (         )(이)가 더 효율적인 해결 방법이다."
      ],
      "metadata": {
        "id": "SIMBP7kBF616"
      }
    },
    {
      "cell_type": "code",
      "source": [],
      "metadata": {
        "id": "0gD0kYjSGTmJ"
      },
      "execution_count": null,
      "outputs": []
    },
    {
      "cell_type": "markdown",
      "source": [
        "# 탐색기반 알고리즘\n",
        "  * 정의 : 가능한 모든 경우(상태 공간)를 하나씩 살펴보며 정답을 찾는 알고리즘\n",
        "  * 상태 공간 : 문제의 해답이 될 수 있는 모든 상태(경우)의 집합\n",
        "  * 특징\n",
        "    * 상태 공간이 클수록 시간이 오래 걸릴 수 있음\n",
        "    * 컴퓨터는 빠르게 계산할 수 있지만, 무조건 빠르지는 않음\n",
        "  * 효율 향상 방법\n",
        "    * 상태 공간 자체를 줄이기\n",
        "    * 불필요한 경우는 미리 제거(가지치기)\n",
        "    * 더 나은 후보를 먼저 선택(휴리스틱)하는 전략 사용<br>\n",
        "  ※ 가지치기 : 불필요한 경우 제거, 명확한 조건으로 탐색 중단<br>\n",
        "  ※ 휴리스틱 : 더 좋은 가능성부터 먼저 시도, 직관적 기준으로 우선순위 결정\n",
        "  <br>\n",
        "  <img src='https://drive.google.com/uc?id=1yMPUeXDnslTRJVDcjnaZ5Xe3Dn0dgNF0' width=600><br>"
      ],
      "metadata": {
        "id": "ekpPAJIpGnJz"
      }
    },
    {
      "cell_type": "markdown",
      "source": [
        "## 탐색기반 알고리즘의 종류\n",
        "* 상태 공간의 구조 기준\n",
        "  * 선형 구조 : 순차 탐색(Linear Search), 이분 탐색(Binary Search)\n",
        "  * 비선형 구조 : 깊이 우선 탐색(DFS), 너비 우선 탐색(BFS)\n",
        "* 탐색 전략 기준(문제 해결 방법)\n",
        "  * 전체 탐색\n",
        "    * 완전 탐색: 가능한 모든 경우를 빠짐없이 다 해보는 방법\n",
        "    * 백트래킹: 완전 탐색 중 답이 안되는 길은 미리 포기하고 돌아\n",
        "  * 휴리스틱 탐색\n",
        "    * 탐욕법(Greed): 매 순간 가장 좋아 보이는 선택을 하는 방법\n",
        "    * A*: 현재까지 온 거리 + 앞으로 남은 거리(예상)를 기준으로 경로를 선택\n",
        "  * 최적화 전략\n",
        "    * 동적 계획법(DP): 이미 계산한 값을 기억해서 반복 계산을 줄이는 방법\n",
        "    * 분기한정법: 가능성이 없는 선택지는 아예 건너뛰는 가지치기 기법<br>\n",
        "*\n",
        "※ 가지치기 : 불필요한 경우 제거, 명확한 조건으로 탐색 중단<br>\n",
        "※ 휴리스틱 : 더 좋은 가능성부터 먼저 시도, 직관적 기준으로 우선순위 결정"
      ],
      "metadata": {
        "id": "ouHJok9Nv26d"
      }
    },
    {
      "cell_type": "markdown",
      "source": [
        "### (1) 선형 탐색기반 알고리즘\n",
        "* 선형 구조(리스트, 큐, 스택 등)로 구성된 상태 공간에서\n",
        "조건을 만족하는 원소를 차례대로 혹은 논리적으로 탐색하는 알고리즘\n",
        "\n",
        "#### << 순차 탐색(Linear Search)\n",
        "* 정의\n",
        "  * 리스트의 첫 번째 요소부터 끝까지 차례대로 비교하며 찾는 값이 나올 때까지 탐색\n",
        "* 동작원리\n",
        "  * 앞에서부터 하나씩 비교 → 값이 일치하면 탐색 종료 및 위치 반환 →\n",
        "끝까지 못 찾으면 실패(-1 등) 반환\n",
        "* 장점\n",
        "  * 배열이 정렬되어 있지 않거나, 데이터의 구조를 모를 때에도 사용 가능\n",
        "  * 구현이 매우 간단함\n",
        "* 단점\n",
        "  * 시간 복잡도가 O(n)으로 배열의 크기가 커질수록 탐색 시간이 선형적으로 증가\n",
        "  * 최악의 경우 모든 요소를 확인해야 하므로 비효율적\n",
        "* 예시 : 배열 [2, 4, 6, 8, 10]에서 8 찾기\n",
        "  * 2와 비교 → 다름\n",
        "  * 4와 비교 → 다름\n",
        "  * 6과 비교 → 다름\n",
        "  * 8과 비교 → 값이 일치 → 탐색 성공\n",
        "\n",
        "####<< 이분 탐색(Binary Search)\n",
        "* 정의\n",
        "  * 정렬된 배열에서만 사용 가능한 탐색 알고리즘\n",
        "  * 중앙값과 비교하며 범위를 반으로 줄여나가는 방식으로 순차 탐색보다 훨씬 빠르다.\n",
        "* 동작 원리\n",
        "  * 가운데 값과 비교 →\n",
        "  * 찾는 값이 작으면 왼쪽, 크면 오른쪽으로 →\n",
        "  * 계속 절반으로 나누며 탐색\n",
        "* 장점\n",
        "  * 시간 복잡도가 O(log n)로 매번 배열을 절반씩 줄여가며 탐색하기 때문에 매우 빠르다.\n",
        "  * 탐색 대상이 커질수록 순차 탐색에 비해 훨씬 효율적이다.\n",
        "* 단점\n",
        "  * 배열이 반드시 정렬되어 있어야 한다.\n",
        "  * 정렬에 대한 비용이 추가로 발생할 수 있다.\n",
        "  * 순차 탐색보다 구현하기 복잡하다.\n",
        "* 예시\n",
        "  * 정렬된 배열 [2, 4, 6, 8, 10, 12, 14] → 8 찾기\n",
        "    * 가운데 요소 8과 비교 → 값이 일치 → 탐색 성공\n",
        "  *정렬된 배열 [2, 4, 6, 8, 10, 12, 14]→ 12 찾기\n",
        "    * 가운데 요소 8과 비교 → 찾는 값이 더 큼 → 오른쪽 절반으로 탐색 범위를 좁힘\n",
        "      → 오른쪽 절반의 가운데 요소 12와 비교 → 값이 일치 → 탐색 성공\n"
      ],
      "metadata": {
        "id": "eryMGu3bc07H"
      }
    },
    {
      "cell_type": "markdown",
      "source": [
        "* 탐색기반 알고리즘 예시 문제 (순차 탐색 활용)<br>\n",
        "문제: 자연수 n = 10의 모든 약수를 찾아 그 합을 구하라.\n",
        "  * 상태 공간 : 가능한 수 → {1, 2, 3, 4, 5, 6, 7, 8, 9, 10}\n",
        "  * 탐색 방식\t: 각 수 i에 대해 n % i == 0인지를 검사 (순차 탐색)\n",
        "  * 유효한 해 (약수): 상태 공간 중에서 10을 나누어 떨어지게 하는 수 → {1, 2, 5, 10}\n",
        "  * 출력(정답) : 약수의 합 → 1 + 2 + 5 + 10 = 18"
      ],
      "metadata": {
        "id": "uvd2mWBjk_en"
      }
    },
    {
      "cell_type": "code",
      "source": [
        "# (순차 탐색)자연수 n의 모든 약수의 합 구하기\n",
        "n = int(input('자연수 n을 입력하세요: '))\n",
        "divisor_sum = 0\n",
        "for i in range(1, n+1):\n",
        "  if n%i == 0:\n",
        "    divisor_sum += i\n",
        "\n",
        "print(f\"{n}의 모든 약수의 합은 {divisor_sum}입니다.\")"
      ],
      "metadata": {
        "id": "6IrEJv1RybzN"
      },
      "execution_count": null,
      "outputs": []
    },
    {
      "cell_type": "code",
      "source": [
        "# (이분 탐색) 정렬된 배열 [2, 4, 6, 8, 10, 12, 14]에서 원하는 숫자 찾기\n",
        "def binary_search(arr, target):\n",
        "    left = 0\n",
        "    right = len(arr) - 1\n",
        "    steps = []  # 비교한 값을 기록할 리스트\n",
        "\n",
        "    while left <= right:\n",
        "        mid = (left + right) // 2\n",
        "        steps.append(arr[mid])  # 비교한 값을 기록\n",
        "\n",
        "        if arr[mid] == target:\n",
        "            return mid, steps   # 찾는 값을 발견했으므로 인덱스와 비교 기록 반환\n",
        "        elif arr[mid] < target:\n",
        "            left = mid + 1      # 찾는 값이 더 크므로, mid 포함 왼쪽 구간은 제외\n",
        "        else:\n",
        "            right = mid - 1     # 찾는 값이 더 작으므로, mid 포함 오른쪽 구간은 제외\n",
        "\n",
        "    return -1, steps            # 찾지 못했을 경우\n",
        "\n",
        "arr = [2, 4, 6, 8, 10, 12, 14]\n",
        "target = int(input('2~14사이의 정수를 입력하시오: '))\n",
        "\n",
        "index, steps = binary_search(arr, target)\n",
        "\n",
        "# 출력\n",
        "if index != -1:\n",
        "    print(f\"값 {target}은 인덱스 {index}에 있습니다.\")\n",
        "else:\n",
        "    print(f\"값 {target}을 찾을 수 없습니다.\")\n",
        "\n",
        "print(\"비교한 값의 순서:\", \" → \".join(map(str, steps)))\n"
      ],
      "metadata": {
        "id": "m8ZmqxkbvDR-"
      },
      "execution_count": null,
      "outputs": []
    },
    {
      "cell_type": "markdown",
      "source": [
        "###(2) 비선형 탐색기반 알고리즘\n",
        "* 선형 탐색과 달리 트리나 그래프와 같은 비선형 구조에서,<br>\n",
        "  연결된 노드나 정점을 따라가며 여러 방향으로 부기되는 형태의 탐색 방식<br>\n",
        "* 특징\n",
        "  * 순차적으로 진행되지 않음\n",
        "  * 탐색 공간이 빠르게 확산됨\n",
        "  * 구조가 복잡하며, 다양한 경로 탐색이 가능\n",
        "\n",
        "<< 깊이 우선 탐색(DPS, Depth-First Search)\n",
        "* 개념\n",
        "  * 시작 노드에서 가능한 한 깊이 들어가며 탐색\n",
        "  * 더 이상 진행할 수 없으면 되돌아가면서(backtrack) 다른 경로 탐색\n",
        "  * 스택을 이용해 현재 방문 중인 경로를 저장하며 탐색\n",
        "* 장점\n",
        "  * 메모리 사용량이 적음\n",
        "  * 깊이를 미리 알 수 없거나 전체 탐색이 필요한 경우 유리\n",
        "* 단점\n",
        "  * 최단 경로를 보장하지 않음\n",
        "  * 잘못된 경로로 깊게 들어가면 비효율\n",
        "  * 무한 루프에 빠질 가능성 있음(사이클 탐색 시 방문 체크 필요)\n",
        "* 시간 복잡도 : O(V+E)(V: 정점의 수, E: 간선의 수)\n",
        "* 사용 예시\n",
        "  * 퍼즐\n",
        "  * 미로 찾기\n",
        "  * 조합 문\n",
        "  * 백트래킹(backtracking)알고리즘<br>\n",
        "\n",
        "<< 너비 우선 탐색(BFS, Breadth-First Search)\n",
        "* 개념\n",
        "  * 시작 노드에서 가까운 노드부터 차례대로 탐색\n",
        "  * 한 레벨의 모든 노드를 방문한 뒤 다음 레벨로 진행\n",
        "  * 큐를 이용하여 각 깊이에 해당하는 노드를 저장하면서 탐색을 진행\n",
        "* 장점\n",
        "  * 최단 경로 보장\n",
        "  * 방문 순서가 예측 가능해 이해하기 쉬움\n",
        "* 단점\n",
        "  * DFS보다 메모리 사용이 많음\n",
        "  * 노드 수가 많으면 비효율적일 수 있음\n",
        "* 시간 복잡도 : O(V+E)(V: 정점의 수, E: 간선의 수)\n",
        "* 사용 예시\n",
        "  * 최단 거리 문제(그래프 최단 경로, 네트워크 탐색 등)\n",
        "  * 레발 기반 문제(예: 트리의 깊이, 레벨 순서 순회 등)\n",
        "  <br> <br>\n",
        "  <img src='https://drive.google.com/uc?id=18klSS7-jdB1qoZcRRuXB9Bkn7y3alEH5' width=1200>"
      ],
      "metadata": {
        "id": "2hh5cdCZ0gBE"
      }
    },
    {
      "cell_type": "code",
      "source": [],
      "metadata": {
        "id": "xCJ6i84ioC80"
      },
      "execution_count": null,
      "outputs": []
    },
    {
      "cell_type": "markdown",
      "source": [
        "* 예시> 자연수의 합으로 3을 나타낼 수 있는 모든 순열의 개수를 비선형 탐색으로 찾아보기(DFS)\n",
        "<img src='https://drive.google.com/uc?id=1i6bzjhVDuTnJE_fGfc982tNKG_EEPddn' width=700>\n",
        "<br>\n",
        "  * 노드 값 : 현재 남은 합계<br>\n",
        "  * 간선의 가중치(+1, +2, +3) : 실제로 선택된 자연수"
      ],
      "metadata": {
        "id": "ZealhTNEi_3N"
      }
    },
    {
      "cell_type": "code",
      "source": [
        "여기까지...(6/11)"
      ],
      "metadata": {
        "id": "-W9KeTU70Jmd"
      },
      "execution_count": null,
      "outputs": []
    },
    {
      "cell_type": "code",
      "source": [],
      "metadata": {
        "id": "UXZ13Kdg1EaV"
      },
      "execution_count": null,
      "outputs": []
    },
    {
      "cell_type": "code",
      "source": [
        "# 자연수 n을 1 이상의 자연수의 합으로 나타낼 수 있는 모든 순열 구하기\n",
        "# n은 현재 남은 합\n",
        "# path는 지금까지 선택한 수들의 리스트\n",
        "# 가능한 한 경로를 끝까지 따라간 후, 더 이상 진행할 수 없을 때 되돌아와 다른 수를 시도 : 깊이 우선 탐색(DFS)\n",
        "\n",
        "def find_compositions(n, path):\n",
        "    if n == 0:            # 하나의 정답 조합 완성시\n",
        "        print(' + '.join(map(str, path)))  # 완성된 조합 출력\n",
        "        return 1                           # 유효한 조합 1개로 셈\n",
        "    else:\n",
        "        total = 0                          # 조합 개수 누적을 위한 초기값\n",
        "        for i in range(1, n + 1):          # 1부터 n까지 하나씩 시도\n",
        "            total += find_compositions(n - i, path + [i])     # find_compositions(1)에서 find_compositions(n)까지 반환받은 값을 더해서 total에 저장\n",
        "        return total                      # 누적한 조합 수 반환\n",
        "\n",
        "# 입력\n",
        "n = int(input('합을 구할 자연수를 입력하시오: '))\n",
        "print(f'\\n{n}을(를) 자연수의 합으로 표현할 수 있는 모든 순열:')\n",
        "count = find_compositions(n, [])\n",
        "\n",
        "print(f'\\n총 경우의 수: {count}')\n"
      ],
      "metadata": {
        "id": "W8J12HnO5Ver",
        "colab": {
          "base_uri": "https://localhost:8080/"
        },
        "outputId": "10cca21b-b31d-4cd0-97bc-2870ea814268"
      },
      "execution_count": null,
      "outputs": [
        {
          "output_type": "stream",
          "name": "stdout",
          "text": [
            "합을 구할 자연수를 입력하시오: 4\n",
            "\n",
            "4을(를) 자연수의 합으로 표현할 수 있는 모든 순열:\n",
            "1 + 1 + 1 + 1\n",
            "1 + 1 + 2\n",
            "1 + 2 + 1\n",
            "1 + 3\n",
            "2 + 1 + 1\n",
            "2 + 2\n",
            "3 + 1\n",
            "4\n",
            "\n",
            "총 경우의 수: 8\n"
          ]
        }
      ]
    },
    {
      "cell_type": "markdown",
      "source": [
        "### 비선형 탐색기반 프로그램 작성하기\n",
        "* 다음 문제를 비선형 탐색으로 해결하는 프로그램을 작성해보자.\n",
        "  * 강인이가 계단을 오르려고 한다. 계단은 모두 n칸으로 구성되어 있다.\n",
        "  * 강인이는 한 번에 1칸 또는 2칸을 오를 수 있다.\n",
        "  * 강인이가 0번째 칸에서 출발하여 n번째 칸으로 올라가는 서로 다른 방법의 수를 구해 보자.\n"
      ],
      "metadata": {
        "id": "z9BIW0SG5Ves"
      }
    },
    {
      "cell_type": "code",
      "source": [
        "# 깊이 우선 탐색(DFS)\n",
        "# 도착점인 n부터 시작\n",
        "# n번째 칸에 도달하는 방법은 (n-1)번째 칸에서 1칸 올라온 경우 + (n-2)번째 칸에서 2칸 올라온 경우\n",
        "\n",
        "def climb(n):\n",
        "    if n == 0:\n",
        "        return 1  # 도착!\n",
        "    if n < 0:\n",
        "        return 0  # 경로 아님\n",
        "    return climb(n - 1) + climb(n - 2)\n",
        "\n",
        "n = int(input(\"계단의 수 n을 입력하세요: \"))\n",
        "print(f\"{n}칸을 오르는 방법의 수: {climb(n)}\")"
      ],
      "metadata": {
        "id": "iE8vwhr85Ves",
        "colab": {
          "base_uri": "https://localhost:8080/"
        },
        "outputId": "8bdc2634-0d00-40ef-fcba-d2cb7042f447"
      },
      "execution_count": null,
      "outputs": [
        {
          "output_type": "stream",
          "name": "stdout",
          "text": [
            "계단의 수 n을 입력하세요: 4\n",
            "4칸을 오르는 방법의 수: 5\n"
          ]
        }
      ]
    },
    {
      "cell_type": "code",
      "source": [
        "# 깊이 우선 탐색(DFS)\n",
        "# 출발점인 0부터 시작\n",
        "def ways(c):      # 출발점 c=0\n",
        "    if c == n:\n",
        "        return 1  # 정확히 도착했을 경우\n",
        "    if c > n:\n",
        "        return 0  # 초과해서 도착할 수 없음\n",
        "    return ways(c + 1) + ways(c + 2)  # 한 번에 1칸 또는 2칸 오르기\n",
        "\n",
        "n = int(input(\"계단의 수 n을 입력하세요: \"))\n",
        "print(f\"{n}칸을 오르는 방법의 수: {ways(0)}\")"
      ],
      "metadata": {
        "id": "2XB-chH25Ves",
        "colab": {
          "base_uri": "https://localhost:8080/"
        },
        "outputId": "615e5230-feaf-4003-801c-0a89239c667a"
      },
      "execution_count": null,
      "outputs": [
        {
          "output_type": "stream",
          "name": "stdout",
          "text": [
            "계단의 수 n을 입력하세요: 4\n",
            "4칸을 오르는 방법의 수: 5\n"
          ]
        }
      ]
    },
    {
      "cell_type": "code",
      "source": [
        "# 너비 우선 탐색(BFS)\n",
        "# deque(double-ended queue) : 양쪽에서 삽입과 삭제가 모두 가능한 큐 자료구조\n",
        "\n",
        "from collections import deque\n",
        "\n",
        "def bfs(n):\n",
        "    queue = deque()\n",
        "    queue.append(0)       # 시작 위치만 저장\n",
        "    count = 0             # 정답(방법의 수)을 저장할 변수\n",
        "\n",
        "    while queue:\n",
        "        current = queue.popleft()      # 큐(가장 앞쪽)에서 하나 꺼냄(current:현재 계단 위치)\n",
        "\n",
        "        if current == n:               # 종료 조건 1: 정확히 n칸에 도달한 경우\n",
        "            count += 1                 # 도달한 모든 유효한 경로의 개수를 누적\n",
        "            continue\n",
        "        if current > n:                # 종료 조건 2: n을 초과한 경우 → 잘못된 경로이므로 무시\n",
        "            continue\n",
        "\n",
        "        # 다음 탐색: 현재 위치에서 1칸 또는 2칸 오를 수 있음\n",
        "        queue.append(current + 1)  # 1칸 오르기\n",
        "        queue.append(current + 2)  # 2칸 오르기\n",
        "        print(queue)\n",
        "\n",
        "    return count      # 모든 경로 탐색 후 방법의 수 반환\n",
        "\n",
        "# 입력\n",
        "n = int(input(\"계단 수 n을 입력하세요: \"))\n",
        "ways = bfs(n)\n",
        "\n",
        "print(f\"{n}칸을 오르는 방법의 수: {ways}\")"
      ],
      "metadata": {
        "id": "P5fJ9zqo5Ves"
      },
      "execution_count": null,
      "outputs": []
    },
    {
      "cell_type": "code",
      "source": [],
      "metadata": {
        "id": "7vqC0luU5Ves"
      },
      "execution_count": null,
      "outputs": []
    },
    {
      "cell_type": "markdown",
      "source": [
        "DFS와 BFS 비교 요약(계단 문제 기준)\n",
        "\n",
        "DFS\n",
        "1.   구현 방식 : 재귀 호출 or 스택\n",
        "2.   탐색 방향 : 가능한 경로를 끝까지 먼저 탐색\n",
        "3.   시간 복잡도 : O(2^n)\n",
        "4.   장점 : 코드가 간결하고, 재귀 구조 이해에 도움\n",
        "\n",
        "BFS\n",
        "1.   구현 방식 : 큐 사용\n",
        "2.   탐색 방향 : 가능한 경로를 한 층씩 차례대로 탐색\n",
        "3.   시간 복잡도 : O(2^n)\n",
        "4.   장점 : 최단 경로를 찾는데 유리, 경로 추적에 용이"
      ],
      "metadata": {
        "id": "0KeEv2k45Vet"
      }
    },
    {
      "cell_type": "code",
      "source": [],
      "metadata": {
        "id": "KYl6MiwX5Vet"
      },
      "execution_count": null,
      "outputs": []
    },
    {
      "cell_type": "markdown",
      "source": [
        "### (3) 전체 탐색 = 완전 탐색법 = 브루트 포스(brute force)방법\n",
        "* 개념 : 주어진 문제에서 해가 될 수 있는 모든 원소를 검사해 해를 구하는 방법\n",
        "* 장점 : 항상 정확한 해를 구할 수 있다.\n",
        "* 단점 : 탐색해야 할 원소의 수가 많으면 문제에서 제시한 시간 안에 해결하기가 어렵다.\n",
        "* 전체 탐색의 한계\n",
        "  * 비밀번호 크래킹 : 비밀번호가 숫자 네 자리로 구성되어 있다면, 가능한 조합은 10,000가지이다. 하지만 비밀번호가 알파벳 대소문자와 숫자를 포함한 여덟자리라면, 가능한 조합은 62^8(약 2천억)이다. 따라서 전체탐색을 통해서 비밀번호를 찾는 것은 현실적으로 매우 비효율적이다.\n",
        "  * 체스 게임 : 각 턴마다 가능한 수의 수가 매우 많고, 게임 전체를 통틀어 가능한 게임 상태의 수가 많아 모든 가능성을 전체 탐색하는 것은 현실적으로 매우 비효율적이다.\n"
      ],
      "metadata": {
        "id": "653isIT75Vet"
      }
    },
    {
      "cell_type": "code",
      "source": [],
      "metadata": {
        "id": "zissTzxb5Vet"
      },
      "execution_count": null,
      "outputs": []
    },
    {
      "cell_type": "markdown",
      "source": [
        "### (4) 상태 공간의 배제와 문제 해결\n",
        "* 해가 될 가능성이 없는 경로(상태)를 미리 판단하여 탐색하지 않도록 설계하는 전략\n",
        "<br> → 이를 통해 전체 상태 공간을 줄이고, 부분 탐색만으로 효율적인 문제해결이 가능\n",
        "* 알고리즘 종류\n",
        "  * 백트래킹 : 유망하지 않은 경로는 탐색 중단하고 되돌아감\n",
        "  * 분기한정법 : 상태마다 하한/상한 값을 계산하여, 최적 가능성이 없는 경로는 탐색 배제\n",
        "  * 탐욕법 : 항상 현재 단계에서 최선의 선택만 하며 진행\n",
        "  * 알파-베타 가지치기 : 게임 트리에서 상대가 선택하지 않을 수는 미리 배제\n",
        "  * A*알고리즘 : 실제 비용 + 휴리스틱으로 판단하여, 비효율적인 경로는 탐색에서 제외\n",
        "  * 동적 계획법(DP) : 중복되는 계산은 기억(Memoization)하여 반복 계산을 생략(관계기반)"
      ],
      "metadata": {
        "id": "mq0Iihit5Vet"
      }
    },
    {
      "cell_type": "markdown",
      "source": [
        "### (5) 분기 한정법(Branch and Bound)\n",
        "\"될 만한 길만 끝까지 가고, 안 될 길은 미리 잘라낸다!!\"\n",
        "* 모든 경우를 완전탐색하되,<br>\n",
        "절대 최적해가 될 수 없는 경로는 미리 제거(=가지치기)하여 탐색 효율을 높이는 알고리즘\n",
        "\n",
        "* 작동 방식\n",
        "1. 분기(Branch): 문제를 해결하기 위해 가능한 모든 경로로 쪼개어 탐색 진행\n",
        "2. 한정(Bound): 각 경로(분기점)에서 이 경로를 계속 탐색할 가치가 있는지 판단하기 위해, 가능한 최대값이나 최소값 등을 계산\n",
        "3. 가지치기(Prune): 계산 결과, 더 탐색해도 좋은 결과가 나올 수 없다고 판단되면 탐색 중단\n",
        "\n",
        "* 예시 : 자연수 합으로 n을 만드는 문제(n=10)\n",
        "  * 가능한 모든 조합을 모두 탐색하되\n",
        "    * 예:1+2+5+4=12 → 이미 10 초과 → 더 이상 진행 X\n",
        "  * 현재 상태에서 더해봐도 해답이 될 수 없으면 중단\n",
        "\n"
      ],
      "metadata": {
        "id": "aR0lQ9it5nll"
      }
    },
    {
      "cell_type": "markdown",
      "source": [
        "#### 분기 한정법 예제\n",
        "* 숫자들을 더해서 목표값 만들기\n",
        "  * [1, 2, 3] 중에서 숫자들을 골라 합이 정확히 5가 되는 방법의 수를 구하자.\n",
        "  * 숫자는 중복해서 골라도 된다.\n",
        "  * 단, 합이 5를 초과하면 더 이상 볼 필요 없음 → 가지치기"
      ],
      "metadata": {
        "id": "t5jxDoXaeoWl"
      }
    },
    {
      "cell_type": "code",
      "source": [
        "numbers = [1, 2, 3]\n",
        "target = 5\n",
        "count = 0\n",
        "\n",
        "def dfs(current_sum, path):\n",
        "    global count\n",
        "\n",
        "    # 가지치기: 목표 초과 → 중단\n",
        "    if current_sum > target:\n",
        "        return\n",
        "\n",
        "    # 정답 조건: 정확히 target에 도달\n",
        "    if current_sum == target:\n",
        "        count += 1\n",
        "        print(f\"경로 {count}: {path}\")\n",
        "        return\n",
        "\n",
        "    # 분기: 각 숫자를 하나씩 시도\n",
        "    for num in numbers:\n",
        "        dfs(current_sum + num, path + [num])\n",
        "\n",
        "# 시작: 합 0, 경로는 빈 리스트\n",
        "dfs(0, [])\n",
        "print(f\"\\n총 방법의 수: {count}\")\n"
      ],
      "metadata": {
        "colab": {
          "base_uri": "https://localhost:8080/"
        },
        "id": "eSvh5uTWexjw",
        "outputId": "f6817fdd-d5f5-40cf-f824-942aed9973fd"
      },
      "execution_count": null,
      "outputs": [
        {
          "output_type": "stream",
          "name": "stdout",
          "text": [
            "경로 1: [1, 1, 1, 1, 1]\n",
            "경로 2: [1, 1, 1, 2]\n",
            "경로 3: [1, 1, 2, 1]\n",
            "경로 4: [1, 1, 3]\n",
            "경로 5: [1, 2, 1, 1]\n",
            "경로 6: [1, 2, 2]\n",
            "경로 7: [1, 3, 1]\n",
            "경로 8: [2, 1, 1, 1]\n",
            "경로 9: [2, 1, 2]\n",
            "경로 10: [2, 2, 1]\n",
            "경로 11: [2, 3]\n",
            "경로 12: [3, 1, 1]\n",
            "경로 13: [3, 2]\n",
            "\n",
            "총 방법의 수: 13\n"
          ]
        }
      ]
    },
    {
      "cell_type": "markdown",
      "source": [
        "### (6)탐욕법(greedy algorithm) = 욕심쟁이 알고리즘\n",
        "* 문제를 해결할 때, 매 단계에서 가장 좋아 보이는 선택(즉, 최적의 선택)을 하는 알고리즘\n",
        "* 전체 상태 공간을 모두 탐색하지 않고, 항상 현재 상태에서 가장 유리한 선택만 고려함\n",
        "* 이 과정에서 다른 선택지나 경로는 과감히 배제됨 → 상태 공간 일부를 건너뜀\n",
        "* 알고리즘이 간단하고 빠르지만, 항상 최적의 해를 보장하지는 않음\n",
        "* 탐욕법과 관련된 알고리즘\n",
        "  * 다익스트라 알고리즘\n",
        "    * 단일 출발점에서 다른 모든 정점으로의 최단 경로를 찾는 알고리즘\n",
        "    * 시작 정점에서부터 가까운 정점부터 하나씩 방문하며, 거리를 갱신해 나감\n",
        "    * 항상 현재까지 방문하지 않은 정점 중에서 가장 가까운 정점을 선택\n",
        "    * 사용 예시 : 네비게이션 경로 탐색\n",
        "  * 허프만 알고리즘\n",
        "    * 데이터 압축에서 사용되는 알고리즘으로, 가장 낮은 빈도로 나타나는 문자부터 차례대로 두 개씩 묶어 나가며 새로운 이진트리를 구성하는 알고리즘\n",
        "<br><br>\n",
        "<img src='https://drive.google.com/uc?id=1-qD63wNbAUbdws4PiRoBA7n_DMBKOyNF' width=400>\n",
        "<img src='https://drive.google.com/uc?id=1TDR9shCtr68FM8yqVfjPRDCpba-79DH8' width=450>\n",
        "<br><br>\n",
        "▲ 루트 노드로부터 단말 노드로 이동할 때 이동 경로에 있는 노드 합의 최댓값 구하기"
      ],
      "metadata": {
        "id": "HIiKwxf6hnNN"
      }
    },
    {
      "cell_type": "code",
      "source": [],
      "metadata": {
        "id": "A8t2mnSJ7e8X"
      },
      "execution_count": null,
      "outputs": []
    },
    {
      "cell_type": "markdown",
      "source": [
        "<img src='https://drive.google.com/uc?id=12lscEohVLqxerr-PA9Xp56aHHgDXrKAm' width=800>"
      ],
      "metadata": {
        "id": "yse9G09y5OwC"
      }
    },
    {
      "cell_type": "code",
      "source": [],
      "metadata": {
        "id": "2-U2SvEi7f73"
      },
      "execution_count": null,
      "outputs": []
    },
    {
      "cell_type": "markdown",
      "source": [
        "#### 최소 동전의 개수 구하기\n",
        "* 현재 사용할 수 있는 동전은 10원, 50원, 100원, 500원으로 구성되어 있다. n원을 지불할 때 최소 동전의 개수를 구해 보자.\n",
        "1.   전체 탐색\n",
        "  * 10원, 50원, 100원, 500원 중 하나를 선택한 후 다시 동전 하나를 선택하는 과정을 거치면, 선택한 동전으로 n원을 만들 수 있다.\n",
        "  * n원이 만들어지면 동전의 개수를 비교하여 최소 개수를 저장하고, n원을 초과하면 백트랙하는 방법으로 최소 동전 개수를 구한다.\n",
        "<br>\n",
        "<img src='https://drive.google.com/uc?id=1PyHNKjxWIKVYkuL4Ma4d6I485oDppK1P' width=800>\n",
        "<br><br>\n",
        "2.   분기 한정법\n",
        "  * k개의 동전으로 n원을 만드는 방법을 찾았을 경우<br>\n",
        "  더 이상 k개 이상을 동전으로 n원을 만드는 방법을 탐색하지 않으면서 계산량을 줄일 수 있다.\n",
        "<br><br>\n",
        "<img src='https://drive.google.com/uc?id=16LgwB0iwFa8Ysx4MlM4xH-keyNWeYfSR' width=800>\n",
        "<br><br>\n",
        "3.   탐욕법\n",
        "  * 가장 가치가 높은 동전부터 동전의 가치를 내림차순으로 정확하게 n원을 초과하지 않도록 동전을 내준다.\n",
        "<br><br>\n",
        "<img src='https://drive.google.com/uc?id=14slJVCkEzn_cXcnu5bqejpK399aayOPw' width=800>\n",
        "\n",
        "\n"
      ],
      "metadata": {
        "id": "UZKXdu4O5XER"
      }
    },
    {
      "cell_type": "code",
      "source": [
        "# 최소 동전의 개수 구하기(전체 탐색)\n",
        "ans = 9999999999            # 조건을 만족하는 경우 중 가장 적게 쓴 동전 개수를 저장하는 전역 변수\n",
        "coin =[500, 100, 50, 10]    # 사용 가능한 동전 종류 (큰 것부터)\n",
        "def f(won,d):               # (현재까지 사용한 동전들의 합, 현재까지 사용한 동전의 개수)\n",
        "  global ans\n",
        "  if won > n:               # 금액을 초과하면 종료\n",
        "    return\n",
        "  if won == n:              # 정확히 맞게 지불한 경우\n",
        "    ans = min(d,ans)        # 지금까지 사용한 동전 수(d)와 기존 ans 중 더 작은 값 저장\n",
        "    return\n",
        "\n",
        "  for i in range(4):        # 4종류의 동전을 모두 시도\n",
        "    f(won+coin[i], d+1)     # 해당 동전을 추가하고 동전 개수도 +1\n",
        "  return\n",
        "\n",
        "n=int(input('지불할 금액을 입력하세요: '))\n",
        "f(0,0)\n",
        "print(f'최소동전의 개수 : {ans}개')\n",
        "\n",
        "# 시간복잡도 O(2^n)"
      ],
      "metadata": {
        "id": "T2o1S3yi9FpJ",
        "colab": {
          "base_uri": "https://localhost:8080/",
          "height": 384
        },
        "outputId": "066f9c85-2e44-42bb-f7d6-b69e9fec6807"
      },
      "execution_count": null,
      "outputs": [
        {
          "name": "stdout",
          "output_type": "stream",
          "text": [
            "지불할 금액을 입력하세요: 560\n"
          ]
        },
        {
          "output_type": "error",
          "ename": "KeyboardInterrupt",
          "evalue": "",
          "traceback": [
            "\u001b[0;31m---------------------------------------------------------------------------\u001b[0m",
            "\u001b[0;31mKeyboardInterrupt\u001b[0m                         Traceback (most recent call last)",
            "\u001b[0;32m<ipython-input-22-2033910358>\u001b[0m in \u001b[0;36m<cell line: 0>\u001b[0;34m()\u001b[0m\n\u001b[1;32m     15\u001b[0m \u001b[0;34m\u001b[0m\u001b[0m\n\u001b[1;32m     16\u001b[0m \u001b[0mn\u001b[0m\u001b[0;34m=\u001b[0m\u001b[0mint\u001b[0m\u001b[0;34m(\u001b[0m\u001b[0minput\u001b[0m\u001b[0;34m(\u001b[0m\u001b[0;34m'지불할 금액을 입력하세요: '\u001b[0m\u001b[0;34m)\u001b[0m\u001b[0;34m)\u001b[0m\u001b[0;34m\u001b[0m\u001b[0;34m\u001b[0m\u001b[0m\n\u001b[0;32m---> 17\u001b[0;31m \u001b[0mf\u001b[0m\u001b[0;34m(\u001b[0m\u001b[0;36m0\u001b[0m\u001b[0;34m,\u001b[0m\u001b[0;36m0\u001b[0m\u001b[0;34m)\u001b[0m\u001b[0;34m\u001b[0m\u001b[0;34m\u001b[0m\u001b[0m\n\u001b[0m\u001b[1;32m     18\u001b[0m \u001b[0mprint\u001b[0m\u001b[0;34m(\u001b[0m\u001b[0;34mf'최소동전의 개수 : {ans}개'\u001b[0m\u001b[0;34m)\u001b[0m\u001b[0;34m\u001b[0m\u001b[0;34m\u001b[0m\u001b[0m\n\u001b[1;32m     19\u001b[0m \u001b[0;34m\u001b[0m\u001b[0m\n",
            "\u001b[0;32m<ipython-input-22-2033910358>\u001b[0m in \u001b[0;36mf\u001b[0;34m(won, d)\u001b[0m\n\u001b[1;32m     11\u001b[0m \u001b[0;34m\u001b[0m\u001b[0m\n\u001b[1;32m     12\u001b[0m   \u001b[0;32mfor\u001b[0m \u001b[0mi\u001b[0m \u001b[0;32min\u001b[0m \u001b[0mrange\u001b[0m\u001b[0;34m(\u001b[0m\u001b[0;36m4\u001b[0m\u001b[0;34m)\u001b[0m\u001b[0;34m:\u001b[0m        \u001b[0;31m# 4종류의 동전을 모두 시도\u001b[0m\u001b[0;34m\u001b[0m\u001b[0;34m\u001b[0m\u001b[0m\n\u001b[0;32m---> 13\u001b[0;31m     \u001b[0mf\u001b[0m\u001b[0;34m(\u001b[0m\u001b[0mwon\u001b[0m\u001b[0;34m+\u001b[0m\u001b[0mcoin\u001b[0m\u001b[0;34m[\u001b[0m\u001b[0mi\u001b[0m\u001b[0;34m]\u001b[0m\u001b[0;34m,\u001b[0m \u001b[0md\u001b[0m\u001b[0;34m+\u001b[0m\u001b[0;36m1\u001b[0m\u001b[0;34m)\u001b[0m     \u001b[0;31m# 해당 동전을 추가하고 동전 개수도 +1\u001b[0m\u001b[0;34m\u001b[0m\u001b[0;34m\u001b[0m\u001b[0m\n\u001b[0m\u001b[1;32m     14\u001b[0m   \u001b[0;32mreturn\u001b[0m\u001b[0;34m\u001b[0m\u001b[0;34m\u001b[0m\u001b[0m\n\u001b[1;32m     15\u001b[0m \u001b[0;34m\u001b[0m\u001b[0m\n",
            "\u001b[0;32m<ipython-input-22-2033910358>\u001b[0m in \u001b[0;36mf\u001b[0;34m(won, d)\u001b[0m\n\u001b[1;32m     11\u001b[0m \u001b[0;34m\u001b[0m\u001b[0m\n\u001b[1;32m     12\u001b[0m   \u001b[0;32mfor\u001b[0m \u001b[0mi\u001b[0m \u001b[0;32min\u001b[0m \u001b[0mrange\u001b[0m\u001b[0;34m(\u001b[0m\u001b[0;36m4\u001b[0m\u001b[0;34m)\u001b[0m\u001b[0;34m:\u001b[0m        \u001b[0;31m# 4종류의 동전을 모두 시도\u001b[0m\u001b[0;34m\u001b[0m\u001b[0;34m\u001b[0m\u001b[0m\n\u001b[0;32m---> 13\u001b[0;31m     \u001b[0mf\u001b[0m\u001b[0;34m(\u001b[0m\u001b[0mwon\u001b[0m\u001b[0;34m+\u001b[0m\u001b[0mcoin\u001b[0m\u001b[0;34m[\u001b[0m\u001b[0mi\u001b[0m\u001b[0;34m]\u001b[0m\u001b[0;34m,\u001b[0m \u001b[0md\u001b[0m\u001b[0;34m+\u001b[0m\u001b[0;36m1\u001b[0m\u001b[0;34m)\u001b[0m     \u001b[0;31m# 해당 동전을 추가하고 동전 개수도 +1\u001b[0m\u001b[0;34m\u001b[0m\u001b[0;34m\u001b[0m\u001b[0m\n\u001b[0m\u001b[1;32m     14\u001b[0m   \u001b[0;32mreturn\u001b[0m\u001b[0;34m\u001b[0m\u001b[0;34m\u001b[0m\u001b[0m\n\u001b[1;32m     15\u001b[0m \u001b[0;34m\u001b[0m\u001b[0m\n",
            "\u001b[0;32m<ipython-input-22-2033910358>\u001b[0m in \u001b[0;36mf\u001b[0;34m(won, d)\u001b[0m\n\u001b[1;32m     11\u001b[0m \u001b[0;34m\u001b[0m\u001b[0m\n\u001b[1;32m     12\u001b[0m   \u001b[0;32mfor\u001b[0m \u001b[0mi\u001b[0m \u001b[0;32min\u001b[0m \u001b[0mrange\u001b[0m\u001b[0;34m(\u001b[0m\u001b[0;36m4\u001b[0m\u001b[0;34m)\u001b[0m\u001b[0;34m:\u001b[0m        \u001b[0;31m# 4종류의 동전을 모두 시도\u001b[0m\u001b[0;34m\u001b[0m\u001b[0;34m\u001b[0m\u001b[0m\n\u001b[0;32m---> 13\u001b[0;31m     \u001b[0mf\u001b[0m\u001b[0;34m(\u001b[0m\u001b[0mwon\u001b[0m\u001b[0;34m+\u001b[0m\u001b[0mcoin\u001b[0m\u001b[0;34m[\u001b[0m\u001b[0mi\u001b[0m\u001b[0;34m]\u001b[0m\u001b[0;34m,\u001b[0m \u001b[0md\u001b[0m\u001b[0;34m+\u001b[0m\u001b[0;36m1\u001b[0m\u001b[0;34m)\u001b[0m     \u001b[0;31m# 해당 동전을 추가하고 동전 개수도 +1\u001b[0m\u001b[0;34m\u001b[0m\u001b[0;34m\u001b[0m\u001b[0m\n\u001b[0m\u001b[1;32m     14\u001b[0m   \u001b[0;32mreturn\u001b[0m\u001b[0;34m\u001b[0m\u001b[0;34m\u001b[0m\u001b[0m\n\u001b[1;32m     15\u001b[0m \u001b[0;34m\u001b[0m\u001b[0m\n",
            "\u001b[0;32m<ipython-input-22-2033910358>\u001b[0m in \u001b[0;36mf\u001b[0;34m(won, d)\u001b[0m\n\u001b[1;32m     11\u001b[0m \u001b[0;34m\u001b[0m\u001b[0m\n\u001b[1;32m     12\u001b[0m   \u001b[0;32mfor\u001b[0m \u001b[0mi\u001b[0m \u001b[0;32min\u001b[0m \u001b[0mrange\u001b[0m\u001b[0;34m(\u001b[0m\u001b[0;36m4\u001b[0m\u001b[0;34m)\u001b[0m\u001b[0;34m:\u001b[0m        \u001b[0;31m# 4종류의 동전을 모두 시도\u001b[0m\u001b[0;34m\u001b[0m\u001b[0;34m\u001b[0m\u001b[0m\n\u001b[0;32m---> 13\u001b[0;31m     \u001b[0mf\u001b[0m\u001b[0;34m(\u001b[0m\u001b[0mwon\u001b[0m\u001b[0;34m+\u001b[0m\u001b[0mcoin\u001b[0m\u001b[0;34m[\u001b[0m\u001b[0mi\u001b[0m\u001b[0;34m]\u001b[0m\u001b[0;34m,\u001b[0m \u001b[0md\u001b[0m\u001b[0;34m+\u001b[0m\u001b[0;36m1\u001b[0m\u001b[0;34m)\u001b[0m     \u001b[0;31m# 해당 동전을 추가하고 동전 개수도 +1\u001b[0m\u001b[0;34m\u001b[0m\u001b[0;34m\u001b[0m\u001b[0m\n\u001b[0m\u001b[1;32m     14\u001b[0m   \u001b[0;32mreturn\u001b[0m\u001b[0;34m\u001b[0m\u001b[0;34m\u001b[0m\u001b[0m\n\u001b[1;32m     15\u001b[0m \u001b[0;34m\u001b[0m\u001b[0m\n",
            "\u001b[0;32m<ipython-input-22-2033910358>\u001b[0m in \u001b[0;36mf\u001b[0;34m(won, d)\u001b[0m\n\u001b[1;32m     11\u001b[0m \u001b[0;34m\u001b[0m\u001b[0m\n\u001b[1;32m     12\u001b[0m   \u001b[0;32mfor\u001b[0m \u001b[0mi\u001b[0m \u001b[0;32min\u001b[0m \u001b[0mrange\u001b[0m\u001b[0;34m(\u001b[0m\u001b[0;36m4\u001b[0m\u001b[0;34m)\u001b[0m\u001b[0;34m:\u001b[0m        \u001b[0;31m# 4종류의 동전을 모두 시도\u001b[0m\u001b[0;34m\u001b[0m\u001b[0;34m\u001b[0m\u001b[0m\n\u001b[0;32m---> 13\u001b[0;31m     \u001b[0mf\u001b[0m\u001b[0;34m(\u001b[0m\u001b[0mwon\u001b[0m\u001b[0;34m+\u001b[0m\u001b[0mcoin\u001b[0m\u001b[0;34m[\u001b[0m\u001b[0mi\u001b[0m\u001b[0;34m]\u001b[0m\u001b[0;34m,\u001b[0m \u001b[0md\u001b[0m\u001b[0;34m+\u001b[0m\u001b[0;36m1\u001b[0m\u001b[0;34m)\u001b[0m     \u001b[0;31m# 해당 동전을 추가하고 동전 개수도 +1\u001b[0m\u001b[0;34m\u001b[0m\u001b[0;34m\u001b[0m\u001b[0m\n\u001b[0m\u001b[1;32m     14\u001b[0m   \u001b[0;32mreturn\u001b[0m\u001b[0;34m\u001b[0m\u001b[0;34m\u001b[0m\u001b[0m\n\u001b[1;32m     15\u001b[0m \u001b[0;34m\u001b[0m\u001b[0m\n",
            "\u001b[0;32m<ipython-input-22-2033910358>\u001b[0m in \u001b[0;36mf\u001b[0;34m(won, d)\u001b[0m\n\u001b[1;32m     11\u001b[0m \u001b[0;34m\u001b[0m\u001b[0m\n\u001b[1;32m     12\u001b[0m   \u001b[0;32mfor\u001b[0m \u001b[0mi\u001b[0m \u001b[0;32min\u001b[0m \u001b[0mrange\u001b[0m\u001b[0;34m(\u001b[0m\u001b[0;36m4\u001b[0m\u001b[0;34m)\u001b[0m\u001b[0;34m:\u001b[0m        \u001b[0;31m# 4종류의 동전을 모두 시도\u001b[0m\u001b[0;34m\u001b[0m\u001b[0;34m\u001b[0m\u001b[0m\n\u001b[0;32m---> 13\u001b[0;31m     \u001b[0mf\u001b[0m\u001b[0;34m(\u001b[0m\u001b[0mwon\u001b[0m\u001b[0;34m+\u001b[0m\u001b[0mcoin\u001b[0m\u001b[0;34m[\u001b[0m\u001b[0mi\u001b[0m\u001b[0;34m]\u001b[0m\u001b[0;34m,\u001b[0m \u001b[0md\u001b[0m\u001b[0;34m+\u001b[0m\u001b[0;36m1\u001b[0m\u001b[0;34m)\u001b[0m     \u001b[0;31m# 해당 동전을 추가하고 동전 개수도 +1\u001b[0m\u001b[0;34m\u001b[0m\u001b[0;34m\u001b[0m\u001b[0m\n\u001b[0m\u001b[1;32m     14\u001b[0m   \u001b[0;32mreturn\u001b[0m\u001b[0;34m\u001b[0m\u001b[0;34m\u001b[0m\u001b[0m\n\u001b[1;32m     15\u001b[0m \u001b[0;34m\u001b[0m\u001b[0m\n",
            "\u001b[0;32m<ipython-input-22-2033910358>\u001b[0m in \u001b[0;36mf\u001b[0;34m(won, d)\u001b[0m\n\u001b[1;32m     11\u001b[0m \u001b[0;34m\u001b[0m\u001b[0m\n\u001b[1;32m     12\u001b[0m   \u001b[0;32mfor\u001b[0m \u001b[0mi\u001b[0m \u001b[0;32min\u001b[0m \u001b[0mrange\u001b[0m\u001b[0;34m(\u001b[0m\u001b[0;36m4\u001b[0m\u001b[0;34m)\u001b[0m\u001b[0;34m:\u001b[0m        \u001b[0;31m# 4종류의 동전을 모두 시도\u001b[0m\u001b[0;34m\u001b[0m\u001b[0;34m\u001b[0m\u001b[0m\n\u001b[0;32m---> 13\u001b[0;31m     \u001b[0mf\u001b[0m\u001b[0;34m(\u001b[0m\u001b[0mwon\u001b[0m\u001b[0;34m+\u001b[0m\u001b[0mcoin\u001b[0m\u001b[0;34m[\u001b[0m\u001b[0mi\u001b[0m\u001b[0;34m]\u001b[0m\u001b[0;34m,\u001b[0m \u001b[0md\u001b[0m\u001b[0;34m+\u001b[0m\u001b[0;36m1\u001b[0m\u001b[0;34m)\u001b[0m     \u001b[0;31m# 해당 동전을 추가하고 동전 개수도 +1\u001b[0m\u001b[0;34m\u001b[0m\u001b[0;34m\u001b[0m\u001b[0m\n\u001b[0m\u001b[1;32m     14\u001b[0m   \u001b[0;32mreturn\u001b[0m\u001b[0;34m\u001b[0m\u001b[0;34m\u001b[0m\u001b[0m\n\u001b[1;32m     15\u001b[0m \u001b[0;34m\u001b[0m\u001b[0m\n",
            "\u001b[0;32m<ipython-input-22-2033910358>\u001b[0m in \u001b[0;36mf\u001b[0;34m(won, d)\u001b[0m\n\u001b[1;32m     11\u001b[0m \u001b[0;34m\u001b[0m\u001b[0m\n\u001b[1;32m     12\u001b[0m   \u001b[0;32mfor\u001b[0m \u001b[0mi\u001b[0m \u001b[0;32min\u001b[0m \u001b[0mrange\u001b[0m\u001b[0;34m(\u001b[0m\u001b[0;36m4\u001b[0m\u001b[0;34m)\u001b[0m\u001b[0;34m:\u001b[0m        \u001b[0;31m# 4종류의 동전을 모두 시도\u001b[0m\u001b[0;34m\u001b[0m\u001b[0;34m\u001b[0m\u001b[0m\n\u001b[0;32m---> 13\u001b[0;31m     \u001b[0mf\u001b[0m\u001b[0;34m(\u001b[0m\u001b[0mwon\u001b[0m\u001b[0;34m+\u001b[0m\u001b[0mcoin\u001b[0m\u001b[0;34m[\u001b[0m\u001b[0mi\u001b[0m\u001b[0;34m]\u001b[0m\u001b[0;34m,\u001b[0m \u001b[0md\u001b[0m\u001b[0;34m+\u001b[0m\u001b[0;36m1\u001b[0m\u001b[0;34m)\u001b[0m     \u001b[0;31m# 해당 동전을 추가하고 동전 개수도 +1\u001b[0m\u001b[0;34m\u001b[0m\u001b[0;34m\u001b[0m\u001b[0m\n\u001b[0m\u001b[1;32m     14\u001b[0m   \u001b[0;32mreturn\u001b[0m\u001b[0;34m\u001b[0m\u001b[0;34m\u001b[0m\u001b[0m\n\u001b[1;32m     15\u001b[0m \u001b[0;34m\u001b[0m\u001b[0m\n",
            "\u001b[0;32m<ipython-input-22-2033910358>\u001b[0m in \u001b[0;36mf\u001b[0;34m(won, d)\u001b[0m\n\u001b[1;32m     11\u001b[0m \u001b[0;34m\u001b[0m\u001b[0m\n\u001b[1;32m     12\u001b[0m   \u001b[0;32mfor\u001b[0m \u001b[0mi\u001b[0m \u001b[0;32min\u001b[0m \u001b[0mrange\u001b[0m\u001b[0;34m(\u001b[0m\u001b[0;36m4\u001b[0m\u001b[0;34m)\u001b[0m\u001b[0;34m:\u001b[0m        \u001b[0;31m# 4종류의 동전을 모두 시도\u001b[0m\u001b[0;34m\u001b[0m\u001b[0;34m\u001b[0m\u001b[0m\n\u001b[0;32m---> 13\u001b[0;31m     \u001b[0mf\u001b[0m\u001b[0;34m(\u001b[0m\u001b[0mwon\u001b[0m\u001b[0;34m+\u001b[0m\u001b[0mcoin\u001b[0m\u001b[0;34m[\u001b[0m\u001b[0mi\u001b[0m\u001b[0;34m]\u001b[0m\u001b[0;34m,\u001b[0m \u001b[0md\u001b[0m\u001b[0;34m+\u001b[0m\u001b[0;36m1\u001b[0m\u001b[0;34m)\u001b[0m     \u001b[0;31m# 해당 동전을 추가하고 동전 개수도 +1\u001b[0m\u001b[0;34m\u001b[0m\u001b[0;34m\u001b[0m\u001b[0m\n\u001b[0m\u001b[1;32m     14\u001b[0m   \u001b[0;32mreturn\u001b[0m\u001b[0;34m\u001b[0m\u001b[0;34m\u001b[0m\u001b[0m\n\u001b[1;32m     15\u001b[0m \u001b[0;34m\u001b[0m\u001b[0m\n",
            "\u001b[0;32m<ipython-input-22-2033910358>\u001b[0m in \u001b[0;36mf\u001b[0;34m(won, d)\u001b[0m\n\u001b[1;32m     11\u001b[0m \u001b[0;34m\u001b[0m\u001b[0m\n\u001b[1;32m     12\u001b[0m   \u001b[0;32mfor\u001b[0m \u001b[0mi\u001b[0m \u001b[0;32min\u001b[0m \u001b[0mrange\u001b[0m\u001b[0;34m(\u001b[0m\u001b[0;36m4\u001b[0m\u001b[0;34m)\u001b[0m\u001b[0;34m:\u001b[0m        \u001b[0;31m# 4종류의 동전을 모두 시도\u001b[0m\u001b[0;34m\u001b[0m\u001b[0;34m\u001b[0m\u001b[0m\n\u001b[0;32m---> 13\u001b[0;31m     \u001b[0mf\u001b[0m\u001b[0;34m(\u001b[0m\u001b[0mwon\u001b[0m\u001b[0;34m+\u001b[0m\u001b[0mcoin\u001b[0m\u001b[0;34m[\u001b[0m\u001b[0mi\u001b[0m\u001b[0;34m]\u001b[0m\u001b[0;34m,\u001b[0m \u001b[0md\u001b[0m\u001b[0;34m+\u001b[0m\u001b[0;36m1\u001b[0m\u001b[0;34m)\u001b[0m     \u001b[0;31m# 해당 동전을 추가하고 동전 개수도 +1\u001b[0m\u001b[0;34m\u001b[0m\u001b[0;34m\u001b[0m\u001b[0m\n\u001b[0m\u001b[1;32m     14\u001b[0m   \u001b[0;32mreturn\u001b[0m\u001b[0;34m\u001b[0m\u001b[0;34m\u001b[0m\u001b[0m\n\u001b[1;32m     15\u001b[0m \u001b[0;34m\u001b[0m\u001b[0m\n",
            "\u001b[0;32m<ipython-input-22-2033910358>\u001b[0m in \u001b[0;36mf\u001b[0;34m(won, d)\u001b[0m\n\u001b[1;32m     11\u001b[0m \u001b[0;34m\u001b[0m\u001b[0m\n\u001b[1;32m     12\u001b[0m   \u001b[0;32mfor\u001b[0m \u001b[0mi\u001b[0m \u001b[0;32min\u001b[0m \u001b[0mrange\u001b[0m\u001b[0;34m(\u001b[0m\u001b[0;36m4\u001b[0m\u001b[0;34m)\u001b[0m\u001b[0;34m:\u001b[0m        \u001b[0;31m# 4종류의 동전을 모두 시도\u001b[0m\u001b[0;34m\u001b[0m\u001b[0;34m\u001b[0m\u001b[0m\n\u001b[0;32m---> 13\u001b[0;31m     \u001b[0mf\u001b[0m\u001b[0;34m(\u001b[0m\u001b[0mwon\u001b[0m\u001b[0;34m+\u001b[0m\u001b[0mcoin\u001b[0m\u001b[0;34m[\u001b[0m\u001b[0mi\u001b[0m\u001b[0;34m]\u001b[0m\u001b[0;34m,\u001b[0m \u001b[0md\u001b[0m\u001b[0;34m+\u001b[0m\u001b[0;36m1\u001b[0m\u001b[0;34m)\u001b[0m     \u001b[0;31m# 해당 동전을 추가하고 동전 개수도 +1\u001b[0m\u001b[0;34m\u001b[0m\u001b[0;34m\u001b[0m\u001b[0m\n\u001b[0m\u001b[1;32m     14\u001b[0m   \u001b[0;32mreturn\u001b[0m\u001b[0;34m\u001b[0m\u001b[0;34m\u001b[0m\u001b[0m\n\u001b[1;32m     15\u001b[0m \u001b[0;34m\u001b[0m\u001b[0m\n",
            "\u001b[0;32m<ipython-input-22-2033910358>\u001b[0m in \u001b[0;36mf\u001b[0;34m(won, d)\u001b[0m\n\u001b[1;32m     11\u001b[0m \u001b[0;34m\u001b[0m\u001b[0m\n\u001b[1;32m     12\u001b[0m   \u001b[0;32mfor\u001b[0m \u001b[0mi\u001b[0m \u001b[0;32min\u001b[0m \u001b[0mrange\u001b[0m\u001b[0;34m(\u001b[0m\u001b[0;36m4\u001b[0m\u001b[0;34m)\u001b[0m\u001b[0;34m:\u001b[0m        \u001b[0;31m# 4종류의 동전을 모두 시도\u001b[0m\u001b[0;34m\u001b[0m\u001b[0;34m\u001b[0m\u001b[0m\n\u001b[0;32m---> 13\u001b[0;31m     \u001b[0mf\u001b[0m\u001b[0;34m(\u001b[0m\u001b[0mwon\u001b[0m\u001b[0;34m+\u001b[0m\u001b[0mcoin\u001b[0m\u001b[0;34m[\u001b[0m\u001b[0mi\u001b[0m\u001b[0;34m]\u001b[0m\u001b[0;34m,\u001b[0m \u001b[0md\u001b[0m\u001b[0;34m+\u001b[0m\u001b[0;36m1\u001b[0m\u001b[0;34m)\u001b[0m     \u001b[0;31m# 해당 동전을 추가하고 동전 개수도 +1\u001b[0m\u001b[0;34m\u001b[0m\u001b[0;34m\u001b[0m\u001b[0m\n\u001b[0m\u001b[1;32m     14\u001b[0m   \u001b[0;32mreturn\u001b[0m\u001b[0;34m\u001b[0m\u001b[0;34m\u001b[0m\u001b[0m\n\u001b[1;32m     15\u001b[0m \u001b[0;34m\u001b[0m\u001b[0m\n",
            "\u001b[0;32m<ipython-input-22-2033910358>\u001b[0m in \u001b[0;36mf\u001b[0;34m(won, d)\u001b[0m\n\u001b[1;32m     11\u001b[0m \u001b[0;34m\u001b[0m\u001b[0m\n\u001b[1;32m     12\u001b[0m   \u001b[0;32mfor\u001b[0m \u001b[0mi\u001b[0m \u001b[0;32min\u001b[0m \u001b[0mrange\u001b[0m\u001b[0;34m(\u001b[0m\u001b[0;36m4\u001b[0m\u001b[0;34m)\u001b[0m\u001b[0;34m:\u001b[0m        \u001b[0;31m# 4종류의 동전을 모두 시도\u001b[0m\u001b[0;34m\u001b[0m\u001b[0;34m\u001b[0m\u001b[0m\n\u001b[0;32m---> 13\u001b[0;31m     \u001b[0mf\u001b[0m\u001b[0;34m(\u001b[0m\u001b[0mwon\u001b[0m\u001b[0;34m+\u001b[0m\u001b[0mcoin\u001b[0m\u001b[0;34m[\u001b[0m\u001b[0mi\u001b[0m\u001b[0;34m]\u001b[0m\u001b[0;34m,\u001b[0m \u001b[0md\u001b[0m\u001b[0;34m+\u001b[0m\u001b[0;36m1\u001b[0m\u001b[0;34m)\u001b[0m     \u001b[0;31m# 해당 동전을 추가하고 동전 개수도 +1\u001b[0m\u001b[0;34m\u001b[0m\u001b[0;34m\u001b[0m\u001b[0m\n\u001b[0m\u001b[1;32m     14\u001b[0m   \u001b[0;32mreturn\u001b[0m\u001b[0;34m\u001b[0m\u001b[0;34m\u001b[0m\u001b[0m\n\u001b[1;32m     15\u001b[0m \u001b[0;34m\u001b[0m\u001b[0m\n",
            "\u001b[0;32m<ipython-input-22-2033910358>\u001b[0m in \u001b[0;36mf\u001b[0;34m(won, d)\u001b[0m\n\u001b[1;32m     11\u001b[0m \u001b[0;34m\u001b[0m\u001b[0m\n\u001b[1;32m     12\u001b[0m   \u001b[0;32mfor\u001b[0m \u001b[0mi\u001b[0m \u001b[0;32min\u001b[0m \u001b[0mrange\u001b[0m\u001b[0;34m(\u001b[0m\u001b[0;36m4\u001b[0m\u001b[0;34m)\u001b[0m\u001b[0;34m:\u001b[0m        \u001b[0;31m# 4종류의 동전을 모두 시도\u001b[0m\u001b[0;34m\u001b[0m\u001b[0;34m\u001b[0m\u001b[0m\n\u001b[0;32m---> 13\u001b[0;31m     \u001b[0mf\u001b[0m\u001b[0;34m(\u001b[0m\u001b[0mwon\u001b[0m\u001b[0;34m+\u001b[0m\u001b[0mcoin\u001b[0m\u001b[0;34m[\u001b[0m\u001b[0mi\u001b[0m\u001b[0;34m]\u001b[0m\u001b[0;34m,\u001b[0m \u001b[0md\u001b[0m\u001b[0;34m+\u001b[0m\u001b[0;36m1\u001b[0m\u001b[0;34m)\u001b[0m     \u001b[0;31m# 해당 동전을 추가하고 동전 개수도 +1\u001b[0m\u001b[0;34m\u001b[0m\u001b[0;34m\u001b[0m\u001b[0m\n\u001b[0m\u001b[1;32m     14\u001b[0m   \u001b[0;32mreturn\u001b[0m\u001b[0;34m\u001b[0m\u001b[0;34m\u001b[0m\u001b[0m\n\u001b[1;32m     15\u001b[0m \u001b[0;34m\u001b[0m\u001b[0m\n",
            "\u001b[0;32m<ipython-input-22-2033910358>\u001b[0m in \u001b[0;36mf\u001b[0;34m(won, d)\u001b[0m\n\u001b[1;32m     11\u001b[0m \u001b[0;34m\u001b[0m\u001b[0m\n\u001b[1;32m     12\u001b[0m   \u001b[0;32mfor\u001b[0m \u001b[0mi\u001b[0m \u001b[0;32min\u001b[0m \u001b[0mrange\u001b[0m\u001b[0;34m(\u001b[0m\u001b[0;36m4\u001b[0m\u001b[0;34m)\u001b[0m\u001b[0;34m:\u001b[0m        \u001b[0;31m# 4종류의 동전을 모두 시도\u001b[0m\u001b[0;34m\u001b[0m\u001b[0;34m\u001b[0m\u001b[0m\n\u001b[0;32m---> 13\u001b[0;31m     \u001b[0mf\u001b[0m\u001b[0;34m(\u001b[0m\u001b[0mwon\u001b[0m\u001b[0;34m+\u001b[0m\u001b[0mcoin\u001b[0m\u001b[0;34m[\u001b[0m\u001b[0mi\u001b[0m\u001b[0;34m]\u001b[0m\u001b[0;34m,\u001b[0m \u001b[0md\u001b[0m\u001b[0;34m+\u001b[0m\u001b[0;36m1\u001b[0m\u001b[0;34m)\u001b[0m     \u001b[0;31m# 해당 동전을 추가하고 동전 개수도 +1\u001b[0m\u001b[0;34m\u001b[0m\u001b[0;34m\u001b[0m\u001b[0m\n\u001b[0m\u001b[1;32m     14\u001b[0m   \u001b[0;32mreturn\u001b[0m\u001b[0;34m\u001b[0m\u001b[0;34m\u001b[0m\u001b[0m\n\u001b[1;32m     15\u001b[0m \u001b[0;34m\u001b[0m\u001b[0m\n",
            "\u001b[0;32m<ipython-input-22-2033910358>\u001b[0m in \u001b[0;36mf\u001b[0;34m(won, d)\u001b[0m\n\u001b[1;32m     11\u001b[0m \u001b[0;34m\u001b[0m\u001b[0m\n\u001b[1;32m     12\u001b[0m   \u001b[0;32mfor\u001b[0m \u001b[0mi\u001b[0m \u001b[0;32min\u001b[0m \u001b[0mrange\u001b[0m\u001b[0;34m(\u001b[0m\u001b[0;36m4\u001b[0m\u001b[0;34m)\u001b[0m\u001b[0;34m:\u001b[0m        \u001b[0;31m# 4종류의 동전을 모두 시도\u001b[0m\u001b[0;34m\u001b[0m\u001b[0;34m\u001b[0m\u001b[0m\n\u001b[0;32m---> 13\u001b[0;31m     \u001b[0mf\u001b[0m\u001b[0;34m(\u001b[0m\u001b[0mwon\u001b[0m\u001b[0;34m+\u001b[0m\u001b[0mcoin\u001b[0m\u001b[0;34m[\u001b[0m\u001b[0mi\u001b[0m\u001b[0;34m]\u001b[0m\u001b[0;34m,\u001b[0m \u001b[0md\u001b[0m\u001b[0;34m+\u001b[0m\u001b[0;36m1\u001b[0m\u001b[0;34m)\u001b[0m     \u001b[0;31m# 해당 동전을 추가하고 동전 개수도 +1\u001b[0m\u001b[0;34m\u001b[0m\u001b[0;34m\u001b[0m\u001b[0m\n\u001b[0m\u001b[1;32m     14\u001b[0m   \u001b[0;32mreturn\u001b[0m\u001b[0;34m\u001b[0m\u001b[0;34m\u001b[0m\u001b[0m\n\u001b[1;32m     15\u001b[0m \u001b[0;34m\u001b[0m\u001b[0m\n",
            "\u001b[0;32m<ipython-input-22-2033910358>\u001b[0m in \u001b[0;36mf\u001b[0;34m(won, d)\u001b[0m\n\u001b[1;32m     11\u001b[0m \u001b[0;34m\u001b[0m\u001b[0m\n\u001b[1;32m     12\u001b[0m   \u001b[0;32mfor\u001b[0m \u001b[0mi\u001b[0m \u001b[0;32min\u001b[0m \u001b[0mrange\u001b[0m\u001b[0;34m(\u001b[0m\u001b[0;36m4\u001b[0m\u001b[0;34m)\u001b[0m\u001b[0;34m:\u001b[0m        \u001b[0;31m# 4종류의 동전을 모두 시도\u001b[0m\u001b[0;34m\u001b[0m\u001b[0;34m\u001b[0m\u001b[0m\n\u001b[0;32m---> 13\u001b[0;31m     \u001b[0mf\u001b[0m\u001b[0;34m(\u001b[0m\u001b[0mwon\u001b[0m\u001b[0;34m+\u001b[0m\u001b[0mcoin\u001b[0m\u001b[0;34m[\u001b[0m\u001b[0mi\u001b[0m\u001b[0;34m]\u001b[0m\u001b[0;34m,\u001b[0m \u001b[0md\u001b[0m\u001b[0;34m+\u001b[0m\u001b[0;36m1\u001b[0m\u001b[0;34m)\u001b[0m     \u001b[0;31m# 해당 동전을 추가하고 동전 개수도 +1\u001b[0m\u001b[0;34m\u001b[0m\u001b[0;34m\u001b[0m\u001b[0m\n\u001b[0m\u001b[1;32m     14\u001b[0m   \u001b[0;32mreturn\u001b[0m\u001b[0;34m\u001b[0m\u001b[0;34m\u001b[0m\u001b[0m\n\u001b[1;32m     15\u001b[0m \u001b[0;34m\u001b[0m\u001b[0m\n",
            "\u001b[0;32m<ipython-input-22-2033910358>\u001b[0m in \u001b[0;36mf\u001b[0;34m(won, d)\u001b[0m\n\u001b[1;32m     11\u001b[0m \u001b[0;34m\u001b[0m\u001b[0m\n\u001b[1;32m     12\u001b[0m   \u001b[0;32mfor\u001b[0m \u001b[0mi\u001b[0m \u001b[0;32min\u001b[0m \u001b[0mrange\u001b[0m\u001b[0;34m(\u001b[0m\u001b[0;36m4\u001b[0m\u001b[0;34m)\u001b[0m\u001b[0;34m:\u001b[0m        \u001b[0;31m# 4종류의 동전을 모두 시도\u001b[0m\u001b[0;34m\u001b[0m\u001b[0;34m\u001b[0m\u001b[0m\n\u001b[0;32m---> 13\u001b[0;31m     \u001b[0mf\u001b[0m\u001b[0;34m(\u001b[0m\u001b[0mwon\u001b[0m\u001b[0;34m+\u001b[0m\u001b[0mcoin\u001b[0m\u001b[0;34m[\u001b[0m\u001b[0mi\u001b[0m\u001b[0;34m]\u001b[0m\u001b[0;34m,\u001b[0m \u001b[0md\u001b[0m\u001b[0;34m+\u001b[0m\u001b[0;36m1\u001b[0m\u001b[0;34m)\u001b[0m     \u001b[0;31m# 해당 동전을 추가하고 동전 개수도 +1\u001b[0m\u001b[0;34m\u001b[0m\u001b[0;34m\u001b[0m\u001b[0m\n\u001b[0m\u001b[1;32m     14\u001b[0m   \u001b[0;32mreturn\u001b[0m\u001b[0;34m\u001b[0m\u001b[0;34m\u001b[0m\u001b[0m\n\u001b[1;32m     15\u001b[0m \u001b[0;34m\u001b[0m\u001b[0m\n",
            "\u001b[0;32m<ipython-input-22-2033910358>\u001b[0m in \u001b[0;36mf\u001b[0;34m(won, d)\u001b[0m\n\u001b[1;32m     11\u001b[0m \u001b[0;34m\u001b[0m\u001b[0m\n\u001b[1;32m     12\u001b[0m   \u001b[0;32mfor\u001b[0m \u001b[0mi\u001b[0m \u001b[0;32min\u001b[0m \u001b[0mrange\u001b[0m\u001b[0;34m(\u001b[0m\u001b[0;36m4\u001b[0m\u001b[0;34m)\u001b[0m\u001b[0;34m:\u001b[0m        \u001b[0;31m# 4종류의 동전을 모두 시도\u001b[0m\u001b[0;34m\u001b[0m\u001b[0;34m\u001b[0m\u001b[0m\n\u001b[0;32m---> 13\u001b[0;31m     \u001b[0mf\u001b[0m\u001b[0;34m(\u001b[0m\u001b[0mwon\u001b[0m\u001b[0;34m+\u001b[0m\u001b[0mcoin\u001b[0m\u001b[0;34m[\u001b[0m\u001b[0mi\u001b[0m\u001b[0;34m]\u001b[0m\u001b[0;34m,\u001b[0m \u001b[0md\u001b[0m\u001b[0;34m+\u001b[0m\u001b[0;36m1\u001b[0m\u001b[0;34m)\u001b[0m     \u001b[0;31m# 해당 동전을 추가하고 동전 개수도 +1\u001b[0m\u001b[0;34m\u001b[0m\u001b[0;34m\u001b[0m\u001b[0m\n\u001b[0m\u001b[1;32m     14\u001b[0m   \u001b[0;32mreturn\u001b[0m\u001b[0;34m\u001b[0m\u001b[0;34m\u001b[0m\u001b[0m\n\u001b[1;32m     15\u001b[0m \u001b[0;34m\u001b[0m\u001b[0m\n",
            "\u001b[0;32m<ipython-input-22-2033910358>\u001b[0m in \u001b[0;36mf\u001b[0;34m(won, d)\u001b[0m\n\u001b[1;32m     11\u001b[0m \u001b[0;34m\u001b[0m\u001b[0m\n\u001b[1;32m     12\u001b[0m   \u001b[0;32mfor\u001b[0m \u001b[0mi\u001b[0m \u001b[0;32min\u001b[0m \u001b[0mrange\u001b[0m\u001b[0;34m(\u001b[0m\u001b[0;36m4\u001b[0m\u001b[0;34m)\u001b[0m\u001b[0;34m:\u001b[0m        \u001b[0;31m# 4종류의 동전을 모두 시도\u001b[0m\u001b[0;34m\u001b[0m\u001b[0;34m\u001b[0m\u001b[0m\n\u001b[0;32m---> 13\u001b[0;31m     \u001b[0mf\u001b[0m\u001b[0;34m(\u001b[0m\u001b[0mwon\u001b[0m\u001b[0;34m+\u001b[0m\u001b[0mcoin\u001b[0m\u001b[0;34m[\u001b[0m\u001b[0mi\u001b[0m\u001b[0;34m]\u001b[0m\u001b[0;34m,\u001b[0m \u001b[0md\u001b[0m\u001b[0;34m+\u001b[0m\u001b[0;36m1\u001b[0m\u001b[0;34m)\u001b[0m     \u001b[0;31m# 해당 동전을 추가하고 동전 개수도 +1\u001b[0m\u001b[0;34m\u001b[0m\u001b[0;34m\u001b[0m\u001b[0m\n\u001b[0m\u001b[1;32m     14\u001b[0m   \u001b[0;32mreturn\u001b[0m\u001b[0;34m\u001b[0m\u001b[0;34m\u001b[0m\u001b[0m\n\u001b[1;32m     15\u001b[0m \u001b[0;34m\u001b[0m\u001b[0m\n",
            "\u001b[0;32m<ipython-input-22-2033910358>\u001b[0m in \u001b[0;36mf\u001b[0;34m(won, d)\u001b[0m\n\u001b[1;32m     11\u001b[0m \u001b[0;34m\u001b[0m\u001b[0m\n\u001b[1;32m     12\u001b[0m   \u001b[0;32mfor\u001b[0m \u001b[0mi\u001b[0m \u001b[0;32min\u001b[0m \u001b[0mrange\u001b[0m\u001b[0;34m(\u001b[0m\u001b[0;36m4\u001b[0m\u001b[0;34m)\u001b[0m\u001b[0;34m:\u001b[0m        \u001b[0;31m# 4종류의 동전을 모두 시도\u001b[0m\u001b[0;34m\u001b[0m\u001b[0;34m\u001b[0m\u001b[0m\n\u001b[0;32m---> 13\u001b[0;31m     \u001b[0mf\u001b[0m\u001b[0;34m(\u001b[0m\u001b[0mwon\u001b[0m\u001b[0;34m+\u001b[0m\u001b[0mcoin\u001b[0m\u001b[0;34m[\u001b[0m\u001b[0mi\u001b[0m\u001b[0;34m]\u001b[0m\u001b[0;34m,\u001b[0m \u001b[0md\u001b[0m\u001b[0;34m+\u001b[0m\u001b[0;36m1\u001b[0m\u001b[0;34m)\u001b[0m     \u001b[0;31m# 해당 동전을 추가하고 동전 개수도 +1\u001b[0m\u001b[0;34m\u001b[0m\u001b[0;34m\u001b[0m\u001b[0m\n\u001b[0m\u001b[1;32m     14\u001b[0m   \u001b[0;32mreturn\u001b[0m\u001b[0;34m\u001b[0m\u001b[0;34m\u001b[0m\u001b[0m\n\u001b[1;32m     15\u001b[0m \u001b[0;34m\u001b[0m\u001b[0m\n",
            "\u001b[0;32m<ipython-input-22-2033910358>\u001b[0m in \u001b[0;36mf\u001b[0;34m(won, d)\u001b[0m\n\u001b[1;32m      2\u001b[0m \u001b[0mans\u001b[0m \u001b[0;34m=\u001b[0m \u001b[0;36m9999999999\u001b[0m            \u001b[0;31m# 조건을 만족하는 경우 중 가장 적게 쓴 동전 개수를 저장하는 전역 변수\u001b[0m\u001b[0;34m\u001b[0m\u001b[0;34m\u001b[0m\u001b[0m\n\u001b[1;32m      3\u001b[0m \u001b[0mcoin\u001b[0m \u001b[0;34m=\u001b[0m\u001b[0;34m[\u001b[0m\u001b[0;36m500\u001b[0m\u001b[0;34m,\u001b[0m \u001b[0;36m100\u001b[0m\u001b[0;34m,\u001b[0m \u001b[0;36m50\u001b[0m\u001b[0;34m,\u001b[0m \u001b[0;36m10\u001b[0m\u001b[0;34m]\u001b[0m    \u001b[0;31m# 사용 가능한 동전 종류 (큰 것부터)\u001b[0m\u001b[0;34m\u001b[0m\u001b[0;34m\u001b[0m\u001b[0m\n\u001b[0;32m----> 4\u001b[0;31m \u001b[0;32mdef\u001b[0m \u001b[0mf\u001b[0m\u001b[0;34m(\u001b[0m\u001b[0mwon\u001b[0m\u001b[0;34m,\u001b[0m\u001b[0md\u001b[0m\u001b[0;34m)\u001b[0m\u001b[0;34m:\u001b[0m               \u001b[0;31m# (현재까지 사용한 동전들의 합, 현재까지 사용한 동전의 개수)\u001b[0m\u001b[0;34m\u001b[0m\u001b[0;34m\u001b[0m\u001b[0m\n\u001b[0m\u001b[1;32m      5\u001b[0m   \u001b[0;32mglobal\u001b[0m \u001b[0mans\u001b[0m\u001b[0;34m\u001b[0m\u001b[0;34m\u001b[0m\u001b[0m\n\u001b[1;32m      6\u001b[0m   \u001b[0;32mif\u001b[0m \u001b[0mwon\u001b[0m \u001b[0;34m>\u001b[0m \u001b[0mn\u001b[0m\u001b[0;34m:\u001b[0m               \u001b[0;31m# 금액을 초과하면 종료\u001b[0m\u001b[0;34m\u001b[0m\u001b[0;34m\u001b[0m\u001b[0m\n",
            "\u001b[0;31mKeyboardInterrupt\u001b[0m: "
          ]
        }
      ]
    },
    {
      "cell_type": "code",
      "source": [
        "# 최소 동전의 개수 구하기(분기한정법)\n",
        "\n",
        "ans = 9999999999            # 조건을 만족하는 경우 중 가장 적게 쓴 동전 개수를 저장하는 전역 변수\n",
        "coin = [500, 100, 50, 10]   # 사용 가능한 동전 종류 (큰 것부터)\n",
        "def ff(won, d):             # (현재까지 사용한 동전들의 합, 현재까지 사용한 동전의 개수)\n",
        "  global ans\n",
        "  if won > n:               # 금액을 초과하면 종료\n",
        "    return\n",
        "  if d >= ans:              # ★동전의 수가 지금까지 계산된 동전 수보다 크거나 같은 함수는 호출하지 않음(가지치기)\n",
        "    return\n",
        "  if won == n:              # 정확히 맞게 지불한 경우\n",
        "    ans = min(d, ans)       # 지금까지 사용한 동전 수(d)와 기존 ans 중 더 작은 값 저장\n",
        "    return\n",
        "  for i in range(4):        # 4종류의 동전을 모두 시도\n",
        "    f(won+coin[i], d+1)     # 해당 동전을 추가하고 동전 개수도 +1\n",
        "  return\n",
        "n=int(input('지불할 금액을 입력하세요: '))\n",
        "f(0,0)\n",
        "print(f'최소동전의 개수 : {ans}개')"
      ],
      "metadata": {
        "id": "HehtGWr_BV0p",
        "colab": {
          "base_uri": "https://localhost:8080/"
        },
        "outputId": "7763c118-a5f8-4e06-c272-f79fa3962b10"
      },
      "execution_count": null,
      "outputs": [
        {
          "output_type": "stream",
          "name": "stdout",
          "text": [
            "지불할 금액을 입력하세요: 510\n",
            "최소동전의 개수 : 2개\n"
          ]
        }
      ]
    },
    {
      "cell_type": "code",
      "source": [
        "# 최소 동전의 개수 구하기(탐욕법)\n",
        "ans = 0                     # 동전의 최소 개수를 저장할 변수 선언\n",
        "coin = [500, 100, 50, 10]   # 사용 가능한 동전 종류 (큰 것부터)\n",
        "\n",
        "n=int(input('지불할 금액을 입력하세요: '))\n",
        "for i in range(4):\n",
        "  ans = ans + (n//coin[i])\n",
        "  n = n%coin[i]\n",
        "\n",
        "print(f'최소동전의 개수 : {ans}개')"
      ],
      "metadata": {
        "id": "y2LjL1z-E-ro",
        "colab": {
          "base_uri": "https://localhost:8080/"
        },
        "outputId": "79c82843-4ecd-460d-ced6-d2a1b01265ae"
      },
      "execution_count": null,
      "outputs": [
        {
          "output_type": "stream",
          "name": "stdout",
          "text": [
            "지불할 금액을 입력하세요: 70\n",
            "최소동전의 개수 : 3개\n"
          ]
        }
      ]
    }
  ]
}